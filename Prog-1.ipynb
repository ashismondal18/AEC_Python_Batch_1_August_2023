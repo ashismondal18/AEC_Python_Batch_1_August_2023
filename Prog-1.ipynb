{
 "cells": [
  {
   "cell_type": "markdown",
   "id": "337340c9-7fc2-4738-a3cf-9882b3dcbf44",
   "metadata": {},
   "source": [
    "## **Introduction to Python**"
   ]
  },
  {
   "cell_type": "markdown",
   "id": "0cc62b30-3114-488b-903e-a8e1eaf05867",
   "metadata": {},
   "source": [
    "### Comment Line"
   ]
  },
  {
   "cell_type": "code",
   "execution_count": 51,
   "id": "82a6ea6d-f38b-496d-9347-8556f11eec64",
   "metadata": {},
   "outputs": [],
   "source": [
    "# This is a comment line\n",
    "# All comment lines will be preceeded by the # symbol\n",
    "# This is the last comment line"
   ]
  },
  {
   "cell_type": "markdown",
   "id": "f98dfdb5-c5e1-4353-b2f9-4b8e618b7ced",
   "metadata": {},
   "source": [
    "### Inputs and Outputs"
   ]
  },
  {
   "cell_type": "code",
   "execution_count": 2,
   "id": "ae328ae4-2b70-444f-9e24-ae635a4559cd",
   "metadata": {},
   "outputs": [
    {
     "name": "stdin",
     "output_type": "stream",
     "text": [
      "Please enter the first number:  100\n",
      "Please enter the second number:  200\n"
     ]
    },
    {
     "name": "stdout",
     "output_type": "stream",
     "text": [
      "100 <class 'str'> 2168756803120\n",
      "200 <class 'str'> 2168756802864\n",
      "So total = 100200\n",
      "End of the program...\n"
     ]
    }
   ],
   "source": [
    "num1 = input(\"Please enter the first number: \")\n",
    "num2 = input(\"Please enter the second number: \")\n",
    "print (num1, type(num1), id(num1))\n",
    "print (num2, type(num2), id(num2))\n",
    "total = num1 + num2   # string concatenation\n",
    "print (\"So total =\", total)\n",
    "print (\"End of the program...\")"
   ]
  },
  {
   "cell_type": "code",
   "execution_count": 4,
   "id": "0876f510-1ad1-4860-b36b-046418da1abf",
   "metadata": {},
   "outputs": [
    {
     "name": "stdin",
     "output_type": "stream",
     "text": [
      "Please enter the first number:  200\n",
      "Please enter the second number:  300\n"
     ]
    },
    {
     "name": "stdout",
     "output_type": "stream",
     "text": [
      "200 <class 'int'> 2168670394832\n",
      "300 <class 'int'> 2168756057712\n",
      "So total = 500\n",
      "End of the program...\n"
     ]
    }
   ],
   "source": [
    "num1 = int(input(\"Please enter the first number: \"))\n",
    "num2 = int(input(\"Please enter the second number: \"))\n",
    "print (num1, type(num1), id(num1))\n",
    "print (num2, type(num2), id(num2))\n",
    "total = num1 + num2   # string concatenation\n",
    "print (\"So total =\", total)\n",
    "print (\"End of the program...\")"
   ]
  },
  {
   "cell_type": "code",
   "execution_count": 17,
   "id": "7ee1a934-3d4b-4297-9cfd-06672507fbfb",
   "metadata": {},
   "outputs": [
    {
     "name": "stdout",
     "output_type": "stream",
     "text": [
      "So 200 + 300 = 500\n",
      "So 200 + 300 = 500\n",
      "So 200 + 300 = 500\n",
      "So 200 + 300 = 500\n",
      "So 200 + 300 = 500\n",
      "So 200 + 300 = 500\n",
      "So 200 + 300 = 500\n",
      "So 200 + 300 = 500\n",
      "So 200 + 300.000000 = 500\n",
      "So 200 +   300.00 = 500\n",
      "So 200 + 300 = 500\n"
     ]
    }
   ],
   "source": [
    "print (\"So\", num1, \"+\", num2, \"=\", total)\n",
    "print (\"So \" + str(num1) + \" + \" + str(num2) + \" = \" +str(total))\n",
    "print (\"So {} + {} = {}\".format(num1, num2, total))   # {} denotes variable place-holder\n",
    "print (\"So {0} + {1} = {2}\".format(num1, num2, total))  # numbered place holder\n",
    "print (\"So {2} + {1} = {0}\".format(total, num2, num1))  # numbered place holder\n",
    "print (\"So {fn} + {sn} = {tot}\".format(fn = num1, sn = num2, tot = total))   # labelled place-holder\n",
    "print (\"So {fn} + {sn} = {tot}\".format(sn = num2, tot = total, fn = num1))\n",
    "print (\"So %d + %d = %d\"%(num1, num2, total))\n",
    "print (\"So %d + %f = %d\"%(num1, num2, total))\n",
    "print (\"So %d + %8.2f = %d\"%(num1, num2, total))\n",
    "print (f\"So {num1} + {num2} = {total}\")   # smart formatting available from Python 2.7 version"
   ]
  },
  {
   "cell_type": "markdown",
   "id": "eb60f92a-d28f-4e8f-80b7-6408d61dd299",
   "metadata": {},
   "source": [
    "### Dynamic Variable Types"
   ]
  },
  {
   "cell_type": "code",
   "execution_count": 18,
   "id": "b905303c-af69-4e5b-84bf-2d262a395e2d",
   "metadata": {},
   "outputs": [
    {
     "name": "stdout",
     "output_type": "stream",
     "text": [
      "100 <class 'int'> 2168670391632\n",
      "100.45 <class 'float'> 2168774823408\n",
      "India <class 'str'> 2168784889456\n",
      "I <class 'str'> 2168678442608\n",
      "True <class 'bool'> 140730126190800\n",
      "False <class 'bool'> 140730126190832\n"
     ]
    }
   ],
   "source": [
    "var1 = 100\n",
    "print (var1, type(var1), id(var1))\n",
    "var1 = 100.45\n",
    "print (var1, type(var1), id(var1))\n",
    "var1 = \"India\"\n",
    "print (var1, type(var1), id(var1))\n",
    "var1 = \"I\"\n",
    "print (var1, type(var1), id(var1))\n",
    "var1 = True\n",
    "print (var1, type(var1), id(var1))\n",
    "var1 = False\n",
    "print (var1, type(var1), id(var1))"
   ]
  },
  {
   "cell_type": "code",
   "execution_count": 19,
   "id": "5606b0e5-1ad0-42df-bd76-ac2998c2b628",
   "metadata": {},
   "outputs": [
    {
     "name": "stdout",
     "output_type": "stream",
     "text": [
      "100 2168670391632\n",
      "100 2168670391632\n",
      "100 2168670391632\n"
     ]
    }
   ],
   "source": [
    "var1 = 100\n",
    "var2 = var1\n",
    "var3 = 100\n",
    "print (var1, id(var1))\n",
    "print (var2, id(var2))\n",
    "print (var3, id(var3))"
   ]
  },
  {
   "cell_type": "code",
   "execution_count": 23,
   "id": "2c6a437d-47f8-4708-9471-cae0160abb0e",
   "metadata": {},
   "outputs": [
    {
     "name": "stdout",
     "output_type": "stream",
     "text": [
      "257 2168784092368\n",
      "257 2168784092368\n",
      "257 2168784091696\n"
     ]
    }
   ],
   "source": [
    "var1 = 257\n",
    "var2 = var1\n",
    "var3 = 257\n",
    "print (var1, id(var1))\n",
    "print (var2, id(var2))\n",
    "print (var3, id(var3))"
   ]
  },
  {
   "cell_type": "code",
   "execution_count": 26,
   "id": "60a605a7-7e62-4794-ac7a-8eb1972add5a",
   "metadata": {},
   "outputs": [
    {
     "name": "stdout",
     "output_type": "stream",
     "text": [
      "-6 2168784091504\n",
      "-6 2168784091504\n",
      "-6 2168784091344\n"
     ]
    }
   ],
   "source": [
    "# for the values in the range -5 to 256, same memory spaces will be referenced by the variables\n",
    "var1 = -6\n",
    "var2 = var1\n",
    "var3 = -6\n",
    "print (var1, id(var1))\n",
    "print (var2, id(var2))\n",
    "print (var3, id(var3))"
   ]
  },
  {
   "cell_type": "markdown",
   "id": "57c3b4df-0079-4673-81f8-ca92ba856834",
   "metadata": {},
   "source": [
    "### Python Operators"
   ]
  },
  {
   "cell_type": "code",
   "execution_count": 27,
   "id": "a583ab14-52b7-409b-8e65-ccc402ba3d07",
   "metadata": {},
   "outputs": [
    {
     "name": "stdout",
     "output_type": "stream",
     "text": [
      "140\n",
      "60\n",
      "4000\n",
      "2.5\n",
      "2\n",
      "20\n",
      "100000000\n"
     ]
    }
   ],
   "source": [
    "# arithmetic operators\n",
    "print (100 + 40)\n",
    "print (100 - 40)\n",
    "print (100 * 40)\n",
    "print (100 / 40)\n",
    "print (100 // 40)\n",
    "print (100 % 40)\n",
    "print (100 ** 4)"
   ]
  },
  {
   "cell_type": "code",
   "execution_count": null,
   "id": "51b50fd6-3d6c-452d-b188-2e8ae1461c16",
   "metadata": {},
   "outputs": [],
   "source": [
    "Operators can be categorized in followin types:\n",
    "    1. Unary Operator (only one operand), e.g. +100, -40\n",
    "    2. Binary Operator (only two operands), e.g. 100 + 30  100 / 30\n",
    "    3. Ternary Operator (only three operands)"
   ]
  },
  {
   "cell_type": "code",
   "execution_count": 41,
   "id": "508f80ab-2bc3-480f-bac5-6413759bb787",
   "metadata": {},
   "outputs": [
    {
     "name": "stdout",
     "output_type": "stream",
     "text": [
      "100 -100\n",
      "Hello Hello Hello Hello Hello \n",
      "Banana\n"
     ]
    }
   ],
   "source": [
    "print (+100, -100)   # unary operator\n",
    "print (\"Hello \" * 5)   # binary operator\n",
    "print (\"Bana\" + \"na\")"
   ]
  },
  {
   "cell_type": "code",
   "execution_count": 29,
   "id": "8ee46282-3277-43e2-b1eb-3ed926fde03a",
   "metadata": {},
   "outputs": [
    {
     "name": "stdout",
     "output_type": "stream",
     "text": [
      "So 100 is an Even number...\n",
      "So 101 is an Odd number...\n"
     ]
    }
   ],
   "source": [
    "num1 = 100\n",
    "result = \"Even\" if (num1 % 2 == 0) else \"Odd\"  # result = num1 % 2 == 0? \"Even\": \"Odd\";\n",
    "print (f\"So {num1} is an {result} number...\")\n",
    "       \n",
    "num1 = 101\n",
    "result = \"Even\" if (num1 % 2 == 0) else \"Odd\"\n",
    "print (f\"So {num1} is an {result} number...\")"
   ]
  },
  {
   "cell_type": "code",
   "execution_count": 32,
   "id": "d4663d27-b796-4db3-8554-c1dcb485edec",
   "metadata": {},
   "outputs": [
    {
     "name": "stdout",
     "output_type": "stream",
     "text": [
      "True True True\n",
      "False False False True\n",
      "False True True True\n",
      "False True\n"
     ]
    }
   ],
   "source": [
    "# relational operators: > >= < <= != ==\n",
    "print (100 > 40, 100 >= 40, 100 != 40)\n",
    "# logical operators: and or not\n",
    "print (False and False, False and True, True and False, True and True)\n",
    "print (False or False, False or True, True or False, True or True)\n",
    "print (not True, not False)"
   ]
  },
  {
   "cell_type": "markdown",
   "id": "1f74471e-2197-4daa-8d9e-c6c2726e543c",
   "metadata": {},
   "source": [
    "### ASCII Codes"
   ]
  },
  {
   "cell_type": "code",
   "execution_count": 34,
   "id": "15bf531d-003e-497c-8648-0f7d1db288d2",
   "metadata": {},
   "outputs": [],
   "source": [
    "# ASCII (American Standard Code for Information Interchange)\n",
    "# ASCII codes are 8 bit numbers, 256 combinations and ranging from 0 to 255\n",
    "# Normal ASCII Codes: 0 to 127 (printable)\n",
    "# Extendedl ASCII Codes: 128 to 255 (non-printable)\n",
    "# A => 65, B => 66, ... Z => 90\n",
    "# a => 97, b => 98, ... z => 122\n",
    "# 0 => 48, 1 => 49, ... 9 => 57\n",
    "# Space => 32, Enter => 13, Tab => 8, Back Space => 9"
   ]
  },
  {
   "cell_type": "code",
   "execution_count": 37,
   "id": "e21d8b1f-8490-43d4-a905-5ae2a6905538",
   "metadata": {},
   "outputs": [
    {
     "name": "stdout",
     "output_type": "stream",
     "text": [
      "A 65\n",
      "Z 90\n",
      "a 97\n",
      "z 122\n"
     ]
    }
   ],
   "source": [
    "var1 = \"A\"\n",
    "print (var1, ord(var1))\n",
    "var1 = \"Z\"\n",
    "print (var1, ord(var1))\n",
    "var1 = \"a\"\n",
    "print (var1, ord(var1))\n",
    "var1 = \"z\"\n",
    "print (var1, ord(var1))"
   ]
  },
  {
   "cell_type": "code",
   "execution_count": 39,
   "id": "9228a285-36cb-451c-a5c5-8c7c5e9cd271",
   "metadata": {},
   "outputs": [
    {
     "name": "stdout",
     "output_type": "stream",
     "text": [
      "65 A\n",
      "90 Z\n",
      "97 a\n",
      "122 z\n"
     ]
    }
   ],
   "source": [
    "var1 = 65\n",
    "print (var1, chr(var1))\n",
    "var1 = 90\n",
    "print (var1, chr(var1))\n",
    "var1 = 97\n",
    "print (var1, chr(var1))\n",
    "var1 = 122\n",
    "print (var1, chr(var1))"
   ]
  },
  {
   "cell_type": "markdown",
   "id": "d61e83d8-e490-4e44-9e3f-6f9c30c6b419",
   "metadata": {},
   "source": [
    "### Bitwise Operators"
   ]
  },
  {
   "cell_type": "code",
   "execution_count": null,
   "id": "1cedd4e0-10c4-4607-baf0-6c6a4808db39",
   "metadata": {},
   "outputs": [],
   "source": [
    "#             122  58   26\n",
    "# 250 = 128 + 64 + 32 + 16 + 8 + 2 = 1111 1010\n",
    "              244   116  52\n",
    "# 500 = 256 + 128 + 64 + 32 + 16 + 4 = 1 1111 0100\n",
    "# 125 = 0111 1101"
   ]
  },
  {
   "cell_type": "code",
   "execution_count": 45,
   "id": "1243e22b-16a8-4645-b75e-cc86980392f6",
   "metadata": {},
   "outputs": [
    {
     "name": "stdout",
     "output_type": "stream",
     "text": [
      "250 500 125\n",
      "250 2000 2000\n",
      "2000 250 250\n"
     ]
    }
   ],
   "source": [
    "# bitwise operators: >> << & | ^\n",
    "# num1 << n = num1 * (2**n)\n",
    "# num1 >> n = num1 // (2**n)\n",
    "var1 = 250\n",
    "print (var1, var1 << 1, var1 >> 1)\n",
    "print (var1, var1 << 3, var1 * (2 ** 3))\n",
    "var1 = 2000\n",
    "print (var1, var1 >> 3, var1 // (2 ** 3))"
   ]
  },
  {
   "cell_type": "code",
   "execution_count": null,
   "id": "b710b570-3f64-4c66-be26-887dd83a37cf",
   "metadata": {},
   "outputs": [],
   "source": [
    "# A => 65 = 64 + 1      = 0100 0001\n",
    "                       or 0010 0000 => 32 \n",
    "                          ---------\n",
    "# a => 97 = 64 + 32 + 1 = 0110 0001"
   ]
  },
  {
   "cell_type": "code",
   "execution_count": 48,
   "id": "ddf05f41-450d-40e7-a29b-55f90cefec69",
   "metadata": {},
   "outputs": [
    {
     "name": "stdout",
     "output_type": "stream",
     "text": [
      "A a\n"
     ]
    }
   ],
   "source": [
    "char1 = \"A\"\n",
    "char2 = chr(ord(char1) | 32)\n",
    "print (char1, char2)"
   ]
  },
  {
   "cell_type": "code",
   "execution_count": null,
   "id": "714d2423-1ba0-44a4-9409-8c59f7bbf62e",
   "metadata": {},
   "outputs": [],
   "source": [
    "a and 0 = 0\n",
    "a and 1 = a\n",
    "a and a = a\n",
    "a and a' = 0\n",
    "\n",
    "a or 0 = a\n",
    "a or 1 = 1\n",
    "a or a = a\n",
    "a or a' = 1\n",
    "\n",
    "a xor 0 = a\n",
    "a xor 1 = a'\n",
    "a xor a = 0\n",
    "a xor a' = 1"
   ]
  },
  {
   "cell_type": "code",
   "execution_count": null,
   "id": "0231c475-22a7-4fcb-ab2a-84faaf591501",
   "metadata": {},
   "outputs": [],
   "source": [
    "# a => 97 = 64 + 32 + 1 = 0110 0001\n",
    "                      and 1101 1111 => 255 - 32 = 223\n",
    "                          ---------\n",
    "# A => 65 = 64 + 1      = 0100 0001"
   ]
  },
  {
   "cell_type": "code",
   "execution_count": 49,
   "id": "cf1e6ded-9cb0-4c3f-b2a5-0ac16914094a",
   "metadata": {},
   "outputs": [
    {
     "name": "stdout",
     "output_type": "stream",
     "text": [
      "a A\n"
     ]
    }
   ],
   "source": [
    "char1 = \"a\"\n",
    "char2 = chr(ord(char1) & 223)\n",
    "print (char1, char2)"
   ]
  },
  {
   "cell_type": "code",
   "execution_count": null,
   "id": "9152bb9a-ea79-4b98-b37b-d4e4693cedd6",
   "metadata": {},
   "outputs": [],
   "source": [
    "# A => 65 = 64 + 1      = 0100 0001\n",
    "                      xor 0010 0000 => 32  \n",
    "# a => 97 = 64 + 32 + 1 = 0110 0001"
   ]
  },
  {
   "cell_type": "code",
   "execution_count": 50,
   "id": "00b95d48-612e-4f5a-ab78-a67b1b6941bf",
   "metadata": {},
   "outputs": [
    {
     "name": "stdout",
     "output_type": "stream",
     "text": [
      "a A\n",
      "A a\n"
     ]
    }
   ],
   "source": [
    "char1 = \"a\"\n",
    "char2 = chr(ord(char1) ^ 32)\n",
    "print (char1, char2)\n",
    "\n",
    "char1 = \"A\"\n",
    "char2 = chr(ord(char1) ^ 32)\n",
    "print (char1, char2)"
   ]
  },
  {
   "cell_type": "markdown",
   "id": "ecccd4fd-8c1c-4894-9a0c-118d51c0ff45",
   "metadata": {},
   "source": [
    "### Conditional Statements"
   ]
  },
  {
   "cell_type": "code",
   "execution_count": 57,
   "id": "c0c86337-81b0-48b2-93c3-850196cc399c",
   "metadata": {},
   "outputs": [
    {
     "name": "stdin",
     "output_type": "stream",
     "text": [
      "Please enter the first number... 33\n",
      "Please enter the second number... 22\n",
      "Please enter the third number... 11\n"
     ]
    },
    {
     "name": "stdout",
     "output_type": "stream",
     "text": [
      "First number is the maximum number...\n",
      "So the maximum number is 33...\n",
      "End of the program...\n"
     ]
    }
   ],
   "source": [
    "# find the maximum of three user given numbers\n",
    "num1 = int(input(\"Please enter the first number...\"))\n",
    "num2 = int(input(\"Please enter the second number...\"))\n",
    "num3 = int(input(\"Please enter the third number...\"))\n",
    "if (num1 > num2):\n",
    "    if (num1 > num3):\n",
    "        print (\"First number is the maximum number...\")\n",
    "        print (f\"So the maximum number is {num1}...\")\n",
    "    else:\n",
    "        print (\"Third number is the maximum number...\")\n",
    "        print (f\"So the maximum number is {num3}...\")\n",
    "elif (num2 > num3):\n",
    "    print (\"Second number is the maximum number...\")\n",
    "    print (f\"So the maximum number is {num2}...\")\n",
    "else:\n",
    "    print (\"Third number is the maximum number...\")\n",
    "    print (f\"So the maximum number is {num3}...\")\n",
    "print (\"End of the program...\")"
   ]
  },
  {
   "cell_type": "code",
   "execution_count": 61,
   "id": "639bc8d5-865c-42df-b8d8-3dd2c4a4680c",
   "metadata": {},
   "outputs": [
    {
     "name": "stdin",
     "output_type": "stream",
     "text": [
      "Please enter the first number... 11\n",
      "Please enter the second number... 22\n",
      "Please enter the third number... 33\n"
     ]
    },
    {
     "name": "stdout",
     "output_type": "stream",
     "text": [
      "Third number is the maximum number...\n",
      "So the maximum number is 33...\n",
      "End of the program...\n"
     ]
    }
   ],
   "source": [
    "# find the maximum of three user given numbers\n",
    "num1 = int(input(\"Please enter the first number...\"))\n",
    "num2 = int(input(\"Please enter the second number...\"))\n",
    "num3 = int(input(\"Please enter the third number...\"))\n",
    "if (num1 > num2 and num1 > num3):\n",
    "    print (\"First number is the maximum number...\")\n",
    "    print (f\"So the maximum number is {num1}...\")\n",
    "elif (num2 > num3):\n",
    "    print (\"Second number is the maximum number...\")\n",
    "    print (f\"So the maximum number is {num2}...\")\n",
    "else:\n",
    "    print (\"Third number is the maximum number...\")\n",
    "    print (f\"So the maximum number is {num3}...\")\n",
    "print (\"End of the program...\")"
   ]
  },
  {
   "cell_type": "code",
   "execution_count": null,
   "id": "4e136800-e4f2-4f89-98fe-50af3c0f97c4",
   "metadata": {},
   "outputs": [],
   "source": [
    "# Class Assignment: # find the second maximum of three user given numbers\n",
    "Step-1:\n",
    "At first compare num1 and num2, and put the maximum of them in max1\n",
    "and other number in max2\n",
    "Step-2:\n",
    "Now we shall deal with - max1, max2 and num3\n",
    "Let us consider:\n",
    "                      max1       max2\n",
    "                      500        300\n",
    "      num3 ->   700         400         200\n",
    "second max ->         500   400         300\n",
    "                      max1  num3        max2"
   ]
  },
  {
   "cell_type": "code",
   "execution_count": 60,
   "id": "dabab243-8d5f-49eb-8c43-f44ac6dd34e8",
   "metadata": {},
   "outputs": [
    {
     "name": "stdin",
     "output_type": "stream",
     "text": [
      "Please enter the first number... 33\n",
      "Please enter the second number... 11\n",
      "Please enter the third number... 22\n"
     ]
    },
    {
     "name": "stdout",
     "output_type": "stream",
     "text": [
      "So out of 33, 11 and 22, second maximum is 22...\n",
      "End of the program...\n"
     ]
    }
   ],
   "source": [
    "# find the second maximum of three user given numbers\n",
    "num1 = int(input(\"Please enter the first number...\"))\n",
    "num2 = int(input(\"Please enter the second number...\"))\n",
    "num3 = int(input(\"Please enter the third number...\"))\n",
    "# step-1\n",
    "if (num1 > num2): max1 = num1; max2 = num2\n",
    "else: max1 = num2; max2 = num1\n",
    "# step-2\n",
    "if (num3 > max1): smax = max1\n",
    "elif (num3 > max2): smax = num3\n",
    "else: smax = max2\n",
    "print (f\"So out of {num1}, {num2} and {num3}, second maximum is {smax}...\")\n",
    "print (\"End of the program...\")"
   ]
  },
  {
   "cell_type": "code",
   "execution_count": null,
   "id": "7df9b528-8998-4d81-9aea-0a9a2f9ead8d",
   "metadata": {},
   "outputs": [],
   "source": []
  },
  {
   "cell_type": "code",
   "execution_count": null,
   "id": "b7da77e5-3c91-4c34-b2e5-67c03b28d42d",
   "metadata": {},
   "outputs": [],
   "source": []
  },
  {
   "cell_type": "code",
   "execution_count": null,
   "id": "0602ca3c-2ae7-42bd-8cd9-1a820ebd1ec2",
   "metadata": {},
   "outputs": [],
   "source": []
  },
  {
   "cell_type": "code",
   "execution_count": null,
   "id": "76e0e348-9908-41e0-90ee-bf5d3aa4c123",
   "metadata": {},
   "outputs": [],
   "source": []
  },
  {
   "cell_type": "code",
   "execution_count": null,
   "id": "ad4059c2-4028-449a-9860-01bcc823d096",
   "metadata": {},
   "outputs": [],
   "source": []
  },
  {
   "cell_type": "code",
   "execution_count": null,
   "id": "9cb8bc7d-c46e-4224-91a8-f33f5a41af43",
   "metadata": {},
   "outputs": [],
   "source": []
  },
  {
   "cell_type": "code",
   "execution_count": null,
   "id": "803b9474-a98c-48fe-a4fe-19431f1475e3",
   "metadata": {},
   "outputs": [],
   "source": []
  },
  {
   "cell_type": "code",
   "execution_count": null,
   "id": "466c050c-a4b1-497f-bd41-23edd97ec81e",
   "metadata": {},
   "outputs": [],
   "source": []
  },
  {
   "cell_type": "code",
   "execution_count": null,
   "id": "0a2e4d2f-5da0-415e-a361-12b8d5cca297",
   "metadata": {},
   "outputs": [],
   "source": []
  },
  {
   "cell_type": "code",
   "execution_count": null,
   "id": "1bc00605-9b62-4e9a-a5ed-466c08fc5ecf",
   "metadata": {},
   "outputs": [],
   "source": []
  },
  {
   "cell_type": "code",
   "execution_count": null,
   "id": "aaab5f14-3464-45bb-809f-81b6913d75d1",
   "metadata": {},
   "outputs": [],
   "source": []
  },
  {
   "cell_type": "code",
   "execution_count": null,
   "id": "25ed596a-b406-43a5-bd03-3e1a07b51a15",
   "metadata": {},
   "outputs": [],
   "source": []
  },
  {
   "cell_type": "code",
   "execution_count": null,
   "id": "7b0a4190-0c9e-4b29-b077-62e5c7ae0afd",
   "metadata": {},
   "outputs": [],
   "source": []
  },
  {
   "cell_type": "code",
   "execution_count": null,
   "id": "1c3af369-900a-480f-b88e-0678ab7fc29b",
   "metadata": {},
   "outputs": [],
   "source": []
  }
 ],
 "metadata": {
  "kernelspec": {
   "display_name": "Python 3 (ipykernel)",
   "language": "python",
   "name": "python3"
  },
  "language_info": {
   "codemirror_mode": {
    "name": "ipython",
    "version": 3
   },
   "file_extension": ".py",
   "mimetype": "text/x-python",
   "name": "python",
   "nbconvert_exporter": "python",
   "pygments_lexer": "ipython3",
   "version": "3.10.9"
  }
 },
 "nbformat": 4,
 "nbformat_minor": 5
}
