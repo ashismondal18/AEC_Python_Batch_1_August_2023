{
 "cells": [
  {
   "cell_type": "markdown",
   "id": "337340c9-7fc2-4738-a3cf-9882b3dcbf44",
   "metadata": {},
   "source": [
    "## **Introduction to Python**"
   ]
  },
  {
   "cell_type": "markdown",
   "id": "0cc62b30-3114-488b-903e-a8e1eaf05867",
   "metadata": {},
   "source": [
    "### Comment Line"
   ]
  },
  {
   "cell_type": "code",
   "execution_count": 51,
   "id": "82a6ea6d-f38b-496d-9347-8556f11eec64",
   "metadata": {},
   "outputs": [],
   "source": [
    "# This is a comment line\n",
    "# All comment lines will be preceeded by the # symbol\n",
    "# This is the last comment line"
   ]
  },
  {
   "cell_type": "markdown",
   "id": "f98dfdb5-c5e1-4353-b2f9-4b8e618b7ced",
   "metadata": {},
   "source": [
    "### Inputs and Outputs"
   ]
  },
  {
   "cell_type": "code",
   "execution_count": 2,
   "id": "ae328ae4-2b70-444f-9e24-ae635a4559cd",
   "metadata": {},
   "outputs": [
    {
     "name": "stdin",
     "output_type": "stream",
     "text": [
      "Please enter the first number:  100\n",
      "Please enter the second number:  200\n"
     ]
    },
    {
     "name": "stdout",
     "output_type": "stream",
     "text": [
      "100 <class 'str'> 2168756803120\n",
      "200 <class 'str'> 2168756802864\n",
      "So total = 100200\n",
      "End of the program...\n"
     ]
    }
   ],
   "source": [
    "num1 = input(\"Please enter the first number: \")\n",
    "num2 = input(\"Please enter the second number: \")\n",
    "print (num1, type(num1), id(num1))\n",
    "print (num2, type(num2), id(num2))\n",
    "total = num1 + num2   # string concatenation\n",
    "print (\"So total =\", total)\n",
    "print (\"End of the program...\")"
   ]
  },
  {
   "cell_type": "code",
   "execution_count": 4,
   "id": "0876f510-1ad1-4860-b36b-046418da1abf",
   "metadata": {},
   "outputs": [
    {
     "name": "stdin",
     "output_type": "stream",
     "text": [
      "Please enter the first number:  200\n",
      "Please enter the second number:  300\n"
     ]
    },
    {
     "name": "stdout",
     "output_type": "stream",
     "text": [
      "200 <class 'int'> 2168670394832\n",
      "300 <class 'int'> 2168756057712\n",
      "So total = 500\n",
      "End of the program...\n"
     ]
    }
   ],
   "source": [
    "num1 = int(input(\"Please enter the first number: \"))\n",
    "num2 = int(input(\"Please enter the second number: \"))\n",
    "print (num1, type(num1), id(num1))\n",
    "print (num2, type(num2), id(num2))\n",
    "total = num1 + num2   # string concatenation\n",
    "print (\"So total =\", total)\n",
    "print (\"End of the program...\")"
   ]
  },
  {
   "cell_type": "code",
   "execution_count": 17,
   "id": "7ee1a934-3d4b-4297-9cfd-06672507fbfb",
   "metadata": {},
   "outputs": [
    {
     "name": "stdout",
     "output_type": "stream",
     "text": [
      "So 200 + 300 = 500\n",
      "So 200 + 300 = 500\n",
      "So 200 + 300 = 500\n",
      "So 200 + 300 = 500\n",
      "So 200 + 300 = 500\n",
      "So 200 + 300 = 500\n",
      "So 200 + 300 = 500\n",
      "So 200 + 300 = 500\n",
      "So 200 + 300.000000 = 500\n",
      "So 200 +   300.00 = 500\n",
      "So 200 + 300 = 500\n"
     ]
    }
   ],
   "source": [
    "print (\"So\", num1, \"+\", num2, \"=\", total)\n",
    "print (\"So \" + str(num1) + \" + \" + str(num2) + \" = \" +str(total))\n",
    "print (\"So {} + {} = {}\".format(num1, num2, total))   # {} denotes variable place-holder\n",
    "print (\"So {0} + {1} = {2}\".format(num1, num2, total))  # numbered place holder\n",
    "print (\"So {2} + {1} = {0}\".format(total, num2, num1))  # numbered place holder\n",
    "print (\"So {fn} + {sn} = {tot}\".format(fn = num1, sn = num2, tot = total))   # labelled place-holder\n",
    "print (\"So {fn} + {sn} = {tot}\".format(sn = num2, tot = total, fn = num1))\n",
    "print (\"So %d + %d = %d\"%(num1, num2, total))\n",
    "print (\"So %d + %f = %d\"%(num1, num2, total))\n",
    "print (\"So %d + %8.2f = %d\"%(num1, num2, total))\n",
    "print (f\"So {num1} + {num2} = {total}\")   # smart formatting available from Python 2.7 version"
   ]
  },
  {
   "cell_type": "markdown",
   "id": "eb60f92a-d28f-4e8f-80b7-6408d61dd299",
   "metadata": {},
   "source": [
    "### Dynamic Variable Types"
   ]
  },
  {
   "cell_type": "code",
   "execution_count": 18,
   "id": "b905303c-af69-4e5b-84bf-2d262a395e2d",
   "metadata": {},
   "outputs": [
    {
     "name": "stdout",
     "output_type": "stream",
     "text": [
      "100 <class 'int'> 2168670391632\n",
      "100.45 <class 'float'> 2168774823408\n",
      "India <class 'str'> 2168784889456\n",
      "I <class 'str'> 2168678442608\n",
      "True <class 'bool'> 140730126190800\n",
      "False <class 'bool'> 140730126190832\n"
     ]
    }
   ],
   "source": [
    "var1 = 100\n",
    "print (var1, type(var1), id(var1))\n",
    "var1 = 100.45\n",
    "print (var1, type(var1), id(var1))\n",
    "var1 = \"India\"\n",
    "print (var1, type(var1), id(var1))\n",
    "var1 = \"I\"\n",
    "print (var1, type(var1), id(var1))\n",
    "var1 = True\n",
    "print (var1, type(var1), id(var1))\n",
    "var1 = False\n",
    "print (var1, type(var1), id(var1))"
   ]
  },
  {
   "cell_type": "code",
   "execution_count": 19,
   "id": "5606b0e5-1ad0-42df-bd76-ac2998c2b628",
   "metadata": {},
   "outputs": [
    {
     "name": "stdout",
     "output_type": "stream",
     "text": [
      "100 2168670391632\n",
      "100 2168670391632\n",
      "100 2168670391632\n"
     ]
    }
   ],
   "source": [
    "var1 = 100\n",
    "var2 = var1\n",
    "var3 = 100\n",
    "print (var1, id(var1))\n",
    "print (var2, id(var2))\n",
    "print (var3, id(var3))"
   ]
  },
  {
   "cell_type": "code",
   "execution_count": 23,
   "id": "2c6a437d-47f8-4708-9471-cae0160abb0e",
   "metadata": {},
   "outputs": [
    {
     "name": "stdout",
     "output_type": "stream",
     "text": [
      "257 2168784092368\n",
      "257 2168784092368\n",
      "257 2168784091696\n"
     ]
    }
   ],
   "source": [
    "var1 = 257\n",
    "var2 = var1\n",
    "var3 = 257\n",
    "print (var1, id(var1))\n",
    "print (var2, id(var2))\n",
    "print (var3, id(var3))"
   ]
  },
  {
   "cell_type": "code",
   "execution_count": 26,
   "id": "60a605a7-7e62-4794-ac7a-8eb1972add5a",
   "metadata": {},
   "outputs": [
    {
     "name": "stdout",
     "output_type": "stream",
     "text": [
      "-6 2168784091504\n",
      "-6 2168784091504\n",
      "-6 2168784091344\n"
     ]
    }
   ],
   "source": [
    "# for the values in the range -5 to 256, same memory spaces will be referenced by the variables\n",
    "var1 = -6\n",
    "var2 = var1\n",
    "var3 = -6\n",
    "print (var1, id(var1))\n",
    "print (var2, id(var2))\n",
    "print (var3, id(var3))"
   ]
  },
  {
   "cell_type": "markdown",
   "id": "57c3b4df-0079-4673-81f8-ca92ba856834",
   "metadata": {},
   "source": [
    "### Python Operators"
   ]
  },
  {
   "cell_type": "code",
   "execution_count": 27,
   "id": "a583ab14-52b7-409b-8e65-ccc402ba3d07",
   "metadata": {},
   "outputs": [
    {
     "name": "stdout",
     "output_type": "stream",
     "text": [
      "140\n",
      "60\n",
      "4000\n",
      "2.5\n",
      "2\n",
      "20\n",
      "100000000\n"
     ]
    }
   ],
   "source": [
    "# arithmetic operators\n",
    "print (100 + 40)\n",
    "print (100 - 40)\n",
    "print (100 * 40)\n",
    "print (100 / 40)\n",
    "print (100 // 40)\n",
    "print (100 % 40)\n",
    "print (100 ** 4)"
   ]
  },
  {
   "cell_type": "code",
   "execution_count": null,
   "id": "51b50fd6-3d6c-452d-b188-2e8ae1461c16",
   "metadata": {},
   "outputs": [],
   "source": [
    "Operators can be categorized in followin types:\n",
    "    1. Unary Operator (only one operand), e.g. +100, -40\n",
    "    2. Binary Operator (only two operands), e.g. 100 + 30  100 / 30\n",
    "    3. Ternary Operator (only three operands)"
   ]
  },
  {
   "cell_type": "code",
   "execution_count": 41,
   "id": "508f80ab-2bc3-480f-bac5-6413759bb787",
   "metadata": {},
   "outputs": [
    {
     "name": "stdout",
     "output_type": "stream",
     "text": [
      "100 -100\n",
      "Hello Hello Hello Hello Hello \n",
      "Banana\n"
     ]
    }
   ],
   "source": [
    "print (+100, -100)   # unary operator\n",
    "print (\"Hello \" * 5)   # binary operator\n",
    "print (\"Bana\" + \"na\")"
   ]
  },
  {
   "cell_type": "code",
   "execution_count": 29,
   "id": "8ee46282-3277-43e2-b1eb-3ed926fde03a",
   "metadata": {},
   "outputs": [
    {
     "name": "stdout",
     "output_type": "stream",
     "text": [
      "So 100 is an Even number...\n",
      "So 101 is an Odd number...\n"
     ]
    }
   ],
   "source": [
    "num1 = 100\n",
    "result = \"Even\" if (num1 % 2 == 0) else \"Odd\"  # result = num1 % 2 == 0? \"Even\": \"Odd\";\n",
    "print (f\"So {num1} is an {result} number...\")\n",
    "       \n",
    "num1 = 101\n",
    "result = \"Even\" if (num1 % 2 == 0) else \"Odd\"\n",
    "print (f\"So {num1} is an {result} number...\")"
   ]
  },
  {
   "cell_type": "code",
   "execution_count": 32,
   "id": "d4663d27-b796-4db3-8554-c1dcb485edec",
   "metadata": {},
   "outputs": [
    {
     "name": "stdout",
     "output_type": "stream",
     "text": [
      "True True True\n",
      "False False False True\n",
      "False True True True\n",
      "False True\n"
     ]
    }
   ],
   "source": [
    "# relational operators: > >= < <= != ==\n",
    "print (100 > 40, 100 >= 40, 100 != 40)\n",
    "# logical operators: and or not\n",
    "print (False and False, False and True, True and False, True and True)\n",
    "print (False or False, False or True, True or False, True or True)\n",
    "print (not True, not False)"
   ]
  },
  {
   "cell_type": "markdown",
   "id": "1f74471e-2197-4daa-8d9e-c6c2726e543c",
   "metadata": {},
   "source": [
    "### ASCII Codes"
   ]
  },
  {
   "cell_type": "code",
   "execution_count": 34,
   "id": "15bf531d-003e-497c-8648-0f7d1db288d2",
   "metadata": {},
   "outputs": [],
   "source": [
    "# ASCII (American Standard Code for Information Interchange)\n",
    "# ASCII codes are 8 bit numbers, 256 combinations and ranging from 0 to 255\n",
    "# Normal ASCII Codes: 0 to 127 (printable)\n",
    "# Extendedl ASCII Codes: 128 to 255 (non-printable)\n",
    "# A => 65, B => 66, ... Z => 90\n",
    "# a => 97, b => 98, ... z => 122\n",
    "# 0 => 48, 1 => 49, ... 9 => 57\n",
    "# Space => 32, Enter => 13, Tab => 8, Back Space => 9"
   ]
  },
  {
   "cell_type": "code",
   "execution_count": 37,
   "id": "e21d8b1f-8490-43d4-a905-5ae2a6905538",
   "metadata": {},
   "outputs": [
    {
     "name": "stdout",
     "output_type": "stream",
     "text": [
      "A 65\n",
      "Z 90\n",
      "a 97\n",
      "z 122\n"
     ]
    }
   ],
   "source": [
    "var1 = \"A\"\n",
    "print (var1, ord(var1))\n",
    "var1 = \"Z\"\n",
    "print (var1, ord(var1))\n",
    "var1 = \"a\"\n",
    "print (var1, ord(var1))\n",
    "var1 = \"z\"\n",
    "print (var1, ord(var1))"
   ]
  },
  {
   "cell_type": "code",
   "execution_count": 39,
   "id": "9228a285-36cb-451c-a5c5-8c7c5e9cd271",
   "metadata": {},
   "outputs": [
    {
     "name": "stdout",
     "output_type": "stream",
     "text": [
      "65 A\n",
      "90 Z\n",
      "97 a\n",
      "122 z\n"
     ]
    }
   ],
   "source": [
    "var1 = 65\n",
    "print (var1, chr(var1))\n",
    "var1 = 90\n",
    "print (var1, chr(var1))\n",
    "var1 = 97\n",
    "print (var1, chr(var1))\n",
    "var1 = 122\n",
    "print (var1, chr(var1))"
   ]
  },
  {
   "cell_type": "markdown",
   "id": "d61e83d8-e490-4e44-9e3f-6f9c30c6b419",
   "metadata": {},
   "source": [
    "### Bitwise Operators"
   ]
  },
  {
   "cell_type": "code",
   "execution_count": null,
   "id": "1cedd4e0-10c4-4607-baf0-6c6a4808db39",
   "metadata": {},
   "outputs": [],
   "source": [
    "#             122  58   26\n",
    "# 250 = 128 + 64 + 32 + 16 + 8 + 2 = 1111 1010\n",
    "              244   116  52\n",
    "# 500 = 256 + 128 + 64 + 32 + 16 + 4 = 1 1111 0100\n",
    "# 125 = 0111 1101"
   ]
  },
  {
   "cell_type": "code",
   "execution_count": 45,
   "id": "1243e22b-16a8-4645-b75e-cc86980392f6",
   "metadata": {},
   "outputs": [
    {
     "name": "stdout",
     "output_type": "stream",
     "text": [
      "250 500 125\n",
      "250 2000 2000\n",
      "2000 250 250\n"
     ]
    }
   ],
   "source": [
    "# bitwise operators: >> << & | ^\n",
    "# num1 << n = num1 * (2**n)\n",
    "# num1 >> n = num1 // (2**n)\n",
    "var1 = 250\n",
    "print (var1, var1 << 1, var1 >> 1)\n",
    "print (var1, var1 << 3, var1 * (2 ** 3))\n",
    "var1 = 2000\n",
    "print (var1, var1 >> 3, var1 // (2 ** 3))"
   ]
  },
  {
   "cell_type": "code",
   "execution_count": null,
   "id": "b710b570-3f64-4c66-be26-887dd83a37cf",
   "metadata": {},
   "outputs": [],
   "source": [
    "# A => 65 = 64 + 1      = 0100 0001\n",
    "                       or 0010 0000 => 32 \n",
    "                          ---------\n",
    "# a => 97 = 64 + 32 + 1 = 0110 0001"
   ]
  },
  {
   "cell_type": "code",
   "execution_count": 48,
   "id": "ddf05f41-450d-40e7-a29b-55f90cefec69",
   "metadata": {},
   "outputs": [
    {
     "name": "stdout",
     "output_type": "stream",
     "text": [
      "A a\n"
     ]
    }
   ],
   "source": [
    "char1 = \"A\"\n",
    "char2 = chr(ord(char1) | 32)\n",
    "print (char1, char2)"
   ]
  },
  {
   "cell_type": "code",
   "execution_count": null,
   "id": "714d2423-1ba0-44a4-9409-8c59f7bbf62e",
   "metadata": {},
   "outputs": [],
   "source": [
    "a and 0 = 0\n",
    "a and 1 = a\n",
    "a and a = a\n",
    "a and a' = 0\n",
    "\n",
    "a or 0 = a\n",
    "a or 1 = 1\n",
    "a or a = a\n",
    "a or a' = 1\n",
    "\n",
    "a xor 0 = a\n",
    "a xor 1 = a'\n",
    "a xor a = 0\n",
    "a xor a' = 1"
   ]
  },
  {
   "cell_type": "code",
   "execution_count": null,
   "id": "0231c475-22a7-4fcb-ab2a-84faaf591501",
   "metadata": {},
   "outputs": [],
   "source": [
    "# a => 97 = 64 + 32 + 1 = 0110 0001\n",
    "                      and 1101 1111 => 255 - 32 = 223\n",
    "                          ---------\n",
    "# A => 65 = 64 + 1      = 0100 0001"
   ]
  },
  {
   "cell_type": "code",
   "execution_count": 49,
   "id": "cf1e6ded-9cb0-4c3f-b2a5-0ac16914094a",
   "metadata": {},
   "outputs": [
    {
     "name": "stdout",
     "output_type": "stream",
     "text": [
      "a A\n"
     ]
    }
   ],
   "source": [
    "char1 = \"a\"\n",
    "char2 = chr(ord(char1) & 223)\n",
    "print (char1, char2)"
   ]
  },
  {
   "cell_type": "code",
   "execution_count": null,
   "id": "9152bb9a-ea79-4b98-b37b-d4e4693cedd6",
   "metadata": {},
   "outputs": [],
   "source": [
    "# A => 65 = 64 + 1      = 0100 0001\n",
    "                      xor 0010 0000 => 32  \n",
    "# a => 97 = 64 + 32 + 1 = 0110 0001"
   ]
  },
  {
   "cell_type": "code",
   "execution_count": 50,
   "id": "00b95d48-612e-4f5a-ab78-a67b1b6941bf",
   "metadata": {},
   "outputs": [
    {
     "name": "stdout",
     "output_type": "stream",
     "text": [
      "a A\n",
      "A a\n"
     ]
    }
   ],
   "source": [
    "char1 = \"a\"\n",
    "char2 = chr(ord(char1) ^ 32)\n",
    "print (char1, char2)\n",
    "\n",
    "char1 = \"A\"\n",
    "char2 = chr(ord(char1) ^ 32)\n",
    "print (char1, char2)"
   ]
  },
  {
   "cell_type": "markdown",
   "id": "ecccd4fd-8c1c-4894-9a0c-118d51c0ff45",
   "metadata": {},
   "source": [
    "### Conditional Statements"
   ]
  },
  {
   "cell_type": "code",
   "execution_count": 57,
   "id": "c0c86337-81b0-48b2-93c3-850196cc399c",
   "metadata": {},
   "outputs": [
    {
     "name": "stdin",
     "output_type": "stream",
     "text": [
      "Please enter the first number... 33\n",
      "Please enter the second number... 22\n",
      "Please enter the third number... 11\n"
     ]
    },
    {
     "name": "stdout",
     "output_type": "stream",
     "text": [
      "First number is the maximum number...\n",
      "So the maximum number is 33...\n",
      "End of the program...\n"
     ]
    }
   ],
   "source": [
    "# find the maximum of three user given numbers\n",
    "num1 = int(input(\"Please enter the first number...\"))\n",
    "num2 = int(input(\"Please enter the second number...\"))\n",
    "num3 = int(input(\"Please enter the third number...\"))\n",
    "if (num1 > num2):\n",
    "    if (num1 > num3):\n",
    "        print (\"First number is the maximum number...\")\n",
    "        print (f\"So the maximum number is {num1}...\")\n",
    "    else:\n",
    "        print (\"Third number is the maximum number...\")\n",
    "        print (f\"So the maximum number is {num3}...\")\n",
    "elif (num2 > num3):\n",
    "    print (\"Second number is the maximum number...\")\n",
    "    print (f\"So the maximum number is {num2}...\")\n",
    "else:\n",
    "    print (\"Third number is the maximum number...\")\n",
    "    print (f\"So the maximum number is {num3}...\")\n",
    "print (\"End of the program...\")"
   ]
  },
  {
   "cell_type": "code",
   "execution_count": 61,
   "id": "639bc8d5-865c-42df-b8d8-3dd2c4a4680c",
   "metadata": {},
   "outputs": [
    {
     "name": "stdin",
     "output_type": "stream",
     "text": [
      "Please enter the first number... 11\n",
      "Please enter the second number... 22\n",
      "Please enter the third number... 33\n"
     ]
    },
    {
     "name": "stdout",
     "output_type": "stream",
     "text": [
      "Third number is the maximum number...\n",
      "So the maximum number is 33...\n",
      "End of the program...\n"
     ]
    }
   ],
   "source": [
    "# find the maximum of three user given numbers\n",
    "num1 = int(input(\"Please enter the first number...\"))\n",
    "num2 = int(input(\"Please enter the second number...\"))\n",
    "num3 = int(input(\"Please enter the third number...\"))\n",
    "if (num1 > num2 and num1 > num3):\n",
    "    print (\"First number is the maximum number...\")\n",
    "    print (f\"So the maximum number is {num1}...\")\n",
    "elif (num2 > num3):\n",
    "    print (\"Second number is the maximum number...\")\n",
    "    print (f\"So the maximum number is {num2}...\")\n",
    "else:\n",
    "    print (\"Third number is the maximum number...\")\n",
    "    print (f\"So the maximum number is {num3}...\")\n",
    "print (\"End of the program...\")"
   ]
  },
  {
   "cell_type": "code",
   "execution_count": null,
   "id": "4e136800-e4f2-4f89-98fe-50af3c0f97c4",
   "metadata": {},
   "outputs": [],
   "source": [
    "# Class Assignment: # find the second maximum of three user given numbers\n",
    "Step-1:\n",
    "At first compare num1 and num2, and put the maximum of them in max1\n",
    "and other number in max2\n",
    "Step-2:\n",
    "Now we shall deal with - max1, max2 and num3\n",
    "Let us consider:\n",
    "                      max1       max2\n",
    "                      500        300\n",
    "      num3 ->   700         400         200\n",
    "second max ->         500   400         300\n",
    "                      max1  num3        max2"
   ]
  },
  {
   "cell_type": "code",
   "execution_count": 60,
   "id": "dabab243-8d5f-49eb-8c43-f44ac6dd34e8",
   "metadata": {},
   "outputs": [
    {
     "name": "stdin",
     "output_type": "stream",
     "text": [
      "Please enter the first number... 33\n",
      "Please enter the second number... 11\n",
      "Please enter the third number... 22\n"
     ]
    },
    {
     "name": "stdout",
     "output_type": "stream",
     "text": [
      "So out of 33, 11 and 22, second maximum is 22...\n",
      "End of the program...\n"
     ]
    }
   ],
   "source": [
    "# find the second maximum of three user given numbers\n",
    "num1 = int(input(\"Please enter the first number...\"))\n",
    "num2 = int(input(\"Please enter the second number...\"))\n",
    "num3 = int(input(\"Please enter the third number...\"))\n",
    "# step-1\n",
    "if (num1 > num2): max1 = num1; max2 = num2\n",
    "else: max1 = num2; max2 = num1\n",
    "# step-2\n",
    "if (num3 > max1): smax = max1\n",
    "elif (num3 > max2): smax = num3\n",
    "else: smax = max2\n",
    "print (f\"So out of {num1}, {num2} and {num3}, second maximum is {smax}...\")\n",
    "print (\"End of the program...\")"
   ]
  },
  {
   "cell_type": "markdown",
   "id": "edf55181-aa38-4209-8638-10e6e32a5469",
   "metadata": {},
   "source": [
    "### Loops in Python"
   ]
  },
  {
   "cell_type": "code",
   "execution_count": 64,
   "id": "b7da77e5-3c91-4c34-b2e5-67c03b28d42d",
   "metadata": {},
   "outputs": [
    {
     "name": "stdout",
     "output_type": "stream",
     "text": [
      "Looping for i = 0...\n",
      "Looping for i = 1...\n",
      "Looping for i = 2...\n",
      "Looping for i = 3...\n",
      "Looping for i = 4...\n",
      "Looping for i = 5...\n",
      "Looping for i = 6...\n",
      "Looping for i = 7...\n",
      "End of the program...\n"
     ]
    }
   ],
   "source": [
    "for i in range(8):\n",
    "    print (f\"Looping for i = {i}...\")\n",
    "print (\"End of the program...\")"
   ]
  },
  {
   "cell_type": "code",
   "execution_count": 65,
   "id": "0602ca3c-2ae7-42bd-8cd9-1a820ebd1ec2",
   "metadata": {},
   "outputs": [
    {
     "name": "stdout",
     "output_type": "stream",
     "text": [
      "Looping for i = 0...\n",
      "Looping for i = 1...\n",
      "Looping for i = 2...\n",
      "Looping for i = 3...\n",
      "Looping for i = 4...\n",
      "Looping for i = 5...\n",
      "Looping for i = 6...\n",
      "Looping for i = 7...\n",
      "End of the program...\n"
     ]
    }
   ],
   "source": [
    "for i in range(0, 8):\n",
    "    print (f\"Looping for i = {i}...\")\n",
    "print (\"End of the program...\")"
   ]
  },
  {
   "cell_type": "code",
   "execution_count": 67,
   "id": "76e0e348-9908-41e0-90ee-bf5d3aa4c123",
   "metadata": {},
   "outputs": [
    {
     "name": "stdout",
     "output_type": "stream",
     "text": [
      "Looping for i = 0...\n",
      "Looping for i = 1...\n",
      "Looping for i = 2...\n",
      "Looping for i = 3...\n",
      "Looping for i = 4...\n",
      "Looping for i = 5...\n",
      "Looping for i = 6...\n",
      "Looping for i = 7...\n",
      "End of the program...\n"
     ]
    }
   ],
   "source": [
    "for i in range(0, 8, 1):\n",
    "    print (f\"Looping for i = {i}...\")\n",
    "print (\"End of the program...\")"
   ]
  },
  {
   "cell_type": "code",
   "execution_count": 68,
   "id": "ad4059c2-4028-449a-9860-01bcc823d096",
   "metadata": {},
   "outputs": [
    {
     "name": "stdout",
     "output_type": "stream",
     "text": [
      "Looping for i = 0...\n",
      "Looping for i = 2...\n",
      "Looping for i = 4...\n",
      "Looping for i = 6...\n",
      "End of the program...\n"
     ]
    }
   ],
   "source": [
    "for i in range(0, 8, 2):\n",
    "    print (f\"Looping for i = {i}...\")\n",
    "print (\"End of the program...\")"
   ]
  },
  {
   "cell_type": "code",
   "execution_count": 69,
   "id": "9cb8bc7d-c46e-4224-91a8-f33f5a41af43",
   "metadata": {},
   "outputs": [
    {
     "name": "stdout",
     "output_type": "stream",
     "text": [
      "Looping for i = 8...\n",
      "Looping for i = 6...\n",
      "Looping for i = 4...\n",
      "Looping for i = 2...\n",
      "End of the program...\n"
     ]
    }
   ],
   "source": [
    "for i in range(8, 0, -2):\n",
    "    print (f\"Looping for i = {i}...\")\n",
    "print (\"End of the program...\")"
   ]
  },
  {
   "cell_type": "code",
   "execution_count": 70,
   "id": "803b9474-a98c-48fe-a4fe-19431f1475e3",
   "metadata": {},
   "outputs": [
    {
     "name": "stdout",
     "output_type": "stream",
     "text": [
      "Looping for i = -5...\n",
      "Looping for i = -4...\n",
      "Looping for i = -3...\n",
      "Looping for i = -2...\n",
      "Looping for i = -1...\n",
      "Looping for i = 0...\n",
      "Looping for i = 1...\n",
      "Looping for i = 2...\n",
      "Looping for i = 3...\n",
      "Looping for i = 4...\n",
      "Total number of iterations is 10...\n",
      "End of the program...\n"
     ]
    }
   ],
   "source": [
    "count = 0\n",
    "for i in range(-5, 5, 1):\n",
    "    print (f\"Looping for i = {i}...\")\n",
    "    count += 1\n",
    "print (f\"Total number of iterations is {count}...\")\n",
    "print (\"End of the program...\")"
   ]
  },
  {
   "cell_type": "code",
   "execution_count": 71,
   "id": "466c050c-a4b1-497f-bd41-23edd97ec81e",
   "metadata": {},
   "outputs": [
    {
     "name": "stdout",
     "output_type": "stream",
     "text": [
      "Executing for i = 0...\n",
      "Executing for i = 1...\n",
      "Executing for i = 2...\n",
      "Executing for i = 3...\n",
      "Executing for i = 4...\n",
      "Executing for i = 5...\n",
      "Executing for i = 6...\n",
      "Executing for i = 7...\n",
      "Else Block is executing...\n",
      "Had a smooth execution...\n",
      "End of the program...\n"
     ]
    }
   ],
   "source": [
    "for i in range(8):\n",
    "    print (f\"Executing for i = {i}...\")\n",
    "else:\n",
    "    print (\"Else Block is executing...\")\n",
    "    print (\"Had a smooth execution...\")\n",
    "print (\"End of the program...\")"
   ]
  },
  {
   "cell_type": "code",
   "execution_count": 76,
   "id": "0a2e4d2f-5da0-415e-a361-12b8d5cca297",
   "metadata": {},
   "outputs": [
    {
     "name": "stdout",
     "output_type": "stream",
     "text": [
      "Executing for i = 0...\n",
      "Executing for i = 1...\n",
      "Executing for i = 2...\n",
      "Executing for i = 3...\n",
      "Executing for i = 4...\n",
      "Executing for i = 5...\n",
      "Executing for i = 6...\n",
      "Executing for i = 7...\n",
      "End of the program...\n"
     ]
    }
   ],
   "source": [
    "for i in range(8):\n",
    "    print (f\"Executing for i = {i}...\")\n",
    "    if (i == 7): break\n",
    "else:\n",
    "    print (\"Else Block is executing...\")\n",
    "    print (\"Had a smooth execution...\")\n",
    "print (\"End of the program...\")"
   ]
  },
  {
   "cell_type": "code",
   "execution_count": 81,
   "id": "1bc00605-9b62-4e9a-a5ed-466c08fc5ecf",
   "metadata": {
    "tags": []
   },
   "outputs": [
    {
     "name": "stdin",
     "output_type": "stream",
     "text": [
      "Please enter one integer: 11\n"
     ]
    },
    {
     "name": "stdout",
     "output_type": "stream",
     "text": [
      "Executing for i = 2...\n",
      "Executing for i = 3...\n",
      "Executing for i = 4...\n",
      "Executing for i = 5...\n",
      "Executing for i = 6...\n",
      "Executing for i = 7...\n",
      "Executing for i = 8...\n",
      "Executing for i = 9...\n",
      "Executing for i = 10...\n",
      "11 is PRIME...\n",
      "End of the program...\n"
     ]
    }
   ],
   "source": [
    "# check whether one user given number is PRIME or not\n",
    "num1 = int(input(\"Please enter one integer:\"))\n",
    "for i in range(2, num1):\n",
    "    print (f\"Executing for i = {i}...\")\n",
    "    if (num1 % i == 0):\n",
    "        print (f\"{num1} is NOT PRIME...\")\n",
    "        break\n",
    "else:\n",
    "    print (f\"{num1} is PRIME...\")\n",
    "print (\"End of the program...\")"
   ]
  },
  {
   "cell_type": "code",
   "execution_count": 83,
   "id": "aaab5f14-3464-45bb-809f-81b6913d75d1",
   "metadata": {},
   "outputs": [
    {
     "name": "stdin",
     "output_type": "stream",
     "text": [
      "Please enter one integer: 101\n"
     ]
    },
    {
     "name": "stdout",
     "output_type": "stream",
     "text": [
      "Executing for i = 2...\n",
      "Executing for i = 3...\n",
      "Executing for i = 4...\n",
      "Executing for i = 5...\n",
      "Executing for i = 6...\n",
      "Executing for i = 7...\n",
      "Executing for i = 8...\n",
      "Executing for i = 9...\n",
      "Executing for i = 10...\n",
      "101 is PRIME...\n",
      "End of the program...\n"
     ]
    }
   ],
   "source": [
    "# check whether one user given number is PRIME or not\n",
    "num1 = int(input(\"Please enter one integer:\"))\n",
    "for i in range(2, int(num1 ** 0.5) + 1):\n",
    "    print (f\"Executing for i = {i}...\")\n",
    "    if (num1 % i == 0):\n",
    "        print (f\"{num1} is NOT PRIME...\")\n",
    "        break\n",
    "else:\n",
    "    print (f\"{num1} is PRIME...\")\n",
    "print (\"End of the program...\")"
   ]
  },
  {
   "cell_type": "code",
   "execution_count": 86,
   "id": "25ed596a-b406-43a5-bd03-3e1a07b51a15",
   "metadata": {},
   "outputs": [
    {
     "name": "stdout",
     "output_type": "stream",
     "text": [
      "Executing for the value of i = 0...\n",
      "Executing for the value of i = 1...\n",
      "Executing for the value of i = 2...\n",
      "Continue with i = 3...\n",
      "Executing for the value of i = 4...\n",
      "Continue with i = 5...\n",
      "Executing for the value of i = 6...\n",
      "Executing for the value of i = 7...\n",
      "Else block is executing...\n",
      "End of the program...\n"
     ]
    }
   ],
   "source": [
    "for i in range(8):\n",
    "    if (i == 3 or i == 5):\n",
    "        print (f\"Continue with i = {i}...\")\n",
    "        continue\n",
    "    print (f\"Executing for the value of i = {i}...\")\n",
    "else:\n",
    "    print (\"Else block is executing...\")\n",
    "print (\"End of the program...\")"
   ]
  },
  {
   "cell_type": "code",
   "execution_count": 90,
   "id": "7b0a4190-0c9e-4b29-b077-62e5c7ae0afd",
   "metadata": {},
   "outputs": [
    {
     "name": "stdout",
     "output_type": "stream",
     "text": [
      "Executing for the value of i = 0...\n",
      "Executing for the value of i = 1...\n",
      "Executing for the value of i = 2...\n",
      "Continue with i = 3...\n",
      "Executing for the value of i = 4...\n",
      "Continue with i = 5...\n",
      "Executing for the value of i = 6...\n",
      "Executing for the value of i = 7...\n",
      "Else block is executing...\n",
      "End of the program...\n"
     ]
    }
   ],
   "source": [
    "for i in range(8):\n",
    "    if (i != 3 and i != 5):\n",
    "        pass    # no effect in the output, it is called statement place holder\n",
    "    else:\n",
    "        print (f\"Continue with i = {i}...\")\n",
    "        continue\n",
    "    print (f\"Executing for the value of i = {i}...\")\n",
    "else:\n",
    "    print (\"Else block is executing...\")\n",
    "print (\"End of the program...\")"
   ]
  },
  {
   "cell_type": "code",
   "execution_count": 92,
   "id": "1c3af369-900a-480f-b88e-0678ab7fc29b",
   "metadata": {},
   "outputs": [
    {
     "name": "stdout",
     "output_type": "stream",
     "text": [
      "Visit Doctor...\n",
      "Good Morning...\n",
      "Day No. - 1 and Medicine No.- 1...\n",
      "Day No. - 1 and Medicine No.- 2...\n",
      "Day No. - 1 and Medicine No.- 3...\n",
      "Good Night...\n",
      "----------------------------------------------\n",
      "Good Morning...\n",
      "Day No. - 2 and Medicine No.- 1...\n",
      "Day No. - 2 and Medicine No.- 2...\n",
      "Day No. - 2 and Medicine No.- 3...\n",
      "Good Night...\n",
      "----------------------------------------------\n",
      "Good Morning...\n",
      "Day No. - 3 and Medicine No.- 1...\n",
      "Day No. - 3 and Medicine No.- 2...\n",
      "Day No. - 3 and Medicine No.- 3...\n",
      "Good Night...\n",
      "----------------------------------------------\n",
      "Good Morning...\n",
      "Day No. - 4 and Medicine No.- 1...\n",
      "Day No. - 4 and Medicine No.- 2...\n",
      "Day No. - 4 and Medicine No.- 3...\n",
      "Good Night...\n",
      "----------------------------------------------\n",
      "Good Morning...\n",
      "Day No. - 5 and Medicine No.- 1...\n",
      "Day No. - 5 and Medicine No.- 2...\n",
      "Day No. - 5 and Medicine No.- 3...\n",
      "Good Night...\n",
      "----------------------------------------------\n",
      "Thanks to Doctor...\n",
      "Total number of medicines consumed is 15...\n",
      "End of the Story...\n"
     ]
    }
   ],
   "source": [
    "# nested loops\n",
    "print (\"Visit Doctor...\")   # executes for 1 time\n",
    "medicount = 0\n",
    "for day in range(1, 6):\n",
    "    print (\"Good Morning...\")   # executes for 5 times\n",
    "    for medi in range(1, 4):\n",
    "        print (f\"Day No. - {day} and Medicine No.- {medi}...\")   # executes for 15 times\n",
    "        medicount += 1\n",
    "    print (\"Good Night...\")   # executes for 5 times\n",
    "    print (\"----------------------------------------------\")   # executes for 5 times\n",
    "print (\"Thanks to Doctor...\")   # executes for 1 time\n",
    "print (f\"Total number of medicines consumed is {medicount}...\")\n",
    "print (\"End of the Story...\")   # executes for 1 time"
   ]
  },
  {
   "cell_type": "code",
   "execution_count": 94,
   "id": "3c8e3797-831f-4e22-a67e-eb8187fad3a9",
   "metadata": {},
   "outputs": [
    {
     "name": "stdout",
     "output_type": "stream",
     "text": [
      "Looping for i = 1...\n",
      "Looping for i = 2...\n",
      "Looping for i = 3...\n",
      "Looping for i = 4...\n",
      "Looping for i = 5...\n",
      "Looping for i = 6...\n",
      "Looping for i = 7...\n",
      "Looping for i = 8...\n",
      "ELSE block is executing...\n",
      "End of the looping...\n"
     ]
    }
   ],
   "source": [
    "i = 1\n",
    "while (i <= 8):\n",
    "    print (f\"Looping for i = {i}...\")\n",
    "    # i = i + 1\n",
    "    i += 1\n",
    "else:\n",
    "    print (\"ELSE block is executing...\" )\n",
    "print (\"End of the looping...\")"
   ]
  },
  {
   "cell_type": "code",
   "execution_count": 95,
   "id": "75c71907-f382-4ece-84bd-36e8e1b60b67",
   "metadata": {},
   "outputs": [
    {
     "name": "stdout",
     "output_type": "stream",
     "text": [
      "Visit Doctor...\n",
      "Good Morning...\n",
      "Day No. - 1 and Medicine No.- 1...\n",
      "Day No. - 1 and Medicine No.- 2...\n",
      "Day No. - 1 and Medicine No.- 3...\n",
      "Good Night...\n",
      "----------------------------------------------\n",
      "Good Morning...\n",
      "Day No. - 2 and Medicine No.- 1...\n",
      "Day No. - 2 and Medicine No.- 2...\n",
      "Day No. - 2 and Medicine No.- 3...\n",
      "Good Night...\n",
      "----------------------------------------------\n",
      "Good Morning...\n",
      "Day No. - 3 and Medicine No.- 1...\n",
      "Day No. - 3 and Medicine No.- 2...\n",
      "Day No. - 3 and Medicine No.- 3...\n",
      "Good Night...\n",
      "----------------------------------------------\n",
      "Good Morning...\n",
      "Day No. - 4 and Medicine No.- 1...\n",
      "Day No. - 4 and Medicine No.- 2...\n",
      "Day No. - 4 and Medicine No.- 3...\n",
      "Good Night...\n",
      "----------------------------------------------\n",
      "Good Morning...\n",
      "Day No. - 5 and Medicine No.- 1...\n",
      "Day No. - 5 and Medicine No.- 2...\n",
      "Day No. - 5 and Medicine No.- 3...\n",
      "Good Night...\n",
      "----------------------------------------------\n",
      "Thanks to Doctor...\n",
      "Total number of medicines consumed is 15...\n",
      "End of the Story...\n"
     ]
    }
   ],
   "source": [
    "# nested while loops\n",
    "print (\"Visit Doctor...\")   # executes for 1 time\n",
    "medicount = 0\n",
    "day = 1\n",
    "while (day <= 5):\n",
    "    print (\"Good Morning...\")   # executes for 5 times\n",
    "    medi = 1\n",
    "    while (medi <= 3):\n",
    "        print (f\"Day No. - {day} and Medicine No.- {medi}...\")   # executes for 15 times\n",
    "        medicount += 1\n",
    "        medi += 1\n",
    "    print (\"Good Night...\")   # executes for 5 times\n",
    "    print (\"----------------------------------------------\")   # executes for 5 times\n",
    "    day += 1\n",
    "print (\"Thanks to Doctor...\")   # executes for 1 time\n",
    "print (f\"Total number of medicines consumed is {medicount}...\")\n",
    "print (\"End of the Story...\")   # executes for 1 time"
   ]
  },
  {
   "cell_type": "code",
   "execution_count": null,
   "id": "0541260e-d6d2-4a7c-814c-4761eaea6b41",
   "metadata": {},
   "outputs": [],
   "source": [
    "# pattern-1\n",
    "n = 6 (user given number of layers)\n",
    "              i   .   *\n",
    "            -------------\n",
    ".....*        1   5   1        (i, n)\n",
    "....***       2   4   3   . => (n - i)\n",
    "...*****      3   3   5\n",
    "..*******     4   2   7   * =>  (2 * i - 1)\n",
    ".*********    5   1   9\n",
    "***********   6   0  11\n",
    "            -------------\n",
    "            Tracing Table"
   ]
  },
  {
   "cell_type": "code",
   "execution_count": 98,
   "id": "90db6e68-8595-4f4e-a0cf-1d6ec82e06aa",
   "metadata": {},
   "outputs": [
    {
     "name": "stdin",
     "output_type": "stream",
     "text": [
      "Please enter the number of layers:  10\n"
     ]
    },
    {
     "name": "stdout",
     "output_type": "stream",
     "text": [
      ".........*\n",
      "........***\n",
      ".......*****\n",
      "......*******\n",
      ".....*********\n",
      "....***********\n",
      "...*************\n",
      "..***************\n",
      ".*****************\n",
      "*******************\n",
      "End of the program...\n"
     ]
    }
   ],
   "source": [
    "n = int(input(\"Please enter the number of layers: \"))\n",
    "for i in range(1, n + 1):\n",
    "    print (\".\" * (n - i) + \"*\" * (2 * i - 1))\n",
    "print (\"End of the program...\")"
   ]
  },
  {
   "cell_type": "code",
   "execution_count": null,
   "id": "7eb44cc0-9254-487a-ad21-f5c36c271d72",
   "metadata": {},
   "outputs": [],
   "source": [
    "# pattern-2\n",
    "n = 6 (user given number of layers)\n",
    "              i   .   *\n",
    "            -------------\n",
    "***********   1   0  11        (i, n)\n",
    ".*********    2   1   9   . => (i - 1)\n",
    "..*******     3   2   7\n",
    "...*****      4   3   5   * => 2 * (n - i) + 1\n",
    "....***       5   4   3\n",
    ".....*        6   5   1\n",
    "            -------------\n",
    "            Tracing Table"
   ]
  },
  {
   "cell_type": "code",
   "execution_count": 99,
   "id": "d62bba19-5eea-4a0e-b5bb-85870e0fe6ee",
   "metadata": {},
   "outputs": [
    {
     "name": "stdin",
     "output_type": "stream",
     "text": [
      "Please enter the number of layers:  11\n"
     ]
    },
    {
     "name": "stdout",
     "output_type": "stream",
     "text": [
      "*********************\n",
      ".*******************\n",
      "..*****************\n",
      "...***************\n",
      "....*************\n",
      ".....***********\n",
      "......*********\n",
      ".......*******\n",
      "........*****\n",
      ".........***\n",
      "..........*\n",
      "End of the program...\n"
     ]
    }
   ],
   "source": [
    "n = int(input(\"Please enter the number of layers: \"))\n",
    "for i in range(1, n + 1):\n",
    "    print (\".\" * (i - 1) + \"*\" * (2 * (n - i) + 1))\n",
    "print (\"End of the program...\")"
   ]
  },
  {
   "cell_type": "code",
   "execution_count": null,
   "id": "25befe0d-71fe-4b41-82d7-0ef5cc38d979",
   "metadata": {},
   "outputs": [],
   "source": [
    "# pattern-3\n",
    "n = 11 (user given ODD number of layers)\n",
    "m = (11 + 1) // 2 = (n + 1) // 2 = 6\n",
    "              i   .   *\n",
    "            -------------\n",
    ".....*        1   5   1        (i, m, n)\n",
    "....***       2   4   3   . => (m - i)\n",
    "...*****      3   3   5\n",
    "..*******     4   2   7   * => (2 * i - 1)\n",
    ".*********    5   1   9\n",
    "***********  _6___0__11_\n",
    ".*********    7   1   9\n",
    "..*******     8   2   7   . => (i - m)\n",
    "...*****      9   3   5\n",
    "....***      10   4   3   * => (2 * (n - i) + 1)\n",
    ".....*       11   5   1\n",
    "            -------------\n",
    "            Tracing Table"
   ]
  },
  {
   "cell_type": "code",
   "execution_count": 106,
   "id": "6d610eb7-57aa-4156-9243-c58af4c32a2a",
   "metadata": {},
   "outputs": [
    {
     "name": "stdin",
     "output_type": "stream",
     "text": [
      "Please enter ODD number of layers:  10\n",
      "Please enter ODD number of layers:  12\n",
      "Please enter ODD number of layers:  8\n",
      "Please enter ODD number of layers:  20\n",
      "Please enter ODD number of layers:  11\n"
     ]
    },
    {
     "name": "stdout",
     "output_type": "stream",
     "text": [
      ".....*\n",
      "....***\n",
      "...*****\n",
      "..*******\n",
      ".*********\n",
      "***********\n",
      ".*********\n",
      "..*******\n",
      "...*****\n",
      "....***\n",
      ".....*\n",
      "End of the pattern printing...\n"
     ]
    }
   ],
   "source": [
    "while (True):\n",
    "    n = int(input(\"Please enter ODD number of layers: \"))\n",
    "    if (n % 2 == 1): break\n",
    "m = (n + 1) // 2\n",
    "for i in range(1, n + 1):\n",
    "    if (i > m): b = (i - m); s = (2 * (n - i) + 1)\n",
    "    else: b = (m - i); s = (2 * i - 1)\n",
    "    print (\".\" * b + \"*\" * s)\n",
    "print (\"End of the pattern printing...\")"
   ]
  },
  {
   "cell_type": "code",
   "execution_count": null,
   "id": "709f2532-21f1-4ed2-a350-cf54f52c7ee1",
   "metadata": {},
   "outputs": [],
   "source": [
    "# pattern-4\n",
    "n = 11 (user given ODD number of layers)\n",
    "m = (11 + 1) // 2 = (n + 1) // 2 = 6\n",
    "              i   .   *\n",
    "            -------------\n",
    "***********   1   0  11        (i, m, n)\n",
    ".*********    2   1   9   . => (i - 1)\n",
    "..*******     3   2   7\n",
    "...*****      4   3   5   * => (2 * (m - i) + 1)\n",
    "....***       5   4   3\n",
    ".....*       _6___5___1_\n",
    "....***       7   4   3\n",
    "...*****      8   3   5   . => (n - i)\n",
    "..*******     9   2   7\n",
    ".*********   10   1   9   * => (2 * (i - m) + 1)\n",
    "***********  11   0  11\n",
    "            -------------\n",
    "            Tracing Table"
   ]
  },
  {
   "cell_type": "code",
   "execution_count": 108,
   "id": "e0641aa9-10f7-4315-a55a-b2be0158fccf",
   "metadata": {},
   "outputs": [
    {
     "name": "stdin",
     "output_type": "stream",
     "text": [
      "Please enter ODD number of layers:  12\n",
      "Please enter ODD number of layers:  10\n",
      "Please enter ODD number of layers:  8\n",
      "Please enter ODD number of layers:  22\n",
      "Please enter ODD number of layers:  13\n"
     ]
    },
    {
     "name": "stdout",
     "output_type": "stream",
     "text": [
      "*************\n",
      ".***********\n",
      "..*********\n",
      "...*******\n",
      "....*****\n",
      ".....***\n",
      "......*\n",
      ".....***\n",
      "....*****\n",
      "...*******\n",
      "..*********\n",
      ".***********\n",
      "*************\n",
      "End of the pattern printing...\n"
     ]
    }
   ],
   "source": [
    "while (True):\n",
    "    n = int(input(\"Please enter ODD number of layers: \"))\n",
    "    if (n % 2 == 1): break\n",
    "m = (n + 1) // 2\n",
    "for i in range(1, n + 1):\n",
    "    if (i > m): b = (n - i); s = (2 * (i - m) + 1)\n",
    "    else: b = (i - 1); s = (2 * (m - i) + 1)\n",
    "    print (\".\" * b + \"*\" * s)\n",
    "print (\"End of the pattern printing...\")"
   ]
  },
  {
   "cell_type": "markdown",
   "id": "792a5af4-d1ac-436d-bf8b-d5a5e59d44be",
   "metadata": {},
   "source": [
    "### Eval"
   ]
  },
  {
   "cell_type": "code",
   "execution_count": 110,
   "id": "1bb56e9f-c1bc-4f73-8c92-491d9e3a3def",
   "metadata": {},
   "outputs": [
    {
     "name": "stdin",
     "output_type": "stream",
     "text": [
      "Please enter your expression:  100 + (2 * 3 + 500) * 10\n"
     ]
    },
    {
     "name": "stdout",
     "output_type": "stream",
     "text": [
      "So value against the expression 100 + (2 * 3 + 500) * 10 is 5160...\n"
     ]
    }
   ],
   "source": [
    "myexpr = input(\"Please enter your expression: \")\n",
    "result = eval(myexpr)\n",
    "print (f\"So value against the expression {myexpr} is {result}...\")"
   ]
  },
  {
   "cell_type": "code",
   "execution_count": 113,
   "id": "1cc6c84c-2512-4e93-9850-9519d4d00431",
   "metadata": {},
   "outputs": [
    {
     "name": "stdout",
     "output_type": "stream",
     "text": [
      "Good Morning\n",
      "Good day\n"
     ]
    }
   ],
   "source": [
    "print (\"Good\",\"Morning\")\n",
    "print (\"Good day\")"
   ]
  },
  {
   "cell_type": "code",
   "execution_count": 114,
   "id": "1dac59aa-a593-4efa-9e3c-66f73fa72269",
   "metadata": {},
   "outputs": [
    {
     "name": "stdout",
     "output_type": "stream",
     "text": [
      "Help on built-in function print in module builtins:\n",
      "\n",
      "print(...)\n",
      "    print(value, ..., sep=' ', end='\\n', file=sys.stdout, flush=False)\n",
      "    \n",
      "    Prints the values to a stream, or to sys.stdout by default.\n",
      "    Optional keyword arguments:\n",
      "    file:  a file-like object (stream); defaults to the current sys.stdout.\n",
      "    sep:   string inserted between values, default a space.\n",
      "    end:   string appended after the last value, default a newline.\n",
      "    flush: whether to forcibly flush the stream.\n",
      "\n"
     ]
    }
   ],
   "source": [
    "help(print)"
   ]
  },
  {
   "cell_type": "code",
   "execution_count": 120,
   "id": "27524823-1607-48cc-ba0e-856c7b06d7c6",
   "metadata": {},
   "outputs": [
    {
     "name": "stdout",
     "output_type": "stream",
     "text": [
      "Good - Morning, Good day\n"
     ]
    }
   ],
   "source": [
    "# ... is called ellipsis operator\n",
    "print (\"Good\",\"Morning\", sep = \" - \", end = \", \")\n",
    "print (\"Good day\")"
   ]
  },
  {
   "cell_type": "markdown",
   "id": "e8cca521-cc95-476b-b32f-09e9b8ff3427",
   "metadata": {},
   "source": [
    "### Inbuilt Collections"
   ]
  },
  {
   "cell_type": "code",
   "execution_count": 130,
   "id": "90e5f25c-4186-44fe-ab75-f80c7d486662",
   "metadata": {},
   "outputs": [
    {
     "name": "stdout",
     "output_type": "stream",
     "text": [
      "['Amitava', 'Male', 34, 65000.0, True] 5 <class 'list'> 2168789790848\n",
      "('Amitava', 'Male', 34, 65000.0, True) 5 <class 'tuple'> 2168791058608\n",
      "{'name': 'Amitava', 'gender': 'Male', 'age': 34, 'salary': 65000.0, 'married': True} 5 <class 'dict'> 2168789474880\n",
      "{True, 34, 'Male', 65000.0, 'Amitava'} 5 <class 'set'> 2168791139936\n",
      "frozenset({True, 34, 'Male', 65000.0, 'Amitava'}) 5 <class 'frozenset'> 2168791629184\n"
     ]
    }
   ],
   "source": [
    "list1 = [\"Amitava\", \"Male\", 34, 65000.00, True]   # mutable\n",
    "print (list1, len(list1), type(list1), id(list1))\n",
    "tuple1 = (\"Amitava\", \"Male\", 34, 65000.00, True)   # immutable, read-only\n",
    "print (tuple1, len(tuple1), type(tuple1), id(tuple1))\n",
    "dict1 = {\"name\":\"Amitava\", \"gender\":\"Male\", \"age\":34, \"salary\":65000.00, \"married\":True}\n",
    "print (dict1, len(dict1), type(dict1), id(dict1))\n",
    "set1 = {\"Amitava\", \"Male\", 34, 65000.00, True, \"Male\", 34, 65000.00, True}\n",
    "print (set1, len(set1), type(set1), id(set1))\n",
    "frset1 = frozenset([\"Amitava\", \"Male\", 34, 65000.00, True, \"Male\", 34, 65000.00, True])\n",
    "print (frset1, len(frset1), type(frset1), id(frset1))   # immutable, read-only"
   ]
  },
  {
   "cell_type": "code",
   "execution_count": 132,
   "id": "8554698e-f5a1-4238-a841-fd3d9d932c8d",
   "metadata": {},
   "outputs": [
    {
     "name": "stdout",
     "output_type": "stream",
     "text": [
      "[] 0 <class 'list'> 2168790554048\n",
      "() 0 <class 'tuple'> 2168670404720\n",
      "{} 0 <class 'dict'> 2168789784128\n",
      "set() 0 <class 'set'> 2168791149792\n",
      "frozenset() 0 <class 'frozenset'> 2168791146880\n"
     ]
    }
   ],
   "source": [
    "# empty inbuilt collections\n",
    "list1 = []\n",
    "print (list1, len(list1), type(list1), id(list1))\n",
    "tuple1 = ()\n",
    "print (tuple1, len(tuple1), type(tuple1), id(tuple1))\n",
    "dict1 = {}\n",
    "print (dict1, len(dict1), type(dict1), id(dict1))\n",
    "set1 = set()\n",
    "print (set1, len(set1), type(set1), id(set1))\n",
    "frset1 = frozenset()\n",
    "print (frset1, len(frset1), type(frset1), id(frset1))   # immutable, read-only"
   ]
  },
  {
   "cell_type": "markdown",
   "id": "e997df11-97b4-40a5-bc56-4e077b303bfa",
   "metadata": {},
   "source": [
    "### User Defined Function (UDF)"
   ]
  },
  {
   "cell_type": "code",
   "execution_count": 134,
   "id": "2205d830-eb55-4dd1-8218-f6841c151695",
   "metadata": {},
   "outputs": [
    {
     "name": "stdout",
     "output_type": "stream",
     "text": [
      "Hello to ALL...\n",
      "Hello to ALL...\n",
      "Hello to ALL...\n",
      "<class 'function'>\n"
     ]
    }
   ],
   "source": [
    "def funct1():\n",
    "    print (\"Hello to ALL...\")\n",
    "    \n",
    "funct1()\n",
    "funct1()\n",
    "funct1()\n",
    "print (type(funct1))"
   ]
  },
  {
   "cell_type": "code",
   "execution_count": 138,
   "id": "b1f3a90b-823c-43b8-b76e-52ce787a5241",
   "metadata": {},
   "outputs": [
    {
     "name": "stdout",
     "output_type": "stream",
     "text": [
      "Hello Hello Hello Hello \n",
      "Hi !!! Hi !!! Hi !!! Hi !!! Hi !!! \n",
      "Good Bye... Good Bye... Good Bye... \n"
     ]
    }
   ],
   "source": [
    "def funct2(msg, times):    # positional parameters\n",
    "    print (msg * times)\n",
    "    \n",
    "funct2(\"Hello \", 4)    # positional arguments\n",
    "funct2(\"Hi !!! \", 5)\n",
    "funct2(\"Good Bye... \", 3)"
   ]
  },
  {
   "cell_type": "code",
   "execution_count": 139,
   "id": "420b38ac-166b-494f-a8a9-2a3f576ab313",
   "metadata": {},
   "outputs": [
    {
     "name": "stdout",
     "output_type": "stream",
     "text": [
      "Hello Hello Hello Hello \n",
      "Hi !!! Hi !!! Hi !!! Hi !!! Hi !!! \n",
      "Good Bye... Good Bye... Good Bye... \n"
     ]
    }
   ],
   "source": [
    "def funct3(msg, times):    # positional parameters\n",
    "    return msg * times\n",
    "    \n",
    "result = funct3(\"Hello \", 4)    # positional arguments\n",
    "print (result)\n",
    "result = funct3(\"Hi !!! \", 5)\n",
    "print (result)\n",
    "result = funct3(\"Good Bye... \", 3)\n",
    "print (result)"
   ]
  },
  {
   "cell_type": "code",
   "execution_count": 148,
   "id": "c7c81055-e7f4-4c6e-803d-2470abd44a58",
   "metadata": {},
   "outputs": [
    {
     "name": "stdout",
     "output_type": "stream",
     "text": [
      "par1 = 100, par2 = 200, par3 = 300...\n",
      "par1 = 100, par2 = 200, par3 = 333...\n",
      "par1 = 100, par2 = 222, par3 = 333...\n",
      "par1 = 111, par2 = 222, par3 = 333...\n",
      "par1 = 100, par2 = 222, par3 = 300...\n",
      "par1 = 111, par2 = 200, par3 = 300...\n"
     ]
    }
   ],
   "source": [
    "# function with default arguments\n",
    "def funct4(par1 = 111, par2 = 222, par3 = 333):\n",
    "    print (f\"par1 = {par1}, par2 = {par2}, par3 = {par3}...\")\n",
    "    \n",
    "funct4(100, 200, 300)\n",
    "funct4(100, 200)\n",
    "funct4(100)\n",
    "funct4()\n",
    "funct4(par1 = 100, par3 = 300)\n",
    "funct4(par3 = 300, par2 = 200)"
   ]
  },
  {
   "cell_type": "code",
   "execution_count": 150,
   "id": "4c5006a1-cfa9-41f4-877e-6dc690da32f7",
   "metadata": {},
   "outputs": [
    {
     "name": "stdout",
     "output_type": "stream",
     "text": [
      "200\n",
      "500\n"
     ]
    }
   ],
   "source": [
    "def funct5(par1, par2 = None):\n",
    "    # if (par2 == None):\n",
    "    if (par2 is None):\n",
    "        return 2 * par1\n",
    "    else:\n",
    "        return par1 + par2\n",
    "    \n",
    "result = funct5(100)\n",
    "print (result)\n",
    "result = funct5(100, 400)\n",
    "print (result)"
   ]
  },
  {
   "cell_type": "code",
   "execution_count": null,
   "id": "3786305e-da05-406e-bc0a-717887351aae",
   "metadata": {},
   "outputs": [],
   "source": [
    "\"'({[university]})'\""
   ]
  },
  {
   "cell_type": "code",
   "execution_count": 153,
   "id": "7d78f47c-b9c7-40c6-85cb-c490ed8c563a",
   "metadata": {},
   "outputs": [
    {
     "name": "stdout",
     "output_type": "stream",
     "text": [
      "Total = 140, difference = 60, product = 4000 and quotient = 2.5...\n",
      "(140, 60, 4000, 2.5) 4 <class 'tuple'> 2168794985024\n",
      "Total = 140, difference = 60, product = 4000 and quotient = 2.5...\n"
     ]
    }
   ],
   "source": [
    "# function returning multiple arguments\n",
    "def funct6(num1, num2):\n",
    "    total = num1 + num2\n",
    "    difference = num1 - num2\n",
    "    product = num1 * num2\n",
    "    quotient = num1 / num2\n",
    "    return total, difference, product, quotient\n",
    "\n",
    "tot, dif, prd, qut = funct6(100, 40)\n",
    "print (f\"Total = {tot}, difference = {dif}, product = {prd} and quotient = {qut}...\")\n",
    "result = funct6(100, 40)\n",
    "print (result, len(result), type(result), id(result))\n",
    "print (f\"Total = {result[0]}, difference = {result[1]}, product = {result[2]} and quotient = {result[3]}...\")"
   ]
  },
  {
   "cell_type": "code",
   "execution_count": 154,
   "id": "8ec1e3c8-b5a8-4770-b087-c5ccbc7feb67",
   "metadata": {},
   "outputs": [
    {
     "name": "stdout",
     "output_type": "stream",
     "text": [
      "('Amitava', 'Developer') 2 <class 'tuple'> 2168792383808\n",
      "('Amitava', 'Developer', 'Pune', 65000) 4 <class 'tuple'> 2168794982544\n",
      "('Amitava', 'Developer', 'Pune', 65000, True) 5 <class 'tuple'> 2168791058608\n"
     ]
    }
   ],
   "source": [
    "# function with variable number of arguments\n",
    "def funct7(*arg):    # *arg means forcibly we are defining a tuple class object\n",
    "    print (arg, len(arg), type(arg), id(arg))\n",
    "    \n",
    "funct7(\"Amitava\", \"Developer\")\n",
    "funct7(\"Amitava\", \"Developer\", \"Pune\", 65000)\n",
    "funct7(\"Amitava\", \"Developer\", \"Pune\", 65000, True)"
   ]
  },
  {
   "cell_type": "code",
   "execution_count": 157,
   "id": "a610ac38-20db-4c0b-8863-95d9afda5d94",
   "metadata": {},
   "outputs": [
    {
     "name": "stdout",
     "output_type": "stream",
     "text": [
      "{'name': 'Amitava', 'job': 'Developer'} 2 <class 'dict'> 2168795871296\n",
      "{'name': 'Amitava', 'job': 'Developer', 'location': 'Pune', 'salary': 65000} 4 <class 'dict'> 2168795873088\n",
      "{'name': 'Amitava', 'job': 'Developer', 'location': 'Pune', 'salary': 65000, 'married': True} 5 <class 'dict'> 2168795872064\n"
     ]
    }
   ],
   "source": [
    "# function with variable number of arguments\n",
    "def funct8(**kwarg):    # **kwarg means forcibly we are defining a dictionary class object\n",
    "    print (kwarg, len(kwarg), type(kwarg), id(kwarg))\n",
    "    \n",
    "funct8(name=\"Amitava\", job=\"Developer\")\n",
    "funct8(name=\"Amitava\", job=\"Developer\", location=\"Pune\", salary=65000)\n",
    "funct8(name=\"Amitava\", job=\"Developer\", location=\"Pune\", salary=65000, married=True)"
   ]
  },
  {
   "cell_type": "code",
   "execution_count": 159,
   "id": "e018eb46-a053-4f70-b136-cc9639b8f9ef",
   "metadata": {},
   "outputs": [
    {
     "name": "stdout",
     "output_type": "stream",
     "text": [
      "('Amitava', 'Developer') 2 <class 'tuple'> 2168795560960\n",
      "{'location': 'Pune', 'salary': 65000, 'married': True} 3 <class 'dict'> 2168795803008\n",
      "\n",
      "('Amitava', 'Developer') 2 <class 'tuple'> 2168795560960\n",
      "{} 0 <class 'dict'> 2168795800192\n",
      "\n",
      "() 0 <class 'tuple'> 2168670404720\n",
      "{'location': 'Pune', 'salary': 65000, 'married': True} 3 <class 'dict'> 2168795796416\n"
     ]
    }
   ],
   "source": [
    "# function with variable number of arguments\n",
    "def funct9(*arg, **kwarg):\n",
    "    print (arg, len(arg), type(arg), id(arg))\n",
    "    print (kwarg, len(kwarg), type(kwarg), id(kwarg))\n",
    "    \n",
    "funct9(\"Amitava\", \"Developer\", location=\"Pune\", salary=65000, married=True)\n",
    "print ()\n",
    "funct9(\"Amitava\", \"Developer\")\n",
    "print ()\n",
    "funct9(location=\"Pune\", salary=65000, married=True)"
   ]
  },
  {
   "cell_type": "code",
   "execution_count": 165,
   "id": "95b9ccc1-bfa7-4636-b3cd-31abc8a7b3e0",
   "metadata": {},
   "outputs": [
    {
     "name": "stdout",
     "output_type": "stream",
     "text": [
      "Loop is executing for i = 2...\n",
      "Loop is executing for i = 3...\n",
      "Loop is executing for i = 4...\n",
      "So n = 5 and its factorial = 120...\n",
      "Loop is executing for i = 2...\n",
      "Loop is executing for i = 3...\n",
      "Loop is executing for i = 4...\n",
      "Loop is executing for i = 5...\n",
      "So n = 6 and its factorial = 720...\n"
     ]
    }
   ],
   "source": [
    "# non-recursive function\n",
    "def factorial_nr(num):\n",
    "    if (num == 0 or num == 1): return 1\n",
    "    fact = num\n",
    "    for i in range(2, num):\n",
    "        print (f\"Loop is executing for i = {i}...\")\n",
    "        fact *= i\n",
    "    return fact\n",
    "\n",
    "n = 5\n",
    "result = factorial_nr(n)\n",
    "print (f\"So n = {n} and its factorial = {result}...\")\n",
    "n = 6\n",
    "result = factorial_nr(n)\n",
    "print (f\"So n = {n} and its factorial = {result}...\")"
   ]
  },
  {
   "cell_type": "code",
   "execution_count": 167,
   "id": "1c2fc9f1-5193-4363-8e78-05838c2863e1",
   "metadata": {},
   "outputs": [
    {
     "name": "stdout",
     "output_type": "stream",
     "text": [
      "So n = 5 and its factorial = 120...\n",
      "So n = 6 and its factorial = 720...\n"
     ]
    }
   ],
   "source": [
    "# recursive function\n",
    "def factorial_r(num):\n",
    "    if (num == 0 or num == 1): return 1   # base case: for certain inputs, outputs are pre-known\n",
    "    return num * factorial_r(num - 1)  # recursive case, the function will call itself\n",
    "\n",
    "n = 5\n",
    "result = factorial_r(n)\n",
    "print (f\"So n = {n} and its factorial = {result}...\")\n",
    "n = 6\n",
    "result = factorial_r(n)\n",
    "print (f\"So n = {n} and its factorial = {result}...\")"
   ]
  },
  {
   "cell_type": "code",
   "execution_count": null,
   "id": "3c28faf7-8f58-43ee-a330-ba1ef14bf55e",
   "metadata": {},
   "outputs": [],
   "source": [
    "5! = 5 * 4!\n",
    "         4 * 3!\n",
    "             3 * 2!\n",
    "                 2 * 1!\n",
    "                     1\n",
    "                 2\n",
    "             6\n",
    "         24\n",
    "     120 => Answer"
   ]
  },
  {
   "cell_type": "markdown",
   "id": "e6f0e35e-9a46-4f79-8eb0-1315e57533fd",
   "metadata": {},
   "source": [
    "### Lambda Function\n",
    "> In Python programming, a lambda function is a small anonymous function that can have any number of arguments, but can only have one expression. The expression is evaluated and returned as the function result. Lambda functions are commonly used in combination with higher-order functions such as map(), filter(), and reduce().\n",
    "\n",
    "Some of the properties of lambda functions in Python programming include:\n",
    "* **Anonymous:** Lambda functions are anonymous, meaning they do not have a name like regular functions. They are defined using the keyword \"lambda\" followed by the arguments and the expression.\n",
    "* **Single Expression:** A lambda function can only contain a single expression that is evaluated and returned as the function result. This means that it cannot contain multiple statements or control flow structures.\n",
    "* **Concise:** Lambda functions are concise and can be defined in a single line of code. This makes them useful for defining simple functions on-the-fly.\n",
    "* **Immutable:** Lambda functions are immutable, meaning they cannot be modified once defined. This means that you cannot change the behavior of a lambda function after it has been defined.\n",
    "* **Higher-order Functions:** Lambda functions are often used in combination with higher-order functions such as map(), filter(), and reduce(). These functions take other functions as arguments and return new functions as results.\n",
    "* **Memory-efficient:** Lambda functions are memory-efficient since they are defined on-the-fly and do not require a separate function definition. This can be useful when working with large data sets or when memory usage is a concern."
   ]
  },
  {
   "cell_type": "code",
   "execution_count": 169,
   "id": "85755ec0-9116-456b-9d81-00b4f1765d63",
   "metadata": {},
   "outputs": [
    {
     "name": "stdout",
     "output_type": "stream",
     "text": [
      "100\n",
      "<class 'function'>\n"
     ]
    }
   ],
   "source": [
    "my_square = lambda num: num * num\n",
    "\n",
    "result = my_sqare(10)\n",
    "print (result)\n",
    "print (type(my_square))"
   ]
  },
  {
   "cell_type": "code",
   "execution_count": 170,
   "id": "5b028cc8-a743-4b42-b3c2-0d9a69fbb806",
   "metadata": {},
   "outputs": [
    {
     "name": "stdout",
     "output_type": "stream",
     "text": [
      "500\n",
      "<function <lambda> at 0x000001F8F687EB90>\n"
     ]
    }
   ],
   "source": [
    "my_addition = lambda num1, num2: num1 + num2\n",
    "result = my_addition(100, 400)\n",
    "print (result)\n",
    "print (my_addition)"
   ]
  },
  {
   "cell_type": "code",
   "execution_count": 171,
   "id": "d3d1e35d-9a91-4cdc-b6b2-d7e8e9e46008",
   "metadata": {},
   "outputs": [
    {
     "name": "stdout",
     "output_type": "stream",
     "text": [
      "120\n",
      "720\n"
     ]
    }
   ],
   "source": [
    "my_factorial = lambda num: 1 if (num == 0 or num == 1) else num * my_factorial(num - 1)\n",
    "\n",
    "print (my_factorial(5))\n",
    "print (my_factorial(6))"
   ]
  },
  {
   "cell_type": "code",
   "execution_count": 174,
   "id": "82cb6a35-290d-48e4-8c91-8762beb9b4ba",
   "metadata": {},
   "outputs": [
    {
     "name": "stdout",
     "output_type": "stream",
     "text": [
      "<class 'function'> <class 'function'>\n",
      "30\n",
      "80\n",
      "80\n"
     ]
    }
   ],
   "source": [
    "def funct10(num):\n",
    "    my_product = lambda n: n * num\n",
    "    return my_product\n",
    "var10 = funct10(10)\n",
    "var20 = funct10(20)\n",
    "print (type(var10), type(var20))\n",
    "print (var10(3))\n",
    "print (var20(4))\n",
    "print (funct10(20)(4))"
   ]
  },
  {
   "cell_type": "code",
   "execution_count": 176,
   "id": "e4c707b2-f7cd-47c3-aa69-11ba58824653",
   "metadata": {},
   "outputs": [
    {
     "name": "stdout",
     "output_type": "stream",
     "text": [
      "Before calling the function num = 100 2168670391632\n",
      "Inside the function num = 555 2168801079376\n",
      "After calling the function num = 100 2168670391632\n",
      "End of the program...\n"
     ]
    }
   ],
   "source": [
    "def funct11():\n",
    "    num = 555\n",
    "    print (\"Inside the function num =\", num, id(num))\n",
    "    \n",
    "num = 100\n",
    "print (\"Before calling the function num =\", num, id(num))\n",
    "funct11()\n",
    "print (\"After calling the function num =\", num, id(num))\n",
    "print (\"End of the program...\")"
   ]
  },
  {
   "cell_type": "code",
   "execution_count": 178,
   "id": "94c14274-5e26-4c48-b9b5-273b45abb166",
   "metadata": {},
   "outputs": [
    {
     "name": "stdout",
     "output_type": "stream",
     "text": [
      "Before calling the function num = 100 2168670391632\n",
      "Inside the function num = 100 2168670391632\n",
      "Inside the function num = 555 2168801079856\n",
      "After calling the function num = 555 2168801079856\n",
      "End of the program...\n"
     ]
    }
   ],
   "source": [
    "def funct11():\n",
    "    global num\n",
    "    print (\"Inside the function num =\", num, id(num))\n",
    "    num = 555\n",
    "    print (\"Inside the function num =\", num, id(num))\n",
    "    \n",
    "num = 100\n",
    "print (\"Before calling the function num =\", num, id(num))\n",
    "funct11()\n",
    "print (\"After calling the function num =\", num, id(num))\n",
    "print (\"End of the program...\")"
   ]
  },
  {
   "cell_type": "code",
   "execution_count": 179,
   "id": "4dbfa3e6-c160-4089-90bb-4b82044f1b90",
   "metadata": {},
   "outputs": [
    {
     "name": "stdout",
     "output_type": "stream",
     "text": [
      "[50, 20, 30, 60, 40]\n",
      "[20, 30, 40, 50, 60]\n"
     ]
    }
   ],
   "source": [
    "numbers = [50, 20, 30, 60, 40]\n",
    "sorted_numbers = sorted(numbers)\n",
    "print (numbers)\n",
    "print (sorted_numbers)"
   ]
  },
  {
   "cell_type": "code",
   "execution_count": 180,
   "id": "09568c1d-10b7-46bc-ba40-5da15df1c06b",
   "metadata": {},
   "outputs": [
    {
     "name": "stdout",
     "output_type": "stream",
     "text": [
      "[50, 20, 30, 60, 40]\n",
      "[60, 50, 40, 30, 20]\n"
     ]
    }
   ],
   "source": [
    "numbers = [50, 20, 30, 60, 40]\n",
    "sorted_numbers = sorted(numbers, key = lambda x: -x)\n",
    "print (numbers)\n",
    "print (sorted_numbers)"
   ]
  },
  {
   "cell_type": "code",
   "execution_count": null,
   "id": "87401a45-ea9e-4749-a65f-e9172810d136",
   "metadata": {},
   "outputs": [],
   "source": [
    "# Class Assignment:\n",
    "Index:  1   2   3   4    5   6   7   8   9   10   11  12 ...      \n",
    "total = 1 + 2 + 3 + 4 + 10 + 5 + 6 + 7 + 8 + 26 + 9 + 10 + ... n terms\n",
    "1. Find the 99th term of the series. Answer: 80\n",
    "2. For first n number of terms in the series, find the sum of the series.\n",
    "for n = 4, total = 10\n",
    "for n = 5, total = 20\n",
    "for n = 10, total = 72\n",
    "for user given n, total = ???"
   ]
  },
  {
   "cell_type": "code",
   "execution_count": null,
   "id": "e085bf5b-ec51-4492-bbb1-b9330388bd9a",
   "metadata": {},
   "outputs": [],
   "source": [
    "input n\n",
    "fsum = 0 and tsum = 0 and term = 1\n",
    "for i = 1 to n\n",
    "    if (i mod 5 = 0) then fsum = fsum + tsum; tsum = 0\n",
    "    else tsum = tsum + term; fsum = fsum + term; term = term + 1\n",
    "end for\n",
    "print fsum\n",
    "end"
   ]
  },
  {
   "cell_type": "code",
   "execution_count": 185,
   "id": "d5c7b135-0331-4a08-a4b7-224a1dbfafba",
   "metadata": {},
   "outputs": [
    {
     "name": "stdin",
     "output_type": "stream",
     "text": [
      "Please enter the number of terms:  12\n"
     ]
    },
    {
     "name": "stdout",
     "output_type": "stream",
     "text": [
      "For i = 1 adding term = 1...\n",
      "For i = 2 adding term = 2...\n",
      "For i = 3 adding term = 3...\n",
      "For i = 4 adding term = 4...\n",
      "And for i = 5 adding tsum = 10...\n",
      "For i = 6 adding term = 5...\n",
      "For i = 7 adding term = 6...\n",
      "For i = 8 adding term = 7...\n",
      "For i = 9 adding term = 8...\n",
      "And for i = 10 adding tsum = 26...\n",
      "For i = 11 adding term = 9...\n",
      "For i = 12 adding term = 10...\n",
      "So the final sum of 12 terms of the series is 91...\n",
      "End of the program...\n"
     ]
    }
   ],
   "source": [
    "n = int(input(\"Please enter the number of terms: \"))\n",
    "fsum = tsum = 0; term = 1\n",
    "for i in range(1, n + 1):\n",
    "    if (i % 5 == 0):\n",
    "        fsum = fsum + tsum;\n",
    "        print (f\"And for i = {i} adding tsum = {tsum}...\")\n",
    "        tsum = 0\n",
    "    else:\n",
    "        tsum = tsum + term;\n",
    "        fsum = fsum + term;\n",
    "        print (f\"For i = {i} adding term = {term}...\")\n",
    "        term = term + 1\n",
    "print (f\"So the final sum of {n} terms of the series is {fsum}...\")\n",
    "print (\"End of the program...\")"
   ]
  },
  {
   "cell_type": "code",
   "execution_count": null,
   "id": "49d02fe5-781b-46ef-afa2-83ad6703de01",
   "metadata": {},
   "outputs": [],
   "source": []
  },
  {
   "cell_type": "code",
   "execution_count": null,
   "id": "0f0f59d3-f6e0-4b34-88cf-7dc09cb5b6e8",
   "metadata": {},
   "outputs": [],
   "source": []
  },
  {
   "cell_type": "code",
   "execution_count": null,
   "id": "26b79e52-a98b-4610-865c-db57ee6f812b",
   "metadata": {},
   "outputs": [],
   "source": []
  },
  {
   "cell_type": "code",
   "execution_count": null,
   "id": "d6be709f-138f-4a6a-b749-7601629c04cd",
   "metadata": {},
   "outputs": [],
   "source": []
  }
 ],
 "metadata": {
  "kernelspec": {
   "display_name": "Python 3 (ipykernel)",
   "language": "python",
   "name": "python3"
  },
  "language_info": {
   "codemirror_mode": {
    "name": "ipython",
    "version": 3
   },
   "file_extension": ".py",
   "mimetype": "text/x-python",
   "name": "python",
   "nbconvert_exporter": "python",
   "pygments_lexer": "ipython3",
   "version": "3.10.9"
  }
 },
 "nbformat": 4,
 "nbformat_minor": 5
}
