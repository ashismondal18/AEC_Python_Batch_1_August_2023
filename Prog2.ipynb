{
 "cells": [
  {
   "cell_type": "markdown",
   "id": "a527999d-263e-4a90-90a7-7d114db89531",
   "metadata": {},
   "source": [
    "### Importing Module: Math Module"
   ]
  },
  {
   "cell_type": "code",
   "execution_count": 1,
   "id": "ca4b45cf-c6d3-4d75-93e8-7634d09eb27c",
   "metadata": {},
   "outputs": [],
   "source": [
    "# importing required module\n",
    "import math"
   ]
  },
  {
   "cell_type": "code",
   "execution_count": 16,
   "id": "45746b36-b375-4536-8800-e4856eeacde2",
   "metadata": {},
   "outputs": [
    {
     "name": "stdout",
     "output_type": "stream",
     "text": [
      "0.0 1.0 0.0\n",
      "0.0 1.0 0.0\n",
      "3.141592653589793 2.718281828459045 6.283185307179586\n",
      "10 1260 1260.0\n",
      "4.605170185988092 4.605170185988092 10.0 10.0\n",
      "2.9999999999999996 3.0 1000000.0 1000000 1000000.0\n",
      "120 720\n",
      "100 10 101 101\n"
     ]
    }
   ],
   "source": [
    "print (math.sin(0), math.cos(0), math.tan(0))\n",
    "print (math.sinh(0), math.cosh(0), math.tanh(0))\n",
    "print (math.pi, math.e, math.tau)   # constants\n",
    "print (math.gcd(180, 70), math.lcm(180, 70), 180 * 70 / math.gcd(180, 70))\n",
    "print (math.log(100), math.log(100, math.e), math.log(1024, 2), math.log2(1024))\n",
    "print (math.log(1000, 10), math.log10(1000), math.pow(100, 3), 100 ** 3, 100.0 ** 3)\n",
    "print (math.factorial(5), math.factorial(6))\n",
    "print (math.floor(100.1), math.floor(10.9), math.ceil(100.1), math.ceil(100.9))"
   ]
  },
  {
   "cell_type": "code",
   "execution_count": 20,
   "id": "56520d79-49d4-4b81-a35b-68e8b02538fe",
   "metadata": {},
   "outputs": [
    {
     "name": "stdout",
     "output_type": "stream",
     "text": [
      "Help on built-in function pow in module math:\n",
      "\n",
      "pow(x, y, /)\n",
      "    Return x**y (x to the power of y).\n",
      "\n"
     ]
    }
   ],
   "source": [
    "help(math.pow)"
   ]
  },
  {
   "cell_type": "code",
   "execution_count": null,
   "id": "aaf4c29d-0eee-44cf-84b8-8dfa51de2c88",
   "metadata": {},
   "outputs": [],
   "source": [
    "help(math)"
   ]
  },
  {
   "cell_type": "code",
   "execution_count": 25,
   "id": "cb524fd0-ad9c-48e6-83d5-19f19b35748f",
   "metadata": {},
   "outputs": [
    {
     "name": "stdout",
     "output_type": "stream",
     "text": [
      "100.4987562112089\n",
      "31.622776601683793 100.0\n",
      "100.4987562112089\n"
     ]
    }
   ],
   "source": [
    "print (math.dist((100, 30), (200, 40)))   # calculating Eucledian distance\n",
    "print (math.sqrt(1000), math.sqrt(10000))\n",
    "print (math.sqrt((100 - 200) ** 2 + (30 - 40) ** 2))"
   ]
  },
  {
   "cell_type": "code",
   "execution_count": 26,
   "id": "d9c029f9-1b1c-478f-bd29-792331e77d3c",
   "metadata": {},
   "outputs": [
    {
     "name": "stdout",
     "output_type": "stream",
     "text": [
      "                                  2023\n",
      "\n",
      "      January                   February                   March\n",
      "Mo Tu We Th Fr Sa Su      Mo Tu We Th Fr Sa Su      Mo Tu We Th Fr Sa Su\n",
      "                   1             1  2  3  4  5             1  2  3  4  5\n",
      " 2  3  4  5  6  7  8       6  7  8  9 10 11 12       6  7  8  9 10 11 12\n",
      " 9 10 11 12 13 14 15      13 14 15 16 17 18 19      13 14 15 16 17 18 19\n",
      "16 17 18 19 20 21 22      20 21 22 23 24 25 26      20 21 22 23 24 25 26\n",
      "23 24 25 26 27 28 29      27 28                     27 28 29 30 31\n",
      "30 31\n",
      "\n",
      "       April                      May                       June\n",
      "Mo Tu We Th Fr Sa Su      Mo Tu We Th Fr Sa Su      Mo Tu We Th Fr Sa Su\n",
      "                1  2       1  2  3  4  5  6  7                1  2  3  4\n",
      " 3  4  5  6  7  8  9       8  9 10 11 12 13 14       5  6  7  8  9 10 11\n",
      "10 11 12 13 14 15 16      15 16 17 18 19 20 21      12 13 14 15 16 17 18\n",
      "17 18 19 20 21 22 23      22 23 24 25 26 27 28      19 20 21 22 23 24 25\n",
      "24 25 26 27 28 29 30      29 30 31                  26 27 28 29 30\n",
      "\n",
      "        July                     August                  September\n",
      "Mo Tu We Th Fr Sa Su      Mo Tu We Th Fr Sa Su      Mo Tu We Th Fr Sa Su\n",
      "                1  2          1  2  3  4  5  6                   1  2  3\n",
      " 3  4  5  6  7  8  9       7  8  9 10 11 12 13       4  5  6  7  8  9 10\n",
      "10 11 12 13 14 15 16      14 15 16 17 18 19 20      11 12 13 14 15 16 17\n",
      "17 18 19 20 21 22 23      21 22 23 24 25 26 27      18 19 20 21 22 23 24\n",
      "24 25 26 27 28 29 30      28 29 30 31               25 26 27 28 29 30\n",
      "31\n",
      "\n",
      "      October                   November                  December\n",
      "Mo Tu We Th Fr Sa Su      Mo Tu We Th Fr Sa Su      Mo Tu We Th Fr Sa Su\n",
      "                   1             1  2  3  4  5                   1  2  3\n",
      " 2  3  4  5  6  7  8       6  7  8  9 10 11 12       4  5  6  7  8  9 10\n",
      " 9 10 11 12 13 14 15      13 14 15 16 17 18 19      11 12 13 14 15 16 17\n",
      "16 17 18 19 20 21 22      20 21 22 23 24 25 26      18 19 20 21 22 23 24\n",
      "23 24 25 26 27 28 29      27 28 29 30               25 26 27 28 29 30 31\n",
      "30 31\n"
     ]
    }
   ],
   "source": [
    "import calendar\n",
    "calendar.prcal(2023)"
   ]
  },
  {
   "cell_type": "markdown",
   "id": "8dad372d-809f-452a-8398-748b9084d197",
   "metadata": {},
   "source": [
    "### String Processing"
   ]
  },
  {
   "cell_type": "code",
   "execution_count": null,
   "id": "468e55ba-af9e-4e23-ab8e-2e7d4b989c8d",
   "metadata": {},
   "outputs": [],
   "source": [
    "index from left to right ->   0   1   2   3   4   5   6   7   8   9  \n",
    "                    mystr =   u   n   i   v   e   r   s   i   t   y\n",
    "index from right to left -> -10  -9  -8  -7  -6  -5  -4  -3  -2  -1"
   ]
  },
  {
   "cell_type": "code",
   "execution_count": 41,
   "id": "58f0eeb7-4932-4173-af2a-4c97df2fc0fa",
   "metadata": {},
   "outputs": [
    {
     "name": "stdout",
     "output_type": "stream",
     "text": [
      "university 10 <class 'str'> 2993550925680\n",
      "v v s s\n",
      "versi versi versi versi\n",
      "niver niver niver niver\n",
      "uiest uiest nvriy nvriy\n",
      "ytisrevinu yirvn tseiu\n"
     ]
    }
   ],
   "source": [
    "mystr = \"university\"\n",
    "print (mystr, len(mystr), type(mystr), id(mystr))\n",
    "print (mystr[3], mystr[-7], mystr[6], mystr[-4])    # indexing\n",
    "print (mystr[3:8], mystr[-7:-2], mystr[3:-2], mystr[-7:8])\n",
    "print (mystr[1:6], mystr[-9:-4], mystr[1:-4], mystr[-9:6])\n",
    "print (mystr[0::2], mystr[::2], mystr[1::2], mystr[-9::2])\n",
    "print (mystr[::-1], mystr[9::-2], mystr[8::-2])"
   ]
  },
  {
   "cell_type": "code",
   "execution_count": 48,
   "id": "27b6c553-89ff-4d26-bb1d-b1a03304d3bd",
   "metadata": {},
   "outputs": [
    {
     "name": "stdout",
     "output_type": "stream",
     "text": [
      "caLCuTTa unIVerSity 19 <class 'str'> 2993541076096\n",
      "calcutta university\n",
      "CALCUTTA UNIVERSITY\n",
      "CAlcUttA UNivERsITY\n",
      "Calcutta university\n",
      "Calcutta University\n",
      "          caLCuTTa unIVerSity           \n",
      "          Calcutta University           \n"
     ]
    }
   ],
   "source": [
    "mystr = \"caLCuTTa unIVerSity\"\n",
    "print (mystr, len(mystr), type(mystr), id(mystr))\n",
    "print (mystr.lower())\n",
    "print (mystr.upper())\n",
    "print (mystr.swapcase())\n",
    "print (mystr.capitalize())\n",
    "print (mystr.title())\n",
    "print (mystr.center(40))\n",
    "print (mystr.title().center(40))"
   ]
  },
  {
   "cell_type": "code",
   "execution_count": 55,
   "id": "cfe70630-f656-477d-a5c8-ff0aeb73159b",
   "metadata": {},
   "outputs": [
    {
     "name": "stdout",
     "output_type": "stream",
     "text": [
      "4 -1 4\n",
      "4 4 11 -1\n"
     ]
    }
   ],
   "source": [
    "mystr = \"charity begins at home\"\n",
    "print (mystr.find(\"ity\"), mystr.find(\"ITY\"), mystr.find(\"ITY\".lower()))\n",
    "print (mystr.find(\"i\"), mystr.find(\"i\", 2), mystr.find(\"i\", 5), mystr.find(\"i\", 12))"
   ]
  },
  {
   "cell_type": "code",
   "execution_count": 57,
   "id": "54431a99-4a7e-484e-9746-44396e5c51a1",
   "metadata": {},
   "outputs": [
    {
     "name": "stdout",
     "output_type": "stream",
     "text": [
      "4 4\n",
      "4 4 11\n"
     ]
    },
    {
     "ename": "ValueError",
     "evalue": "substring not found",
     "output_type": "error",
     "traceback": [
      "\u001b[1;31m---------------------------------------------------------------------------\u001b[0m",
      "\u001b[1;31mValueError\u001b[0m                                Traceback (most recent call last)",
      "Cell \u001b[1;32mIn[57], line 4\u001b[0m\n\u001b[0;32m      2\u001b[0m \u001b[38;5;28mprint\u001b[39m (mystr\u001b[38;5;241m.\u001b[39mindex(\u001b[38;5;124m\"\u001b[39m\u001b[38;5;124mity\u001b[39m\u001b[38;5;124m\"\u001b[39m), mystr\u001b[38;5;241m.\u001b[39mindex(\u001b[38;5;124m\"\u001b[39m\u001b[38;5;124mITY\u001b[39m\u001b[38;5;124m\"\u001b[39m\u001b[38;5;241m.\u001b[39mlower()))\n\u001b[0;32m      3\u001b[0m \u001b[38;5;28mprint\u001b[39m (mystr\u001b[38;5;241m.\u001b[39mindex(\u001b[38;5;124m\"\u001b[39m\u001b[38;5;124mi\u001b[39m\u001b[38;5;124m\"\u001b[39m), mystr\u001b[38;5;241m.\u001b[39mindex(\u001b[38;5;124m\"\u001b[39m\u001b[38;5;124mi\u001b[39m\u001b[38;5;124m\"\u001b[39m, \u001b[38;5;241m2\u001b[39m), mystr\u001b[38;5;241m.\u001b[39mindex(\u001b[38;5;124m\"\u001b[39m\u001b[38;5;124mi\u001b[39m\u001b[38;5;124m\"\u001b[39m, \u001b[38;5;241m5\u001b[39m))\n\u001b[1;32m----> 4\u001b[0m \u001b[38;5;28mprint\u001b[39m (\u001b[43mmystr\u001b[49m\u001b[38;5;241;43m.\u001b[39;49m\u001b[43mindex\u001b[49m\u001b[43m(\u001b[49m\u001b[38;5;124;43m\"\u001b[39;49m\u001b[38;5;124;43mi\u001b[39;49m\u001b[38;5;124;43m\"\u001b[39;49m\u001b[43m,\u001b[49m\u001b[43m \u001b[49m\u001b[38;5;241;43m12\u001b[39;49m\u001b[43m)\u001b[49m)\n",
      "\u001b[1;31mValueError\u001b[0m: substring not found"
     ]
    }
   ],
   "source": [
    "mystr = \"charity begins at home\"\n",
    "print (mystr.index(\"ity\"), mystr.index(\"ITY\".lower()))\n",
    "print (mystr.index(\"i\"), mystr.index(\"i\", 2), mystr.index(\"i\", 5))\n",
    "print (mystr.index(\"i\", 12))"
   ]
  },
  {
   "cell_type": "code",
   "execution_count": 58,
   "id": "579a2ee4-9cc3-484a-99f1-f69d954f620b",
   "metadata": {},
   "outputs": [
    {
     "name": "stdout",
     "output_type": "stream",
     "text": [
      "4 4\n",
      "4 4 11\n",
      "Unsuccessful searching...\n"
     ]
    }
   ],
   "source": [
    "try:\n",
    "    mystr = \"charity begins at home\"\n",
    "    print (mystr.index(\"ity\"), mystr.index(\"ITY\".lower()))\n",
    "    print (mystr.index(\"i\"), mystr.index(\"i\", 2), mystr.index(\"i\", 5))\n",
    "    print (mystr.index(\"i\", 12))\n",
    "except:\n",
    "    print (\"Unsuccessful searching...\")"
   ]
  },
  {
   "cell_type": "code",
   "execution_count": 59,
   "id": "0b332436-f2ac-4e82-8357-6cad8db7d151",
   "metadata": {},
   "outputs": [
    {
     "name": "stdout",
     "output_type": "stream",
     "text": [
      "4 4\n",
      "4 4 11\n",
      "Unsuccessful searching...\n",
      "Error type: <class 'ValueError'>...\n",
      "Error message: substring not found...\n"
     ]
    }
   ],
   "source": [
    "try:\n",
    "    mystr = \"charity begins at home\"\n",
    "    print (mystr.index(\"ity\"), mystr.index(\"ITY\".lower()))\n",
    "    print (mystr.index(\"i\"), mystr.index(\"i\", 2), mystr.index(\"i\", 5))\n",
    "    print (mystr.index(\"i\", 12))\n",
    "except ValueError as ve:\n",
    "    print (\"Unsuccessful searching...\")\n",
    "    print (f\"Error type: {type(ve)}...\")\n",
    "    print (f\"Error message: {ve}...\")"
   ]
  },
  {
   "cell_type": "code",
   "execution_count": 65,
   "id": "c19fc581-7c61-4864-b918-7d0166a9a7bc",
   "metadata": {},
   "outputs": [
    {
     "name": "stdout",
     "output_type": "stream",
     "text": [
      "    calcutta    university      31 <class 'str'> 2993522371888\n",
      "calcutta    university 22 <class 'str'> 2993518222336\n",
      "calcutta    university      27 <class 'str'> 2993522147072\n",
      "    calcutta    university 26 <class 'str'> 2993560541168\n"
     ]
    }
   ],
   "source": [
    "mystr = \"    calcutta    university     \"\n",
    "print (mystr, len(mystr), type(mystr), id(mystr))\n",
    "result = mystr.strip()\n",
    "print (result, len(result), type(result), id(result))\n",
    "result = mystr.lstrip()\n",
    "print (result, len(result), type(result), id(result))\n",
    "result = mystr.rstrip()\n",
    "print (result, len(result), type(result), id(result))"
   ]
  },
  {
   "cell_type": "code",
   "execution_count": 66,
   "id": "9adf4184-bbd0-4346-ba12-dab4dd157f92",
   "metadata": {},
   "outputs": [
    {
     "name": "stdout",
     "output_type": "stream",
     "text": [
      "###@calcutta#@#university@#@@@ 30 <class 'str'> 2993522592624\n",
      "calcutta#@#university 21 <class 'str'> 2993550578256\n",
      "calcutta#@#university@#@@@ 26 <class 'str'> 2993560541168\n",
      "###@calcutta#@#university 25 <class 'str'> 2993522371728\n"
     ]
    }
   ],
   "source": [
    "mystr = \"###@calcutta#@#university@#@@@\"\n",
    "print (mystr, len(mystr), type(mystr), id(mystr))\n",
    "result = mystr.strip(\"#@\")\n",
    "print (result, len(result), type(result), id(result))\n",
    "result = mystr.lstrip(\"#@\")\n",
    "print (result, len(result), type(result), id(result))\n",
    "result = mystr.rstrip(\"#@\")\n",
    "print (result, len(result), type(result), id(result))"
   ]
  },
  {
   "cell_type": "code",
   "execution_count": 74,
   "id": "b49b2825-7004-45ea-be1b-462a83e027d2",
   "metadata": {},
   "outputs": [
    {
     "name": "stdout",
     "output_type": "stream",
     "text": [
      "charity begins at home 22 <class 'str'> 2993522362928\n",
      "True False True\n",
      "True True False\n"
     ]
    }
   ],
   "source": [
    "mystr = \"charity begins at home\"\n",
    "print (mystr, len(mystr), type(mystr), id(mystr))\n",
    "print (mystr.startswith(\"cha\"), mystr.startswith(\"beg\"), mystr.startswith(\"beg\", 8))\n",
    "print (mystr.startswith(\"beg\", 8, 500), mystr.startswith(\"beg\", 8, 11), mystr.startswith(\"beg\", 8, 10))"
   ]
  },
  {
   "cell_type": "code",
   "execution_count": 78,
   "id": "3789c8c1-3a6d-4de6-94fb-03a12c0ee8ca",
   "metadata": {},
   "outputs": [
    {
     "name": "stdout",
     "output_type": "stream",
     "text": [
      "charity begins at home 22 <class 'str'> 2993560542208\n",
      "True False True\n",
      "True\n"
     ]
    }
   ],
   "source": [
    "mystr = \"charity begins at home\"\n",
    "print (mystr, len(mystr), type(mystr), id(mystr))\n",
    "print (mystr.endswith(\"ome\"), mystr.endswith(\"beg\"), mystr.endswith(\"beg\", 0, 11))\n",
    "print (mystr.endswith(\"beg\", 4, 11))"
   ]
  },
  {
   "cell_type": "code",
   "execution_count": 79,
   "id": "44c51e88-b91b-4ec2-9770-5075021113bc",
   "metadata": {},
   "outputs": [
    {
     "name": "stdout",
     "output_type": "stream",
     "text": [
      "s, c, h, o, o, l, "
     ]
    }
   ],
   "source": [
    "mystr = \"school\"\n",
    "for ch in mystr:\n",
    "    print (ch, end = \", \")"
   ]
  },
  {
   "cell_type": "code",
   "execution_count": 81,
   "id": "710f67b5-3962-4e87-a156-ff2dadd71f9e",
   "metadata": {},
   "outputs": [
    {
     "name": "stdout",
     "output_type": "stream",
     "text": [
      "s, c, h, o, o, l, "
     ]
    }
   ],
   "source": [
    "mystr = \"school\"\n",
    "for i in range(len(mystr)):\n",
    "    print (mystr[i], end = \", \")"
   ]
  },
  {
   "cell_type": "code",
   "execution_count": 83,
   "id": "ee955c8e-cf41-476c-a23e-ed2f0fbd37f5",
   "metadata": {},
   "outputs": [
    {
     "name": "stdout",
     "output_type": "stream",
     "text": [
      "['charity', 'begins', 'at', 'home']\n",
      "['charity', 'begins', 'at', 'home']\n",
      "['char', 'ty beg', 'ns at home']\n"
     ]
    }
   ],
   "source": [
    "mystr = \"charity begins at home\"\n",
    "list1 = mystr.split()\n",
    "print (list1)\n",
    "list1 = mystr.split(\" \")\n",
    "print (list1)\n",
    "list1 = mystr.split(\"i\")\n",
    "print (list1)"
   ]
  },
  {
   "cell_type": "code",
   "execution_count": 86,
   "id": "fc9cabe0-7e54-4490-9a8c-987a6d367fd2",
   "metadata": {},
   "outputs": [
    {
     "name": "stdout",
     "output_type": "stream",
     "text": [
      "charity begins at home\n",
      "charity begins at home\n",
      "charity - begins - at - home\n"
     ]
    }
   ],
   "source": [
    "list1 = ['charity', 'begins', 'at', 'home']\n",
    "mystr = \" \".join(list1)\n",
    "print (mystr)\n",
    "list1 = ['char', 'ty beg', 'ns at home']\n",
    "mystr = \"i\".join(list1)\n",
    "print (mystr)\n",
    "list1 = ['charity', 'begins', 'at', 'home']\n",
    "mystr = \" - \".join(list1)\n",
    "print (mystr)"
   ]
  },
  {
   "cell_type": "code",
   "execution_count": 91,
   "id": "da18a26a-5b56-4080-9b4c-169d315373bf",
   "metadata": {},
   "outputs": [
    {
     "name": "stdout",
     "output_type": "stream",
     "text": [
      "mississippi 11 <class 'str'> 2993553381360\n",
      "['m', 'i', 's', 's', 'i', 's', 's', 'i', 'p', 'p', 'i']\n",
      "('m', 'i', 's', 's', 'i', 's', 's', 'i', 'p', 'p', 'i')\n",
      "{'m', 's', 'i', 'p'}\n",
      "frozenset({'m', 's', 'i', 'p'})\n"
     ]
    }
   ],
   "source": [
    "mystr = \"mississippi\"\n",
    "print (mystr, len(mystr), type(mystr), id(mystr))\n",
    "print (list(mystr))\n",
    "print (tuple(mystr))\n",
    "print (set(mystr))\n",
    "print (frozenset(mystr))"
   ]
  },
  {
   "cell_type": "code",
   "execution_count": 93,
   "id": "659af58b-5fd1-4123-85bf-666be4f84acc",
   "metadata": {},
   "outputs": [
    {
     "name": "stdout",
     "output_type": "stream",
     "text": [
      "m, s, i, p, "
     ]
    }
   ],
   "source": [
    "mystr = \"mississippi\"\n",
    "for ch in set(mystr):\n",
    "    print (ch, end = \", \")"
   ]
  },
  {
   "cell_type": "code",
   "execution_count": 95,
   "id": "e1c36e4b-c763-4b68-af21-7b5a50805906",
   "metadata": {},
   "outputs": [
    {
     "name": "stdout",
     "output_type": "stream",
     "text": [
      "university 10 <class 'str'> 2993557272048\n",
      "2 1 0\n"
     ]
    }
   ],
   "source": [
    "mystr = \"university\"\n",
    "print (mystr, len(mystr), type(mystr), id(mystr))\n",
    "print (mystr.count(\"i\"), mystr.count(\"ver\"), mystr.count(\"VER\"))"
   ]
  },
  {
   "cell_type": "code",
   "execution_count": 99,
   "id": "e617a6ea-b0bf-40e3-86d7-9a0fed8c5a0d",
   "metadata": {},
   "outputs": [
    {
     "name": "stdout",
     "output_type": "stream",
     "text": [
      "Good morning\n",
      "Good night\n",
      "Good morning\n",
      "Good night\n",
      "Good night\n"
     ]
    }
   ],
   "source": [
    "mystr = \"Good morning\"\n",
    "print (mystr)\n",
    "print (mystr.replace(\"morning\", \"night\"))\n",
    "print (mystr)\n",
    "mystr = mystr.replace(\"morning\", \"night\")\n",
    "print (mystr)\n",
    "print (mystr.replace(\"evening\", \"morning\"))"
   ]
  },
  {
   "cell_type": "code",
   "execution_count": 106,
   "id": "22749114-740e-4116-a9de-25b5be9d16ee",
   "metadata": {},
   "outputs": [
    {
     "name": "stdout",
     "output_type": "stream",
     "text": [
      "True True False False\n",
      "False True True True\n",
      "False False False False\n",
      "False True False False\n",
      "False True False False\n",
      "True True True False\n"
     ]
    }
   ],
   "source": [
    "mystr = \"university\"\n",
    "print (mystr.isalpha(), mystr.isalnum(), mystr.isnumeric(), mystr.isdigit())\n",
    "mystr = \"1234\"\n",
    "print (mystr.isalpha(), mystr.isalnum(), mystr.isnumeric(), mystr.isdigit())\n",
    "mystr = \"abcd@gmail.com\"\n",
    "print (mystr.isalpha(), mystr.isalnum(), mystr.isnumeric(), mystr.isdigit())\n",
    "mystr = \"0xab\"\n",
    "print (mystr.isalpha(), mystr.isalnum(), mystr.isnumeric(), mystr.isdigit())\n",
    "mystr = \"university1234\"\n",
    "print (mystr.isalpha(), mystr.isalnum(), mystr.isnumeric(), mystr.isdigit())\n",
    "mystr = \"四\"\n",
    "print (mystr.isalpha(), mystr.isalnum(), mystr.isnumeric(), mystr.isdigit())"
   ]
  },
  {
   "cell_type": "markdown",
   "id": "d2b77a81-53f5-45a5-b192-12f609d7ed5f",
   "metadata": {},
   "source": [
    "### Class Assignment"
   ]
  },
  {
   "cell_type": "code",
   "execution_count": null,
   "id": "b69d4349-45c9-49d2-acec-8ae39212f84c",
   "metadata": {},
   "outputs": [],
   "source": [
    "Take a string as user input may be consisting of alpha-numeric characters in upper or in\n",
    "lower case and special characters. Find out the number of vowels and consonants in that string.\n",
    "As example: \"monoj123@gmail.com is my E-MAIL address.\""
   ]
  },
  {
   "cell_type": "code",
   "execution_count": 110,
   "id": "a2d5e6cc-4a4e-44d6-9f2f-c5e0956ee790",
   "metadata": {},
   "outputs": [
    {
     "name": "stdout",
     "output_type": "stream",
     "text": [
      "So total number of vowels is 4 and consonant is 6...\n",
      "End of the program...\n"
     ]
    }
   ],
   "source": [
    "# mystr = \"monoj123@gmail.com is my E-MAIL address.\"\n",
    "mystr = \"uni123ver .@#SITY\"\n",
    "vcount = ccount = 0\n",
    "for ch in mystr.lower():\n",
    "    if (ch.isalpha()):\n",
    "        if (ch in \"aeiou\"): vcount += 1\n",
    "        else: ccount += 1\n",
    "print (f\"So total number of vowels is {vcount} and consonant is {ccount}...\")\n",
    "print (\"End of the program...\")"
   ]
  },
  {
   "cell_type": "markdown",
   "id": "54313810-4374-43c1-88e8-1e0a4f2a8733",
   "metadata": {},
   "source": [
    "### Class Assignment"
   ]
  },
  {
   "cell_type": "code",
   "execution_count": null,
   "id": "f2d5d017-5f6b-44d7-82fb-31f102cff1a7",
   "metadata": {},
   "outputs": [],
   "source": [
    "Input: mOHan dAS kaRAm chAnd ganDhi\n",
    "Output: M. D. K. C. Gandhi"
   ]
  },
  {
   "cell_type": "code",
   "execution_count": 112,
   "id": "3dce97a5-6fa7-44dc-ac65-4c945676b727",
   "metadata": {},
   "outputs": [
    {
     "name": "stdout",
     "output_type": "stream",
     "text": [
      "M. D. K. C. Gandhi\n"
     ]
    }
   ],
   "source": [
    "mystr = \"mOHan dAS kaRAm chAnd ganDhi\"\n",
    "list1 = mystr.split()\n",
    "outputstr = \"\"\n",
    "for word in list1[:-1]:\n",
    "    outputstr += word[0] + \". \"\n",
    "outputstr += list1[-1]\n",
    "outputstr = outputstr.title()\n",
    "print (outputstr)"
   ]
  }
 ],
 "metadata": {
  "kernelspec": {
   "display_name": "Python 3 (ipykernel)",
   "language": "python",
   "name": "python3"
  },
  "language_info": {
   "codemirror_mode": {
    "name": "ipython",
    "version": 3
   },
   "file_extension": ".py",
   "mimetype": "text/x-python",
   "name": "python",
   "nbconvert_exporter": "python",
   "pygments_lexer": "ipython3",
   "version": "3.10.9"
  }
 },
 "nbformat": 4,
 "nbformat_minor": 5
}
