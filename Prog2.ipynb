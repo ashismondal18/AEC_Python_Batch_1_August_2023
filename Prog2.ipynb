{
 "cells": [
  {
   "cell_type": "markdown",
   "id": "a527999d-263e-4a90-90a7-7d114db89531",
   "metadata": {},
   "source": [
    "### Importing Module: Math Module"
   ]
  },
  {
   "cell_type": "code",
   "execution_count": 1,
   "id": "ca4b45cf-c6d3-4d75-93e8-7634d09eb27c",
   "metadata": {},
   "outputs": [],
   "source": [
    "# importing required module\n",
    "import math"
   ]
  },
  {
   "cell_type": "code",
   "execution_count": 16,
   "id": "45746b36-b375-4536-8800-e4856eeacde2",
   "metadata": {},
   "outputs": [
    {
     "name": "stdout",
     "output_type": "stream",
     "text": [
      "0.0 1.0 0.0\n",
      "0.0 1.0 0.0\n",
      "3.141592653589793 2.718281828459045 6.283185307179586\n",
      "10 1260 1260.0\n",
      "4.605170185988092 4.605170185988092 10.0 10.0\n",
      "2.9999999999999996 3.0 1000000.0 1000000 1000000.0\n",
      "120 720\n",
      "100 10 101 101\n"
     ]
    }
   ],
   "source": [
    "print (math.sin(0), math.cos(0), math.tan(0))\n",
    "print (math.sinh(0), math.cosh(0), math.tanh(0))\n",
    "print (math.pi, math.e, math.tau)   # constants\n",
    "print (math.gcd(180, 70), math.lcm(180, 70), 180 * 70 / math.gcd(180, 70))\n",
    "print (math.log(100), math.log(100, math.e), math.log(1024, 2), math.log2(1024))\n",
    "print (math.log(1000, 10), math.log10(1000), math.pow(100, 3), 100 ** 3, 100.0 ** 3)\n",
    "print (math.factorial(5), math.factorial(6))\n",
    "print (math.floor(100.1), math.floor(10.9), math.ceil(100.1), math.ceil(100.9))"
   ]
  },
  {
   "cell_type": "code",
   "execution_count": 20,
   "id": "56520d79-49d4-4b81-a35b-68e8b02538fe",
   "metadata": {},
   "outputs": [
    {
     "name": "stdout",
     "output_type": "stream",
     "text": [
      "Help on built-in function pow in module math:\n",
      "\n",
      "pow(x, y, /)\n",
      "    Return x**y (x to the power of y).\n",
      "\n"
     ]
    }
   ],
   "source": [
    "help(math.pow)"
   ]
  },
  {
   "cell_type": "code",
   "execution_count": null,
   "id": "aaf4c29d-0eee-44cf-84b8-8dfa51de2c88",
   "metadata": {},
   "outputs": [],
   "source": [
    "help(math)"
   ]
  },
  {
   "cell_type": "code",
   "execution_count": 25,
   "id": "cb524fd0-ad9c-48e6-83d5-19f19b35748f",
   "metadata": {},
   "outputs": [
    {
     "name": "stdout",
     "output_type": "stream",
     "text": [
      "100.4987562112089\n",
      "31.622776601683793 100.0\n",
      "100.4987562112089\n"
     ]
    }
   ],
   "source": [
    "print (math.dist((100, 30), (200, 40)))   # calculating Eucledian distance\n",
    "print (math.sqrt(1000), math.sqrt(10000))\n",
    "print (math.sqrt((100 - 200) ** 2 + (30 - 40) ** 2))"
   ]
  },
  {
   "cell_type": "code",
   "execution_count": 26,
   "id": "d9c029f9-1b1c-478f-bd29-792331e77d3c",
   "metadata": {},
   "outputs": [
    {
     "name": "stdout",
     "output_type": "stream",
     "text": [
      "                                  2023\n",
      "\n",
      "      January                   February                   March\n",
      "Mo Tu We Th Fr Sa Su      Mo Tu We Th Fr Sa Su      Mo Tu We Th Fr Sa Su\n",
      "                   1             1  2  3  4  5             1  2  3  4  5\n",
      " 2  3  4  5  6  7  8       6  7  8  9 10 11 12       6  7  8  9 10 11 12\n",
      " 9 10 11 12 13 14 15      13 14 15 16 17 18 19      13 14 15 16 17 18 19\n",
      "16 17 18 19 20 21 22      20 21 22 23 24 25 26      20 21 22 23 24 25 26\n",
      "23 24 25 26 27 28 29      27 28                     27 28 29 30 31\n",
      "30 31\n",
      "\n",
      "       April                      May                       June\n",
      "Mo Tu We Th Fr Sa Su      Mo Tu We Th Fr Sa Su      Mo Tu We Th Fr Sa Su\n",
      "                1  2       1  2  3  4  5  6  7                1  2  3  4\n",
      " 3  4  5  6  7  8  9       8  9 10 11 12 13 14       5  6  7  8  9 10 11\n",
      "10 11 12 13 14 15 16      15 16 17 18 19 20 21      12 13 14 15 16 17 18\n",
      "17 18 19 20 21 22 23      22 23 24 25 26 27 28      19 20 21 22 23 24 25\n",
      "24 25 26 27 28 29 30      29 30 31                  26 27 28 29 30\n",
      "\n",
      "        July                     August                  September\n",
      "Mo Tu We Th Fr Sa Su      Mo Tu We Th Fr Sa Su      Mo Tu We Th Fr Sa Su\n",
      "                1  2          1  2  3  4  5  6                   1  2  3\n",
      " 3  4  5  6  7  8  9       7  8  9 10 11 12 13       4  5  6  7  8  9 10\n",
      "10 11 12 13 14 15 16      14 15 16 17 18 19 20      11 12 13 14 15 16 17\n",
      "17 18 19 20 21 22 23      21 22 23 24 25 26 27      18 19 20 21 22 23 24\n",
      "24 25 26 27 28 29 30      28 29 30 31               25 26 27 28 29 30\n",
      "31\n",
      "\n",
      "      October                   November                  December\n",
      "Mo Tu We Th Fr Sa Su      Mo Tu We Th Fr Sa Su      Mo Tu We Th Fr Sa Su\n",
      "                   1             1  2  3  4  5                   1  2  3\n",
      " 2  3  4  5  6  7  8       6  7  8  9 10 11 12       4  5  6  7  8  9 10\n",
      " 9 10 11 12 13 14 15      13 14 15 16 17 18 19      11 12 13 14 15 16 17\n",
      "16 17 18 19 20 21 22      20 21 22 23 24 25 26      18 19 20 21 22 23 24\n",
      "23 24 25 26 27 28 29      27 28 29 30               25 26 27 28 29 30 31\n",
      "30 31\n"
     ]
    }
   ],
   "source": [
    "import calendar\n",
    "calendar.prcal(2023)"
   ]
  },
  {
   "cell_type": "markdown",
   "id": "8dad372d-809f-452a-8398-748b9084d197",
   "metadata": {},
   "source": [
    "### String Processing"
   ]
  },
  {
   "cell_type": "code",
   "execution_count": null,
   "id": "468e55ba-af9e-4e23-ab8e-2e7d4b989c8d",
   "metadata": {},
   "outputs": [],
   "source": [
    "index from left to right ->   0   1   2   3   4   5   6   7   8   9  \n",
    "                    mystr =   u   n   i   v   e   r   s   i   t   y\n",
    "index from right to left -> -10  -9  -8  -7  -6  -5  -4  -3  -2  -1"
   ]
  },
  {
   "cell_type": "code",
   "execution_count": 41,
   "id": "58f0eeb7-4932-4173-af2a-4c97df2fc0fa",
   "metadata": {},
   "outputs": [
    {
     "name": "stdout",
     "output_type": "stream",
     "text": [
      "university 10 <class 'str'> 2993550925680\n",
      "v v s s\n",
      "versi versi versi versi\n",
      "niver niver niver niver\n",
      "uiest uiest nvriy nvriy\n",
      "ytisrevinu yirvn tseiu\n"
     ]
    }
   ],
   "source": [
    "mystr = \"university\"\n",
    "print (mystr, len(mystr), type(mystr), id(mystr))\n",
    "print (mystr[3], mystr[-7], mystr[6], mystr[-4])    # indexing\n",
    "print (mystr[3:8], mystr[-7:-2], mystr[3:-2], mystr[-7:8])\n",
    "print (mystr[1:6], mystr[-9:-4], mystr[1:-4], mystr[-9:6])\n",
    "print (mystr[0::2], mystr[::2], mystr[1::2], mystr[-9::2])\n",
    "print (mystr[::-1], mystr[9::-2], mystr[8::-2])"
   ]
  },
  {
   "cell_type": "code",
   "execution_count": 48,
   "id": "27b6c553-89ff-4d26-bb1d-b1a03304d3bd",
   "metadata": {},
   "outputs": [
    {
     "name": "stdout",
     "output_type": "stream",
     "text": [
      "caLCuTTa unIVerSity 19 <class 'str'> 2993541076096\n",
      "calcutta university\n",
      "CALCUTTA UNIVERSITY\n",
      "CAlcUttA UNivERsITY\n",
      "Calcutta university\n",
      "Calcutta University\n",
      "          caLCuTTa unIVerSity           \n",
      "          Calcutta University           \n"
     ]
    }
   ],
   "source": [
    "mystr = \"caLCuTTa unIVerSity\"\n",
    "print (mystr, len(mystr), type(mystr), id(mystr))\n",
    "print (mystr.lower())\n",
    "print (mystr.upper())\n",
    "print (mystr.swapcase())\n",
    "print (mystr.capitalize())\n",
    "print (mystr.title())\n",
    "print (mystr.center(40))\n",
    "print (mystr.title().center(40))"
   ]
  },
  {
   "cell_type": "code",
   "execution_count": 55,
   "id": "cfe70630-f656-477d-a5c8-ff0aeb73159b",
   "metadata": {},
   "outputs": [
    {
     "name": "stdout",
     "output_type": "stream",
     "text": [
      "4 -1 4\n",
      "4 4 11 -1\n"
     ]
    }
   ],
   "source": [
    "mystr = \"charity begins at home\"\n",
    "print (mystr.find(\"ity\"), mystr.find(\"ITY\"), mystr.find(\"ITY\".lower()))\n",
    "print (mystr.find(\"i\"), mystr.find(\"i\", 2), mystr.find(\"i\", 5), mystr.find(\"i\", 12))"
   ]
  },
  {
   "cell_type": "code",
   "execution_count": 57,
   "id": "54431a99-4a7e-484e-9746-44396e5c51a1",
   "metadata": {},
   "outputs": [
    {
     "name": "stdout",
     "output_type": "stream",
     "text": [
      "4 4\n",
      "4 4 11\n"
     ]
    },
    {
     "ename": "ValueError",
     "evalue": "substring not found",
     "output_type": "error",
     "traceback": [
      "\u001b[1;31m---------------------------------------------------------------------------\u001b[0m",
      "\u001b[1;31mValueError\u001b[0m                                Traceback (most recent call last)",
      "Cell \u001b[1;32mIn[57], line 4\u001b[0m\n\u001b[0;32m      2\u001b[0m \u001b[38;5;28mprint\u001b[39m (mystr\u001b[38;5;241m.\u001b[39mindex(\u001b[38;5;124m\"\u001b[39m\u001b[38;5;124mity\u001b[39m\u001b[38;5;124m\"\u001b[39m), mystr\u001b[38;5;241m.\u001b[39mindex(\u001b[38;5;124m\"\u001b[39m\u001b[38;5;124mITY\u001b[39m\u001b[38;5;124m\"\u001b[39m\u001b[38;5;241m.\u001b[39mlower()))\n\u001b[0;32m      3\u001b[0m \u001b[38;5;28mprint\u001b[39m (mystr\u001b[38;5;241m.\u001b[39mindex(\u001b[38;5;124m\"\u001b[39m\u001b[38;5;124mi\u001b[39m\u001b[38;5;124m\"\u001b[39m), mystr\u001b[38;5;241m.\u001b[39mindex(\u001b[38;5;124m\"\u001b[39m\u001b[38;5;124mi\u001b[39m\u001b[38;5;124m\"\u001b[39m, \u001b[38;5;241m2\u001b[39m), mystr\u001b[38;5;241m.\u001b[39mindex(\u001b[38;5;124m\"\u001b[39m\u001b[38;5;124mi\u001b[39m\u001b[38;5;124m\"\u001b[39m, \u001b[38;5;241m5\u001b[39m))\n\u001b[1;32m----> 4\u001b[0m \u001b[38;5;28mprint\u001b[39m (\u001b[43mmystr\u001b[49m\u001b[38;5;241;43m.\u001b[39;49m\u001b[43mindex\u001b[49m\u001b[43m(\u001b[49m\u001b[38;5;124;43m\"\u001b[39;49m\u001b[38;5;124;43mi\u001b[39;49m\u001b[38;5;124;43m\"\u001b[39;49m\u001b[43m,\u001b[49m\u001b[43m \u001b[49m\u001b[38;5;241;43m12\u001b[39;49m\u001b[43m)\u001b[49m)\n",
      "\u001b[1;31mValueError\u001b[0m: substring not found"
     ]
    }
   ],
   "source": [
    "mystr = \"charity begins at home\"\n",
    "print (mystr.index(\"ity\"), mystr.index(\"ITY\".lower()))\n",
    "print (mystr.index(\"i\"), mystr.index(\"i\", 2), mystr.index(\"i\", 5))\n",
    "print (mystr.index(\"i\", 12))"
   ]
  },
  {
   "cell_type": "code",
   "execution_count": 58,
   "id": "579a2ee4-9cc3-484a-99f1-f69d954f620b",
   "metadata": {},
   "outputs": [
    {
     "name": "stdout",
     "output_type": "stream",
     "text": [
      "4 4\n",
      "4 4 11\n",
      "Unsuccessful searching...\n"
     ]
    }
   ],
   "source": [
    "try:\n",
    "    mystr = \"charity begins at home\"\n",
    "    print (mystr.index(\"ity\"), mystr.index(\"ITY\".lower()))\n",
    "    print (mystr.index(\"i\"), mystr.index(\"i\", 2), mystr.index(\"i\", 5))\n",
    "    print (mystr.index(\"i\", 12))\n",
    "except:\n",
    "    print (\"Unsuccessful searching...\")"
   ]
  },
  {
   "cell_type": "code",
   "execution_count": 59,
   "id": "0b332436-f2ac-4e82-8357-6cad8db7d151",
   "metadata": {},
   "outputs": [
    {
     "name": "stdout",
     "output_type": "stream",
     "text": [
      "4 4\n",
      "4 4 11\n",
      "Unsuccessful searching...\n",
      "Error type: <class 'ValueError'>...\n",
      "Error message: substring not found...\n"
     ]
    }
   ],
   "source": [
    "try:\n",
    "    mystr = \"charity begins at home\"\n",
    "    print (mystr.index(\"ity\"), mystr.index(\"ITY\".lower()))\n",
    "    print (mystr.index(\"i\"), mystr.index(\"i\", 2), mystr.index(\"i\", 5))\n",
    "    print (mystr.index(\"i\", 12))\n",
    "except ValueError as ve:\n",
    "    print (\"Unsuccessful searching...\")\n",
    "    print (f\"Error type: {type(ve)}...\")\n",
    "    print (f\"Error message: {ve}...\")"
   ]
  },
  {
   "cell_type": "code",
   "execution_count": 65,
   "id": "c19fc581-7c61-4864-b918-7d0166a9a7bc",
   "metadata": {},
   "outputs": [
    {
     "name": "stdout",
     "output_type": "stream",
     "text": [
      "    calcutta    university      31 <class 'str'> 2993522371888\n",
      "calcutta    university 22 <class 'str'> 2993518222336\n",
      "calcutta    university      27 <class 'str'> 2993522147072\n",
      "    calcutta    university 26 <class 'str'> 2993560541168\n"
     ]
    }
   ],
   "source": [
    "mystr = \"    calcutta    university     \"\n",
    "print (mystr, len(mystr), type(mystr), id(mystr))\n",
    "result = mystr.strip()\n",
    "print (result, len(result), type(result), id(result))\n",
    "result = mystr.lstrip()\n",
    "print (result, len(result), type(result), id(result))\n",
    "result = mystr.rstrip()\n",
    "print (result, len(result), type(result), id(result))"
   ]
  },
  {
   "cell_type": "code",
   "execution_count": 66,
   "id": "9adf4184-bbd0-4346-ba12-dab4dd157f92",
   "metadata": {},
   "outputs": [
    {
     "name": "stdout",
     "output_type": "stream",
     "text": [
      "###@calcutta#@#university@#@@@ 30 <class 'str'> 2993522592624\n",
      "calcutta#@#university 21 <class 'str'> 2993550578256\n",
      "calcutta#@#university@#@@@ 26 <class 'str'> 2993560541168\n",
      "###@calcutta#@#university 25 <class 'str'> 2993522371728\n"
     ]
    }
   ],
   "source": [
    "mystr = \"###@calcutta#@#university@#@@@\"\n",
    "print (mystr, len(mystr), type(mystr), id(mystr))\n",
    "result = mystr.strip(\"#@\")\n",
    "print (result, len(result), type(result), id(result))\n",
    "result = mystr.lstrip(\"#@\")\n",
    "print (result, len(result), type(result), id(result))\n",
    "result = mystr.rstrip(\"#@\")\n",
    "print (result, len(result), type(result), id(result))"
   ]
  },
  {
   "cell_type": "code",
   "execution_count": 74,
   "id": "b49b2825-7004-45ea-be1b-462a83e027d2",
   "metadata": {},
   "outputs": [
    {
     "name": "stdout",
     "output_type": "stream",
     "text": [
      "charity begins at home 22 <class 'str'> 2993522362928\n",
      "True False True\n",
      "True True False\n"
     ]
    }
   ],
   "source": [
    "mystr = \"charity begins at home\"\n",
    "print (mystr, len(mystr), type(mystr), id(mystr))\n",
    "print (mystr.startswith(\"cha\"), mystr.startswith(\"beg\"), mystr.startswith(\"beg\", 8))\n",
    "print (mystr.startswith(\"beg\", 8, 500), mystr.startswith(\"beg\", 8, 11), mystr.startswith(\"beg\", 8, 10))"
   ]
  },
  {
   "cell_type": "code",
   "execution_count": 78,
   "id": "3789c8c1-3a6d-4de6-94fb-03a12c0ee8ca",
   "metadata": {},
   "outputs": [
    {
     "name": "stdout",
     "output_type": "stream",
     "text": [
      "charity begins at home 22 <class 'str'> 2993560542208\n",
      "True False True\n",
      "True\n"
     ]
    }
   ],
   "source": [
    "mystr = \"charity begins at home\"\n",
    "print (mystr, len(mystr), type(mystr), id(mystr))\n",
    "print (mystr.endswith(\"ome\"), mystr.endswith(\"beg\"), mystr.endswith(\"beg\", 0, 11))\n",
    "print (mystr.endswith(\"beg\", 4, 11))"
   ]
  },
  {
   "cell_type": "code",
   "execution_count": 79,
   "id": "44c51e88-b91b-4ec2-9770-5075021113bc",
   "metadata": {},
   "outputs": [
    {
     "name": "stdout",
     "output_type": "stream",
     "text": [
      "s, c, h, o, o, l, "
     ]
    }
   ],
   "source": [
    "mystr = \"school\"\n",
    "for ch in mystr:\n",
    "    print (ch, end = \", \")"
   ]
  },
  {
   "cell_type": "code",
   "execution_count": 81,
   "id": "710f67b5-3962-4e87-a156-ff2dadd71f9e",
   "metadata": {},
   "outputs": [
    {
     "name": "stdout",
     "output_type": "stream",
     "text": [
      "s, c, h, o, o, l, "
     ]
    }
   ],
   "source": [
    "mystr = \"school\"\n",
    "for i in range(len(mystr)):\n",
    "    print (mystr[i], end = \", \")"
   ]
  },
  {
   "cell_type": "code",
   "execution_count": 83,
   "id": "ee955c8e-cf41-476c-a23e-ed2f0fbd37f5",
   "metadata": {},
   "outputs": [
    {
     "name": "stdout",
     "output_type": "stream",
     "text": [
      "['charity', 'begins', 'at', 'home']\n",
      "['charity', 'begins', 'at', 'home']\n",
      "['char', 'ty beg', 'ns at home']\n"
     ]
    }
   ],
   "source": [
    "mystr = \"charity begins at home\"\n",
    "list1 = mystr.split()\n",
    "print (list1)\n",
    "list1 = mystr.split(\" \")\n",
    "print (list1)\n",
    "list1 = mystr.split(\"i\")\n",
    "print (list1)"
   ]
  },
  {
   "cell_type": "code",
   "execution_count": 86,
   "id": "fc9cabe0-7e54-4490-9a8c-987a6d367fd2",
   "metadata": {},
   "outputs": [
    {
     "name": "stdout",
     "output_type": "stream",
     "text": [
      "charity begins at home\n",
      "charity begins at home\n",
      "charity - begins - at - home\n"
     ]
    }
   ],
   "source": [
    "list1 = ['charity', 'begins', 'at', 'home']\n",
    "mystr = \" \".join(list1)\n",
    "print (mystr)\n",
    "list1 = ['char', 'ty beg', 'ns at home']\n",
    "mystr = \"i\".join(list1)\n",
    "print (mystr)\n",
    "list1 = ['charity', 'begins', 'at', 'home']\n",
    "mystr = \" - \".join(list1)\n",
    "print (mystr)"
   ]
  },
  {
   "cell_type": "code",
   "execution_count": 91,
   "id": "da18a26a-5b56-4080-9b4c-169d315373bf",
   "metadata": {},
   "outputs": [
    {
     "name": "stdout",
     "output_type": "stream",
     "text": [
      "mississippi 11 <class 'str'> 2993553381360\n",
      "['m', 'i', 's', 's', 'i', 's', 's', 'i', 'p', 'p', 'i']\n",
      "('m', 'i', 's', 's', 'i', 's', 's', 'i', 'p', 'p', 'i')\n",
      "{'m', 's', 'i', 'p'}\n",
      "frozenset({'m', 's', 'i', 'p'})\n"
     ]
    }
   ],
   "source": [
    "mystr = \"mississippi\"\n",
    "print (mystr, len(mystr), type(mystr), id(mystr))\n",
    "print (list(mystr))\n",
    "print (tuple(mystr))\n",
    "print (set(mystr))\n",
    "print (frozenset(mystr))"
   ]
  },
  {
   "cell_type": "code",
   "execution_count": 93,
   "id": "659af58b-5fd1-4123-85bf-666be4f84acc",
   "metadata": {},
   "outputs": [
    {
     "name": "stdout",
     "output_type": "stream",
     "text": [
      "m, s, i, p, "
     ]
    }
   ],
   "source": [
    "mystr = \"mississippi\"\n",
    "for ch in set(mystr):\n",
    "    print (ch, end = \", \")"
   ]
  },
  {
   "cell_type": "code",
   "execution_count": 95,
   "id": "e1c36e4b-c763-4b68-af21-7b5a50805906",
   "metadata": {},
   "outputs": [
    {
     "name": "stdout",
     "output_type": "stream",
     "text": [
      "university 10 <class 'str'> 2993557272048\n",
      "2 1 0\n"
     ]
    }
   ],
   "source": [
    "mystr = \"university\"\n",
    "print (mystr, len(mystr), type(mystr), id(mystr))\n",
    "print (mystr.count(\"i\"), mystr.count(\"ver\"), mystr.count(\"VER\"))"
   ]
  },
  {
   "cell_type": "code",
   "execution_count": 99,
   "id": "e617a6ea-b0bf-40e3-86d7-9a0fed8c5a0d",
   "metadata": {},
   "outputs": [
    {
     "name": "stdout",
     "output_type": "stream",
     "text": [
      "Good morning\n",
      "Good night\n",
      "Good morning\n",
      "Good night\n",
      "Good night\n"
     ]
    }
   ],
   "source": [
    "mystr = \"Good morning\"\n",
    "print (mystr)\n",
    "print (mystr.replace(\"morning\", \"night\"))\n",
    "print (mystr)\n",
    "mystr = mystr.replace(\"morning\", \"night\")\n",
    "print (mystr)\n",
    "print (mystr.replace(\"evening\", \"morning\"))"
   ]
  },
  {
   "cell_type": "code",
   "execution_count": 106,
   "id": "22749114-740e-4116-a9de-25b5be9d16ee",
   "metadata": {},
   "outputs": [
    {
     "name": "stdout",
     "output_type": "stream",
     "text": [
      "True True False False\n",
      "False True True True\n",
      "False False False False\n",
      "False True False False\n",
      "False True False False\n",
      "True True True False\n"
     ]
    }
   ],
   "source": [
    "mystr = \"university\"\n",
    "print (mystr.isalpha(), mystr.isalnum(), mystr.isnumeric(), mystr.isdigit())\n",
    "mystr = \"1234\"\n",
    "print (mystr.isalpha(), mystr.isalnum(), mystr.isnumeric(), mystr.isdigit())\n",
    "mystr = \"abcd@gmail.com\"\n",
    "print (mystr.isalpha(), mystr.isalnum(), mystr.isnumeric(), mystr.isdigit())\n",
    "mystr = \"0xab\"\n",
    "print (mystr.isalpha(), mystr.isalnum(), mystr.isnumeric(), mystr.isdigit())\n",
    "mystr = \"university1234\"\n",
    "print (mystr.isalpha(), mystr.isalnum(), mystr.isnumeric(), mystr.isdigit())\n",
    "mystr = \"四\"\n",
    "print (mystr.isalpha(), mystr.isalnum(), mystr.isnumeric(), mystr.isdigit())"
   ]
  },
  {
   "cell_type": "markdown",
   "id": "d2b77a81-53f5-45a5-b192-12f609d7ed5f",
   "metadata": {},
   "source": [
    "### Class Assignment"
   ]
  },
  {
   "cell_type": "code",
   "execution_count": null,
   "id": "b69d4349-45c9-49d2-acec-8ae39212f84c",
   "metadata": {},
   "outputs": [],
   "source": [
    "Take a string as user input may be consisting of alpha-numeric characters in upper or in\n",
    "lower case and special characters. Find out the number of vowels and consonants in that string.\n",
    "As example: \"monoj123@gmail.com is my E-MAIL address.\""
   ]
  },
  {
   "cell_type": "code",
   "execution_count": 110,
   "id": "a2d5e6cc-4a4e-44d6-9f2f-c5e0956ee790",
   "metadata": {},
   "outputs": [
    {
     "name": "stdout",
     "output_type": "stream",
     "text": [
      "So total number of vowels is 4 and consonant is 6...\n",
      "End of the program...\n"
     ]
    }
   ],
   "source": [
    "# mystr = \"monoj123@gmail.com is my E-MAIL address.\"\n",
    "mystr = \"uni123ver .@#SITY\"\n",
    "vcount = ccount = 0\n",
    "for ch in mystr.lower():\n",
    "    if (ch.isalpha()):\n",
    "        if (ch in \"aeiou\"): vcount += 1\n",
    "        else: ccount += 1\n",
    "print (f\"So total number of vowels is {vcount} and consonant is {ccount}...\")\n",
    "print (\"End of the program...\")"
   ]
  },
  {
   "cell_type": "markdown",
   "id": "54313810-4374-43c1-88e8-1e0a4f2a8733",
   "metadata": {},
   "source": [
    "### Class Assignment"
   ]
  },
  {
   "cell_type": "code",
   "execution_count": null,
   "id": "f2d5d017-5f6b-44d7-82fb-31f102cff1a7",
   "metadata": {},
   "outputs": [],
   "source": [
    "Input: mOHan dAS kaRAm chAnd ganDhi\n",
    "Output: M. D. K. C. Gandhi"
   ]
  },
  {
   "cell_type": "code",
   "execution_count": 112,
   "id": "3dce97a5-6fa7-44dc-ac65-4c945676b727",
   "metadata": {},
   "outputs": [
    {
     "name": "stdout",
     "output_type": "stream",
     "text": [
      "M. D. K. C. Gandhi\n"
     ]
    }
   ],
   "source": [
    "mystr = \"mOHan dAS kaRAm chAnd ganDhi\"\n",
    "list1 = mystr.split()\n",
    "outputstr = \"\"\n",
    "for word in list1[:-1]:\n",
    "    outputstr += word[0] + \". \"\n",
    "outputstr += list1[-1]\n",
    "outputstr = outputstr.title()\n",
    "print (outputstr)"
   ]
  },
  {
   "cell_type": "markdown",
   "id": "f0d66bb4-78c3-4008-b45b-9dc64de4be83",
   "metadata": {},
   "source": [
    "### List Processing"
   ]
  },
  {
   "cell_type": "code",
   "execution_count": 113,
   "id": "35e84865-d011-4c8b-b76a-d536d906a903",
   "metadata": {
    "tags": []
   },
   "outputs": [
    {
     "name": "stdout",
     "output_type": "stream",
     "text": [
      "[100, 100.4, 400, -90, 12] 5 <class 'list'> 2993564134464\n",
      "-90 400\n",
      "522.4 104.47999999999999\n"
     ]
    }
   ],
   "source": [
    "list1 = [100, 100.4, 400, -90, 12]\n",
    "print (list1, len(list1), type(list1), id(list1))\n",
    "print (min(list1), max(list1))\n",
    "print (sum(list1), sum(list1)/len(list1))"
   ]
  },
  {
   "cell_type": "code",
   "execution_count": 116,
   "id": "caa50f34-7222-491a-a975-0c08cc6286cc",
   "metadata": {},
   "outputs": [
    {
     "name": "stdout",
     "output_type": "stream",
     "text": [
      "[100, True, 100.4, False, 400, 90, 12] 7 <class 'list'> 2993489612288\n",
      "False 400\n",
      "703.4 100.48571428571428\n"
     ]
    }
   ],
   "source": [
    "list1 = [100, True, 100.4, False, 400, 90, 12]\n",
    "print (list1, len(list1), type(list1), id(list1))\n",
    "print (min(list1), max(list1))\n",
    "print (sum(list1), sum(list1)/len(list1))"
   ]
  },
  {
   "cell_type": "code",
   "execution_count": 117,
   "id": "bc06d5b9-69a8-4781-b611-3f8ed68aceac",
   "metadata": {},
   "outputs": [
    {
     "name": "stdout",
     "output_type": "stream",
     "text": [
      "['Monday', 'Tuesday', 'friday', 'Wednesday'] 4 <class 'list'> 2993565441088\n",
      "Monday friday\n"
     ]
    },
    {
     "ename": "TypeError",
     "evalue": "unsupported operand type(s) for +: 'int' and 'str'",
     "output_type": "error",
     "traceback": [
      "\u001b[1;31m---------------------------------------------------------------------------\u001b[0m",
      "\u001b[1;31mTypeError\u001b[0m                                 Traceback (most recent call last)",
      "Cell \u001b[1;32mIn[117], line 4\u001b[0m\n\u001b[0;32m      2\u001b[0m \u001b[38;5;28mprint\u001b[39m (list1, \u001b[38;5;28mlen\u001b[39m(list1), \u001b[38;5;28mtype\u001b[39m(list1), \u001b[38;5;28mid\u001b[39m(list1))\n\u001b[0;32m      3\u001b[0m \u001b[38;5;28mprint\u001b[39m (\u001b[38;5;28mmin\u001b[39m(list1), \u001b[38;5;28mmax\u001b[39m(list1))\n\u001b[1;32m----> 4\u001b[0m \u001b[38;5;28mprint\u001b[39m (\u001b[38;5;28;43msum\u001b[39;49m\u001b[43m(\u001b[49m\u001b[43mlist1\u001b[49m\u001b[43m)\u001b[49m, \u001b[38;5;28msum\u001b[39m(list1)\u001b[38;5;241m/\u001b[39m\u001b[38;5;28mlen\u001b[39m(list1))\n",
      "\u001b[1;31mTypeError\u001b[0m: unsupported operand type(s) for +: 'int' and 'str'"
     ]
    }
   ],
   "source": [
    "list1 = [\"Monday\", \"Tuesday\", \"friday\", \"Wednesday\"]\n",
    "print (list1, len(list1), type(list1), id(list1))\n",
    "print (min(list1), max(list1))\n",
    "print (sum(list1), sum(list1)/len(list1))"
   ]
  },
  {
   "cell_type": "code",
   "execution_count": 118,
   "id": "52ad8469-1b7b-4ce9-ba89-e88381719bff",
   "metadata": {},
   "outputs": [
    {
     "name": "stdout",
     "output_type": "stream",
     "text": [
      "['Monday', 100, 23.45, 'Tuesday', True, 'friday', 'Wednesday'] 7 <class 'list'> 2993565546240\n"
     ]
    },
    {
     "ename": "TypeError",
     "evalue": "'<' not supported between instances of 'int' and 'str'",
     "output_type": "error",
     "traceback": [
      "\u001b[1;31m---------------------------------------------------------------------------\u001b[0m",
      "\u001b[1;31mTypeError\u001b[0m                                 Traceback (most recent call last)",
      "Cell \u001b[1;32mIn[118], line 3\u001b[0m\n\u001b[0;32m      1\u001b[0m list1 \u001b[38;5;241m=\u001b[39m [\u001b[38;5;124m\"\u001b[39m\u001b[38;5;124mMonday\u001b[39m\u001b[38;5;124m\"\u001b[39m, \u001b[38;5;241m100\u001b[39m, \u001b[38;5;241m23.45\u001b[39m, \u001b[38;5;124m\"\u001b[39m\u001b[38;5;124mTuesday\u001b[39m\u001b[38;5;124m\"\u001b[39m, \u001b[38;5;28;01mTrue\u001b[39;00m, \u001b[38;5;124m\"\u001b[39m\u001b[38;5;124mfriday\u001b[39m\u001b[38;5;124m\"\u001b[39m, \u001b[38;5;124m\"\u001b[39m\u001b[38;5;124mWednesday\u001b[39m\u001b[38;5;124m\"\u001b[39m]\n\u001b[0;32m      2\u001b[0m \u001b[38;5;28mprint\u001b[39m (list1, \u001b[38;5;28mlen\u001b[39m(list1), \u001b[38;5;28mtype\u001b[39m(list1), \u001b[38;5;28mid\u001b[39m(list1))\n\u001b[1;32m----> 3\u001b[0m \u001b[38;5;28mprint\u001b[39m (\u001b[38;5;28;43mmin\u001b[39;49m\u001b[43m(\u001b[49m\u001b[43mlist1\u001b[49m\u001b[43m)\u001b[49m, \u001b[38;5;28mmax\u001b[39m(list1))\n\u001b[0;32m      4\u001b[0m \u001b[38;5;28mprint\u001b[39m (\u001b[38;5;28msum\u001b[39m(list1), \u001b[38;5;28msum\u001b[39m(list1)\u001b[38;5;241m/\u001b[39m\u001b[38;5;28mlen\u001b[39m(list1))\n",
      "\u001b[1;31mTypeError\u001b[0m: '<' not supported between instances of 'int' and 'str'"
     ]
    }
   ],
   "source": [
    "list1 = [\"Monday\", 100, 23.45, \"Tuesday\", True, \"friday\", \"Wednesday\"]\n",
    "print (list1, len(list1), type(list1), id(list1))\n",
    "print (min(list1), max(list1))\n",
    "print (sum(list1), sum(list1)/len(list1))"
   ]
  },
  {
   "cell_type": "code",
   "execution_count": 125,
   "id": "95cd75d9-c786-40a7-ae2b-a2ea803a5013",
   "metadata": {},
   "outputs": [
    {
     "name": "stdout",
     "output_type": "stream",
     "text": [
      "['Monday', 'Friday', 'Wednesday', 'Thursday'] 4 <class 'list'> 2993489617728\n",
      "Friday Friday Wednesday Wednesday\n",
      "['Monday', 'Friday'] ['Wednesday', 'Thursday'] ['Wednesday', 'Thursday']\n",
      "nes nday\n"
     ]
    }
   ],
   "source": [
    "# indexing and slicing operations on a List\n",
    "# index from l to r ->   0         1         2            3\n",
    "list1                = [\"Monday\", \"Friday\", \"Wednesday\", \"Thursday\"]\n",
    "# index from r to l ->  -4        -3        -2           -1\n",
    "print (list1, len(list1), type(list1), id(list1))\n",
    "print (list1[1], list1[-3], list1[2], list1[-2])\n",
    "print (list1[:2], list1[-2:], list1[2:])\n",
    "print (list1[2][3:6], list1[0][2:])"
   ]
  },
  {
   "cell_type": "code",
   "execution_count": 180,
   "id": "42b79850-2fa9-427b-a5a4-4900c33136f2",
   "metadata": {},
   "outputs": [
    {
     "name": "stdout",
     "output_type": "stream",
     "text": [
      "['Monday', 'Friday', 'Wednesday', 'Thursday'] 4\n",
      "['Sunday', 'Saturday', 'Tuesday'] 3\n",
      "['Monday', 'Friday', 'Wednesday', 'Thursday', 'Sunday', 'Saturday', 'Tuesday'] 7\n",
      "['Monday', 'Friday', 'Wednesday', 'Thursday', 'Sunday', 'Saturday', 'Tuesday'] 7\n",
      "['Sunday', 'Saturday', 'Tuesday'] 3\n"
     ]
    }
   ],
   "source": [
    "# list concatenation\n",
    "list1 = [\"Monday\", \"Friday\", \"Wednesday\", \"Thursday\"]\n",
    "list2 = [\"Sunday\", \"Saturday\", \"Tuesday\"]\n",
    "print (list1, len(list1))\n",
    "print (list2, len(list2))\n",
    "list3 = list1 + list2\n",
    "print (list3, len(list3))\n",
    "list1.extend(list2)\n",
    "print (list1, len(list1))\n",
    "print (list2, len(list2))"
   ]
  },
  {
   "cell_type": "code",
   "execution_count": 129,
   "id": "f142bba3-b687-4d52-9fb7-0c60022cd5b9",
   "metadata": {},
   "outputs": [
    {
     "name": "stdout",
     "output_type": "stream",
     "text": [
      "['Monday', 'Friday', 'Wednesday', 'Thursday'] 4\n",
      "['Sunday', 'Saturday', 'Tuesday'] 3\n",
      "[['Monday', 'Friday', 'Wednesday', 'Thursday'], ['Sunday', 'Saturday', 'Tuesday']] 2\n",
      "Saturday\n",
      "ues\n"
     ]
    }
   ],
   "source": [
    "# list of lists\n",
    "list1 = [\"Monday\", \"Friday\", \"Wednesday\", \"Thursday\"]\n",
    "list2 = [\"Sunday\", \"Saturday\", \"Tuesday\"]\n",
    "print (list1, len(list1))\n",
    "print (list2, len(list2))\n",
    "list3 = [list1, list2]\n",
    "print (list3, len(list3))\n",
    "print (list3[1][1])\n",
    "print (list3[1][2][1:4])"
   ]
  },
  {
   "cell_type": "code",
   "execution_count": 130,
   "id": "c23a8334-cbaa-4cdb-b324-0489be62a689",
   "metadata": {},
   "outputs": [
    {
     "name": "stdout",
     "output_type": "stream",
     "text": [
      "['Monday', 'Friday', 'Wednesday', 'Thursday'] 4\n",
      "['Monday', 'Friday', 'Wednesday', 'Thursday', 'Wednesday'] 5\n",
      "['Monday', 'Friday', 'Wednesday', 'Thursday', 'Wednesday', 'Saturday'] 6\n"
     ]
    }
   ],
   "source": [
    "# insert operation on a list\n",
    "list1 = ['Monday', 'Friday', 'Wednesday', 'Thursday']\n",
    "print (list1, len(list1))\n",
    "list1.append(\"Wednesday\")\n",
    "print (list1, len(list1))\n",
    "list1.append(\"Saturday\")\n",
    "print (list1, len(list1))"
   ]
  },
  {
   "cell_type": "code",
   "execution_count": 132,
   "id": "bc4577ab-d9de-483e-866e-4d81f4c2c9e9",
   "metadata": {},
   "outputs": [
    {
     "name": "stdout",
     "output_type": "stream",
     "text": [
      "['Monday', 'Friday', 'Wednesday', 'Thursday'] 4\n",
      "['Monday', 'Wednesday', 'Friday', 'Wednesday', 'Thursday'] 5\n",
      "['Monday', 'Wednesday', 'Friday', 'Saturday', 'Wednesday', 'Thursday'] 6\n",
      "['Monday', 'Wednesday', 'Friday', 'Saturday', 'Wednesday', 'Thursday', 'Sunday'] 7\n"
     ]
    }
   ],
   "source": [
    "# insert operation on a list\n",
    "list1 = ['Monday', 'Friday', 'Wednesday', 'Thursday']\n",
    "print (list1, len(list1))\n",
    "list1.insert(1, \"Wednesday\")\n",
    "print (list1, len(list1))\n",
    "list1.insert(3, \"Saturday\")\n",
    "print (list1, len(list1))\n",
    "list1.insert(100, \"Sunday\")\n",
    "print (list1, len(list1))"
   ]
  },
  {
   "cell_type": "code",
   "execution_count": 134,
   "id": "d3f4c090-5abf-4251-a8bf-4173e3c32602",
   "metadata": {},
   "outputs": [
    {
     "name": "stdout",
     "output_type": "stream",
     "text": [
      "['Monday', 'Friday', 'Wednesday', 'Thursday'] 4\n",
      "['Monday', 'Friday', 'Sunday', 'Thursday'] 4\n"
     ]
    }
   ],
   "source": [
    "# update operation on a list\n",
    "list1 = ['Monday', 'Friday', 'Wednesday', 'Thursday']\n",
    "print (list1, len(list1))\n",
    "list1[2] = \"Sunday\"\n",
    "print (list1, len(list1))"
   ]
  },
  {
   "cell_type": "code",
   "execution_count": 139,
   "id": "458adc96-2185-4c60-9c6d-92e231001609",
   "metadata": {},
   "outputs": [
    {
     "name": "stdout",
     "output_type": "stream",
     "text": [
      "['Monday', 'Wednesday', 'Friday', 'Saturday', 'Thursday', 'Sunday'] 6\n",
      "['Monday', 'Friday', 'Saturday', 'Thursday', 'Sunday'] 5\n",
      "['Monday', 'Friday', 'Thursday', 'Sunday'] 4\n"
     ]
    }
   ],
   "source": [
    "# delete operation on a list\n",
    "list1 = ['Monday', 'Wednesday', 'Friday', 'Saturday', 'Thursday', 'Sunday']\n",
    "print (list1, len(list1))\n",
    "list1.remove('Wednesday')\n",
    "print (list1, len(list1))\n",
    "# list1.remove('Wednesday')   # error due to non-existent data item\n",
    "# print (list1, len(list1))\n",
    "list1.remove('Saturday')\n",
    "print (list1, len(list1))\n",
    "# list1.remove('FriDay')   # error due to non-existent data item\n",
    "# print (list1, len(list1))"
   ]
  },
  {
   "cell_type": "code",
   "execution_count": 140,
   "id": "b9487071-97cd-4b0b-bfb8-f0fe90e236a2",
   "metadata": {},
   "outputs": [
    {
     "name": "stdout",
     "output_type": "stream",
     "text": [
      "['Monday', 'Wednesday', 'Friday', 'Saturday', 'Thursday', 'Sunday'] 6\n",
      "Sunday\n",
      "['Monday', 'Wednesday', 'Friday', 'Saturday', 'Thursday'] 5\n",
      "Thursday\n",
      "['Monday', 'Wednesday', 'Friday', 'Saturday'] 4\n",
      "Saturday\n",
      "['Monday', 'Wednesday', 'Friday'] 3\n",
      "Friday\n",
      "['Monday', 'Wednesday'] 2\n"
     ]
    }
   ],
   "source": [
    "list1 = ['Monday', 'Wednesday', 'Friday', 'Saturday', 'Thursday', 'Sunday']\n",
    "print (list1, len(list1))\n",
    "print (list1.pop())\n",
    "print (list1, len(list1))\n",
    "print (list1.pop())\n",
    "print (list1, len(list1))\n",
    "print (list1.pop())\n",
    "print (list1, len(list1))\n",
    "print (list1.pop())\n",
    "print (list1, len(list1))"
   ]
  },
  {
   "cell_type": "code",
   "execution_count": 141,
   "id": "649acc7c-1f88-47f5-ac0d-d7cc012529d5",
   "metadata": {},
   "outputs": [
    {
     "name": "stdout",
     "output_type": "stream",
     "text": [
      "['Monday', 'Wednesday', 'Friday', 'Saturday', 'Thursday', 'Sunday'] 6\n",
      "[] 0\n"
     ]
    }
   ],
   "source": [
    "list1 = ['Monday', 'Wednesday', 'Friday', 'Saturday', 'Thursday', 'Sunday']\n",
    "print (list1, len(list1))\n",
    "list1.clear()\n",
    "print (list1, len(list1))"
   ]
  },
  {
   "cell_type": "code",
   "execution_count": 142,
   "id": "9cc8fbee-0cda-4ce3-adb6-3277f2c151d8",
   "metadata": {},
   "outputs": [
    {
     "name": "stdout",
     "output_type": "stream",
     "text": [
      "['Monday', 'Wednesday', 'Friday', 'Saturday', 'Thursday', 'Sunday'] 6\n",
      "['Monday', 'Wednesday', 'Saturday', 'Thursday', 'Sunday'] 5\n",
      "['Monday', 'Wednesday', 'Thursday', 'Sunday'] 4\n"
     ]
    }
   ],
   "source": [
    "list1 = ['Monday', 'Wednesday', 'Friday', 'Saturday', 'Thursday', 'Sunday']\n",
    "print (list1, len(list1))\n",
    "del list1[2]\n",
    "print (list1, len(list1))\n",
    "del list1[2]\n",
    "print (list1, len(list1))"
   ]
  },
  {
   "cell_type": "code",
   "execution_count": 143,
   "id": "d58129ef-9cd0-44eb-9580-faff98934bc7",
   "metadata": {},
   "outputs": [
    {
     "name": "stdout",
     "output_type": "stream",
     "text": [
      "['Monday', 'Wednesday', 'Friday', 'Saturday', 'Thursday', 'Sunday'] 6\n"
     ]
    },
    {
     "ename": "NameError",
     "evalue": "name 'list1' is not defined",
     "output_type": "error",
     "traceback": [
      "\u001b[1;31m---------------------------------------------------------------------------\u001b[0m",
      "\u001b[1;31mNameError\u001b[0m                                 Traceback (most recent call last)",
      "Cell \u001b[1;32mIn[143], line 4\u001b[0m\n\u001b[0;32m      2\u001b[0m \u001b[38;5;28mprint\u001b[39m (list1, \u001b[38;5;28mlen\u001b[39m(list1))\n\u001b[0;32m      3\u001b[0m \u001b[38;5;28;01mdel\u001b[39;00m list1\n\u001b[1;32m----> 4\u001b[0m \u001b[38;5;28mprint\u001b[39m (\u001b[43mlist1\u001b[49m, \u001b[38;5;28mlen\u001b[39m(list1))\n",
      "\u001b[1;31mNameError\u001b[0m: name 'list1' is not defined"
     ]
    }
   ],
   "source": [
    "list1 = ['Monday', 'Wednesday', 'Friday', 'Saturday', 'Thursday', 'Sunday']\n",
    "print (list1, len(list1))\n",
    "del list1\n",
    "print (list1, len(list1))"
   ]
  },
  {
   "cell_type": "code",
   "execution_count": 147,
   "id": "6319c99b-d073-4e22-b5b9-35e4139756c6",
   "metadata": {},
   "outputs": [
    {
     "name": "stdout",
     "output_type": "stream",
     "text": [
      "['Monday', 'Wednesday', 'Friday', 'Saturday', 'Thursday', 'Sunday'] 6\n",
      "['Sunday', 'Thursday', 'Saturday', 'Friday', 'Wednesday', 'Monday'] 6\n"
     ]
    }
   ],
   "source": [
    "# reverse of a list\n",
    "list1 = ['Monday', 'Wednesday', 'Friday', 'Saturday', 'Thursday', 'Sunday']\n",
    "print (list1, len(list1))\n",
    "list1.reverse()\n",
    "print (list1, len(list1))"
   ]
  },
  {
   "cell_type": "code",
   "execution_count": 150,
   "id": "5921c274-ea0d-4379-a56f-649cc65d324e",
   "metadata": {},
   "outputs": [
    {
     "name": "stdout",
     "output_type": "stream",
     "text": [
      "['Monday', 'Wednesday', 'Friday', 'Saturday', 'Thursday', 'Sunday'] 6\n",
      "['Friday', 'Monday', 'Saturday', 'Sunday', 'Thursday', 'Wednesday'] 6\n"
     ]
    }
   ],
   "source": [
    "# sorting of a list\n",
    "list1 = ['Monday', 'Wednesday', 'Friday', 'Saturday', 'Thursday', 'Sunday']\n",
    "print (list1, len(list1))\n",
    "list1.sort()\n",
    "print (list1, len(list1))"
   ]
  },
  {
   "cell_type": "code",
   "execution_count": 151,
   "id": "e6cf9e53-cdaa-4848-ab9b-e29ffc0db6e8",
   "metadata": {},
   "outputs": [
    {
     "name": "stdout",
     "output_type": "stream",
     "text": [
      "['Monday', 'Wednesday', 'Friday', 'Saturday', 'Thursday', 'Sunday'] 6\n",
      "['Wednesday', 'Thursday', 'Sunday', 'Saturday', 'Monday', 'Friday'] 6\n"
     ]
    }
   ],
   "source": [
    "list1 = ['Monday', 'Wednesday', 'Friday', 'Saturday', 'Thursday', 'Sunday']\n",
    "print (list1, len(list1))\n",
    "list1.sort(reverse=True)\n",
    "print (list1, len(list1))"
   ]
  },
  {
   "cell_type": "code",
   "execution_count": 156,
   "id": "e07c059b-cd5b-4b6b-9b68-da77db04e512",
   "metadata": {},
   "outputs": [
    {
     "name": "stdout",
     "output_type": "stream",
     "text": [
      "Help on method_descriptor:\n",
      "\n",
      "reverse(self, /)\n",
      "    Reverse *IN PLACE*.\n",
      "\n"
     ]
    }
   ],
   "source": [
    "help(list.reverse)"
   ]
  },
  {
   "cell_type": "code",
   "execution_count": 157,
   "id": "3fb09e83-a854-40c6-a652-c5e7967a112b",
   "metadata": {},
   "outputs": [
    {
     "name": "stdout",
     "output_type": "stream",
     "text": [
      "['Monday', 'Wednesday', 'Friday', 'Saturday', 'Thursday', 'Sunday'] 6\n",
      "['Friday', 'Monday', 'Saturday', 'Sunday', 'Thursday', 'Wednesday'] 6\n"
     ]
    }
   ],
   "source": [
    "list1 = ['Monday', 'Wednesday', 'Friday', 'Saturday', 'Thursday', 'Sunday']\n",
    "print (list1, len(list1))\n",
    "list1 = sorted(list1)\n",
    "print (list1, len(list1))"
   ]
  },
  {
   "cell_type": "code",
   "execution_count": 158,
   "id": "1f59600f-5a4d-4b6a-8c2f-01e771545fed",
   "metadata": {},
   "outputs": [
    {
     "name": "stdout",
     "output_type": "stream",
     "text": [
      "['Monday', 'Wednesday', 'Friday', 'Saturday', 'Thursday', 'Sunday'] 6\n",
      "['Wednesday', 'Thursday', 'Sunday', 'Saturday', 'Monday', 'Friday'] 6\n"
     ]
    }
   ],
   "source": [
    "list1 = ['Monday', 'Wednesday', 'Friday', 'Saturday', 'Thursday', 'Sunday']\n",
    "print (list1, len(list1))\n",
    "list1 = sorted(list1, reverse=True)\n",
    "print (list1, len(list1))"
   ]
  },
  {
   "cell_type": "code",
   "execution_count": 162,
   "id": "c1867fb7-def7-45c4-95d3-aaead20ca25e",
   "metadata": {},
   "outputs": [
    {
     "name": "stdout",
     "output_type": "stream",
     "text": [
      "True False\n",
      "False False\n",
      "True True\n"
     ]
    }
   ],
   "source": [
    "list1 = [True, False, False, True]\n",
    "print (any(list1), all(list1))\n",
    "list1 = [False, False, False, False]\n",
    "print (any(list1), all(list1))\n",
    "list1 = [True, True, True, True]\n",
    "print (any(list1), all(list1))"
   ]
  },
  {
   "cell_type": "code",
   "execution_count": 164,
   "id": "0a45b521-932e-4082-a8be-914b65cf7c09",
   "metadata": {},
   "outputs": [
    {
     "name": "stdout",
     "output_type": "stream",
     "text": [
      "True False\n",
      "False False\n",
      "True True\n"
     ]
    }
   ],
   "source": [
    "list1 = [1, 0, 0, 1]\n",
    "print (any(list1), all(list1))\n",
    "list1 = [0, 0, 0, 0]\n",
    "print (any(list1), all(list1))\n",
    "list1 = [1, 1, 1, 1]\n",
    "print (any(list1), all(list1))"
   ]
  },
  {
   "cell_type": "code",
   "execution_count": 165,
   "id": "035d9f5b-fc41-44fb-9725-ec5c3d3b4d56",
   "metadata": {},
   "outputs": [
    {
     "name": "stdout",
     "output_type": "stream",
     "text": [
      "True False\n",
      "False False\n",
      "True True\n"
     ]
    }
   ],
   "source": [
    "list1 = [8, 0, 0, 8]\n",
    "print (any(list1), all(list1))\n",
    "list1 = [0, 0, 0, 0]\n",
    "print (any(list1), all(list1))\n",
    "list1 = [8, 8, 8, 8]\n",
    "print (any(list1), all(list1))"
   ]
  },
  {
   "cell_type": "code",
   "execution_count": 166,
   "id": "4a883c8b-3abe-4d0f-88d3-cd71a6566b91",
   "metadata": {},
   "outputs": [
    {
     "name": "stdout",
     "output_type": "stream",
     "text": [
      "True False\n",
      "False False\n",
      "True True\n"
     ]
    }
   ],
   "source": [
    "list1 = [-8, 0, 0, -8]\n",
    "print (any(list1), all(list1))\n",
    "list1 = [0, 0, 0, 0]\n",
    "print (any(list1), all(list1))\n",
    "list1 = [-8, -8, -8, -8]\n",
    "print (any(list1), all(list1))"
   ]
  },
  {
   "cell_type": "code",
   "execution_count": 172,
   "id": "2997b22b-0000-4ffd-af7d-bdab69b6a8be",
   "metadata": {},
   "outputs": [
    {
     "name": "stdout",
     "output_type": "stream",
     "text": [
      "['Monday', 'Saturday', 'Thursday', 'Saturday', 'Thursday', 'Sunday'] 6\n",
      "2 0\n",
      "1 3\n"
     ]
    },
    {
     "ename": "ValueError",
     "evalue": "'Saturday' is not in list",
     "output_type": "error",
     "traceback": [
      "\u001b[1;31m---------------------------------------------------------------------------\u001b[0m",
      "\u001b[1;31mValueError\u001b[0m                                Traceback (most recent call last)",
      "Cell \u001b[1;32mIn[172], line 5\u001b[0m\n\u001b[0;32m      3\u001b[0m \u001b[38;5;28mprint\u001b[39m (list1\u001b[38;5;241m.\u001b[39mcount(\u001b[38;5;124m\"\u001b[39m\u001b[38;5;124mSaturday\u001b[39m\u001b[38;5;124m\"\u001b[39m), list1\u001b[38;5;241m.\u001b[39mcount(\u001b[38;5;124m\"\u001b[39m\u001b[38;5;124msaturday\u001b[39m\u001b[38;5;124m\"\u001b[39m))\n\u001b[0;32m      4\u001b[0m \u001b[38;5;28mprint\u001b[39m (list1\u001b[38;5;241m.\u001b[39mindex(\u001b[38;5;124m'\u001b[39m\u001b[38;5;124mSaturday\u001b[39m\u001b[38;5;124m'\u001b[39m), list1\u001b[38;5;241m.\u001b[39mindex(\u001b[38;5;124m'\u001b[39m\u001b[38;5;124mSaturday\u001b[39m\u001b[38;5;124m'\u001b[39m, \u001b[38;5;241m2\u001b[39m))\n\u001b[1;32m----> 5\u001b[0m \u001b[38;5;28mprint\u001b[39m (\u001b[43mlist1\u001b[49m\u001b[38;5;241;43m.\u001b[39;49m\u001b[43mindex\u001b[49m\u001b[43m(\u001b[49m\u001b[38;5;124;43m'\u001b[39;49m\u001b[38;5;124;43mSaturday\u001b[39;49m\u001b[38;5;124;43m'\u001b[39;49m\u001b[43m,\u001b[49m\u001b[43m \u001b[49m\u001b[38;5;241;43m5\u001b[39;49m\u001b[43m)\u001b[49m)\n",
      "\u001b[1;31mValueError\u001b[0m: 'Saturday' is not in list"
     ]
    }
   ],
   "source": [
    "list1 = ['Monday', 'Saturday', 'Thursday', 'Saturday', 'Thursday', 'Sunday']\n",
    "print (list1, len(list1))\n",
    "print (list1.count(\"Saturday\"), list1.count(\"saturday\"))\n",
    "print (list1.index('Saturday'), list1.index('Saturday', 2))\n",
    "print (list1.index('Saturday', 5))"
   ]
  },
  {
   "cell_type": "code",
   "execution_count": 173,
   "id": "5782e957-ddd1-4f89-8709-c0d99d5c3510",
   "metadata": {},
   "outputs": [
    {
     "name": "stdout",
     "output_type": "stream",
     "text": [
      "Outside of the function [11, 44, 55, 22, 77]\n",
      "With in function [11, 44, 55, 22, 77]\n",
      "With in function [111, 144, 155, 122, 177]\n",
      "Outside of the function [111, 144, 155, 122, 177]\n"
     ]
    }
   ],
   "source": [
    "def list_processing(my_list):\n",
    "    print (\"With in function\", my_list)\n",
    "    for i in range(len(my_list)):\n",
    "        my_list[i] += 100\n",
    "    print (\"With in function\", my_list)\n",
    "    \n",
    "list1 = [11, 44, 55, 22, 77]\n",
    "print (\"Outside of the function\", list1)\n",
    "list_processing(list1)\n",
    "print (\"Outside of the function\", list1)"
   ]
  },
  {
   "cell_type": "code",
   "execution_count": 176,
   "id": "99f59214-1753-4368-a463-8290f9a15de5",
   "metadata": {},
   "outputs": [
    {
     "name": "stdout",
     "output_type": "stream",
     "text": [
      "[11, 22, 33, 44, 55, 66] 6 2993557562432\n",
      "[11, 22, 33, 44, 55, 66] 6 2993557562432\n",
      "[9999, 7777, 33, 44, 55, 66] 6 2993557562432\n",
      "[9999, 7777, 33, 44, 55, 66] 6 2993557562432\n"
     ]
    }
   ],
   "source": [
    "list1 = [11, 22, 33, 44, 55, 66]\n",
    "print (list1, len(list1), id(list1))\n",
    "list2 = list1\n",
    "print (list2, len(list2), id(list2))\n",
    "list1[0] = 9999\n",
    "list2[1] = 7777\n",
    "print (list1, len(list1), id(list1))\n",
    "print (list2, len(list2), id(list2))"
   ]
  },
  {
   "cell_type": "code",
   "execution_count": 177,
   "id": "41c9325a-075c-4337-a06e-2568f679de85",
   "metadata": {},
   "outputs": [
    {
     "name": "stdout",
     "output_type": "stream",
     "text": [
      "[11, 22, 33, 44, 55, 66] 6 2993557553920\n",
      "[11, 22, 33, 44, 55, 66] 6 2993556464640\n",
      "[9999, 22, 33, 44, 55, 66] 6 2993557553920\n",
      "[11, 7777, 33, 44, 55, 66] 6 2993556464640\n"
     ]
    }
   ],
   "source": [
    "list1 = [11, 22, 33, 44, 55, 66]\n",
    "print (list1, len(list1), id(list1))\n",
    "list2 = list1.copy()\n",
    "print (list2, len(list2), id(list2))\n",
    "list1[0] = 9999\n",
    "list2[1] = 7777\n",
    "print (list1, len(list1), id(list1))\n",
    "print (list2, len(list2), id(list2))"
   ]
  },
  {
   "cell_type": "code",
   "execution_count": 178,
   "id": "5c86cb31-5c2d-4e90-bebf-1d0557c44f04",
   "metadata": {},
   "outputs": [
    {
     "name": "stdout",
     "output_type": "stream",
     "text": [
      "[11, 22, 33, 44, 55, 66] 6 2993555764480\n",
      "[11, 22, 33, 44, 55, 66] 6 2993556464640\n",
      "[9999, 22, 33, 44, 55, 66] 6 2993555764480\n",
      "[11, 7777, 33, 44, 55, 66] 6 2993556464640\n"
     ]
    }
   ],
   "source": [
    "list1 = [11, 22, 33, 44, 55, 66]\n",
    "print (list1, len(list1), id(list1))\n",
    "list2[:] = list1\n",
    "print (list2, len(list2), id(list2))\n",
    "list1[0] = 9999\n",
    "list2[1] = 7777\n",
    "print (list1, len(list1), id(list1))\n",
    "print (list2, len(list2), id(list2))"
   ]
  },
  {
   "cell_type": "markdown",
   "id": "09ecad9c-f4b0-4291-b2f6-09574b450bf0",
   "metadata": {},
   "source": [
    "### Class Assignment"
   ]
  },
  {
   "cell_type": "code",
   "execution_count": null,
   "id": "3e7ffdc4-2565-4bf0-bd53-61e104e203a7",
   "metadata": {},
   "outputs": [],
   "source": [
    "Take n number of integers from user and put them in a data_list and print it.\n",
    "Now from this data_list take integers and put them in even_list and odd_list\n",
    "depending upon the fact whether the retrieved integer is even or odd respectively."
   ]
  },
  {
   "cell_type": "code",
   "execution_count": 182,
   "id": "bd427d2b-0ede-48c3-8dd0-79a6ccc6c0a6",
   "metadata": {},
   "outputs": [
    {
     "name": "stdin",
     "output_type": "stream",
     "text": [
      "Please enter the number of items:  8\n",
      "Please enter an integer: 11\n",
      "Please enter an integer: 33\n",
      "Please enter an integer: 22\n",
      "Please enter an integer: 55\n",
      "Please enter an integer: 44\n",
      "Please enter an integer: 77\n",
      "Please enter an integer: 66\n",
      "Please enter an integer: 88\n"
     ]
    },
    {
     "name": "stdout",
     "output_type": "stream",
     "text": [
      "Data list: [11, 33, 22, 55, 44, 77, 66, 88]\n",
      "Even data list: [22, 44, 66, 88]\n",
      "Odd data list: [11, 33, 55, 77]\n",
      "End of the program...\n"
     ]
    }
   ],
   "source": [
    "n = int(input(\"Please enter the number of items: \"))\n",
    "data_list = []\n",
    "for i in range(n):\n",
    "    data = int(input(\"Please enter an integer:\"))\n",
    "    data_list.append(data)\n",
    "print (\"Data list:\", data_list)\n",
    "even_list = []\n",
    "odd_list = []\n",
    "for data in data_list:\n",
    "    if (data % 2 == 0): even_list.append(data)\n",
    "    else: odd_list.append(data)\n",
    "print (\"Even data list:\", even_list)\n",
    "print (\"Odd data list:\", odd_list)\n",
    "print (\"End of the program...\")"
   ]
  },
  {
   "cell_type": "markdown",
   "id": "08ec837f-aaef-4bf7-849c-b49d707d233d",
   "metadata": {},
   "source": [
    "### Tuple Processing "
   ]
  },
  {
   "cell_type": "code",
   "execution_count": 204,
   "id": "7bb53b63-57ae-4ecb-8ffd-290149abc6f9",
   "metadata": {
    "tags": []
   },
   "outputs": [
    {
     "name": "stdout",
     "output_type": "stream",
     "text": [
      "(100, 100.4, 400, -90, 12) 5 <class 'tuple'> 2993550782320\n",
      "-90 400\n",
      "522.4 104.47999999999999\n"
     ]
    }
   ],
   "source": [
    "tuple1 = (100, 100.4, 400, -90, 12)\n",
    "print (tuple1, len(tuple1), type(tuple1), id(tuple1))\n",
    "print (min(tuple1), max(tuple1))\n",
    "print (sum(tuple1), sum(tuple1)/len(tuple1))"
   ]
  },
  {
   "cell_type": "code",
   "execution_count": 184,
   "id": "52d1e299-99da-4982-b9b4-1dbe004a3bef",
   "metadata": {},
   "outputs": [
    {
     "name": "stdout",
     "output_type": "stream",
     "text": [
      "(100, True, 100.4, False, 400, 90, 12) 7 <class 'tuple'> 2993560216160\n",
      "False 400\n",
      "703.4 100.48571428571428\n"
     ]
    }
   ],
   "source": [
    "tuple1 = (100, True, 100.4, False, 400, 90, 12)\n",
    "print (tuple1, len(tuple1), type(tuple1), id(tuple1))\n",
    "print (min(tuple1), max(tuple1))\n",
    "print (sum(tuple1), sum(tuple1)/len(tuple1))"
   ]
  },
  {
   "cell_type": "code",
   "execution_count": 185,
   "id": "7123326a-8851-4339-b69b-991266d03e97",
   "metadata": {},
   "outputs": [
    {
     "name": "stdout",
     "output_type": "stream",
     "text": [
      "('Monday', 'Tuesday', 'friday', 'Wednesday') 4 <class 'tuple'> 2993556002976\n",
      "Monday friday\n"
     ]
    },
    {
     "ename": "TypeError",
     "evalue": "unsupported operand type(s) for +: 'int' and 'str'",
     "output_type": "error",
     "traceback": [
      "\u001b[1;31m---------------------------------------------------------------------------\u001b[0m",
      "\u001b[1;31mTypeError\u001b[0m                                 Traceback (most recent call last)",
      "Cell \u001b[1;32mIn[185], line 4\u001b[0m\n\u001b[0;32m      2\u001b[0m \u001b[38;5;28mprint\u001b[39m (tuple1, \u001b[38;5;28mlen\u001b[39m(tuple1), \u001b[38;5;28mtype\u001b[39m(tuple1), \u001b[38;5;28mid\u001b[39m(tuple1))\n\u001b[0;32m      3\u001b[0m \u001b[38;5;28mprint\u001b[39m (\u001b[38;5;28mmin\u001b[39m(tuple1), \u001b[38;5;28mmax\u001b[39m(tuple1))\n\u001b[1;32m----> 4\u001b[0m \u001b[38;5;28mprint\u001b[39m (\u001b[38;5;28;43msum\u001b[39;49m\u001b[43m(\u001b[49m\u001b[43mtuple1\u001b[49m\u001b[43m)\u001b[49m, \u001b[38;5;28msum\u001b[39m(tuple1)\u001b[38;5;241m/\u001b[39m\u001b[38;5;28mlen\u001b[39m(tuple1))\n",
      "\u001b[1;31mTypeError\u001b[0m: unsupported operand type(s) for +: 'int' and 'str'"
     ]
    }
   ],
   "source": [
    "tuple1 = (\"Monday\", \"Tuesday\", \"friday\", \"Wednesday\")\n",
    "print (tuple1, len(tuple1), type(tuple1), id(tuple1))\n",
    "print (min(tuple1), max(tuple1))\n",
    "print (sum(tuple1), sum(tuple1)/len(tuple1))"
   ]
  },
  {
   "cell_type": "code",
   "execution_count": 205,
   "id": "724ec5b8-4e41-42b9-a778-1733fc01ee6c",
   "metadata": {},
   "outputs": [
    {
     "name": "stdout",
     "output_type": "stream",
     "text": [
      "('Monday', 100, 23.45, 'Tuesday', True, 'friday', 'Wednesday') 7 <class 'tuple'> 2993563930816\n"
     ]
    },
    {
     "ename": "TypeError",
     "evalue": "'<' not supported between instances of 'int' and 'str'",
     "output_type": "error",
     "traceback": [
      "\u001b[1;31m---------------------------------------------------------------------------\u001b[0m",
      "\u001b[1;31mTypeError\u001b[0m                                 Traceback (most recent call last)",
      "Cell \u001b[1;32mIn[205], line 3\u001b[0m\n\u001b[0;32m      1\u001b[0m tuple1 \u001b[38;5;241m=\u001b[39m (\u001b[38;5;124m\"\u001b[39m\u001b[38;5;124mMonday\u001b[39m\u001b[38;5;124m\"\u001b[39m, \u001b[38;5;241m100\u001b[39m, \u001b[38;5;241m23.45\u001b[39m, \u001b[38;5;124m\"\u001b[39m\u001b[38;5;124mTuesday\u001b[39m\u001b[38;5;124m\"\u001b[39m, \u001b[38;5;28;01mTrue\u001b[39;00m, \u001b[38;5;124m\"\u001b[39m\u001b[38;5;124mfriday\u001b[39m\u001b[38;5;124m\"\u001b[39m, \u001b[38;5;124m\"\u001b[39m\u001b[38;5;124mWednesday\u001b[39m\u001b[38;5;124m\"\u001b[39m)\n\u001b[0;32m      2\u001b[0m \u001b[38;5;28mprint\u001b[39m (tuple1, \u001b[38;5;28mlen\u001b[39m(tuple1), \u001b[38;5;28mtype\u001b[39m(tuple1), \u001b[38;5;28mid\u001b[39m(tuple1))\n\u001b[1;32m----> 3\u001b[0m \u001b[38;5;28mprint\u001b[39m (\u001b[38;5;28;43mmin\u001b[39;49m\u001b[43m(\u001b[49m\u001b[43mtuple1\u001b[49m\u001b[43m)\u001b[49m, \u001b[38;5;28mmax\u001b[39m(tuple1))\n\u001b[0;32m      4\u001b[0m \u001b[38;5;28mprint\u001b[39m (\u001b[38;5;28msum\u001b[39m(tuple1), \u001b[38;5;28msum\u001b[39m(tuple1)\u001b[38;5;241m/\u001b[39m\u001b[38;5;28mlen\u001b[39m(tuple1))\n",
      "\u001b[1;31mTypeError\u001b[0m: '<' not supported between instances of 'int' and 'str'"
     ]
    }
   ],
   "source": [
    "tuple1 = (\"Monday\", 100, 23.45, \"Tuesday\", True, \"friday\", \"Wednesday\")\n",
    "print (tuple1, len(tuple1), type(tuple1), id(tuple1))\n",
    "print (min(tuple1), max(tuple1))\n",
    "print (sum(tuple1), sum(tuple1)/len(tuple1))"
   ]
  },
  {
   "cell_type": "code",
   "execution_count": 206,
   "id": "04253cb5-8f81-4602-bfa9-9362eee68fd0",
   "metadata": {},
   "outputs": [
    {
     "name": "stdout",
     "output_type": "stream",
     "text": [
      "('Monday', 'Friday', 'Wednesday', 'Thursday') 4 <class 'tuple'> 2993557450848\n",
      "Friday Friday Wednesday Wednesday\n",
      "('Monday', 'Friday') ('Wednesday', 'Thursday') ('Wednesday', 'Thursday')\n",
      "nes nday\n"
     ]
    }
   ],
   "source": [
    "# indexing and slicing operations on a tuple\n",
    "# index from l to r ->   0         1         2            3\n",
    "tuple1               = (\"Monday\", \"Friday\", \"Wednesday\", \"Thursday\")\n",
    "# index from r to l ->  -4        -3        -2           -1\n",
    "print (tuple1, len(tuple1), type(tuple1), id(tuple1))\n",
    "print (tuple1[1], tuple1[-3], tuple1[2], tuple1[-2])\n",
    "print (tuple1[:2], tuple1[-2:], tuple1[2:])\n",
    "print (tuple1[2][3:6], tuple1[0][2:])"
   ]
  },
  {
   "cell_type": "code",
   "execution_count": 207,
   "id": "198657dd-6c26-4ebc-b2b9-9e5da1831cdb",
   "metadata": {},
   "outputs": [
    {
     "name": "stdout",
     "output_type": "stream",
     "text": [
      "('Monday', 'Friday', 'Wednesday', 'Thursday') 4\n",
      "('Sunday', 'Saturday', 'Tuesday') 3\n",
      "('Monday', 'Friday', 'Wednesday', 'Thursday', 'Sunday', 'Saturday', 'Tuesday') 7\n"
     ]
    }
   ],
   "source": [
    "# tuple concatenation\n",
    "tuple1 = (\"Monday\", \"Friday\", \"Wednesday\", \"Thursday\")\n",
    "tuple2 = (\"Sunday\", \"Saturday\", \"Tuesday\")\n",
    "print (tuple1, len(tuple1))\n",
    "print (tuple2, len(tuple2))\n",
    "tuple3 = tuple1 + tuple2\n",
    "print (tuple3, len(tuple3))"
   ]
  },
  {
   "cell_type": "code",
   "execution_count": 208,
   "id": "743fac37-f03c-4abb-9d6b-ac26b76c37f2",
   "metadata": {},
   "outputs": [
    {
     "name": "stdout",
     "output_type": "stream",
     "text": [
      "('Monday', 'Friday', 'Wednesday', 'Thursday') 4\n",
      "('Sunday', 'Saturday', 'Tuesday') 3\n",
      "(('Monday', 'Friday', 'Wednesday', 'Thursday'), ('Sunday', 'Saturday', 'Tuesday')) 2\n",
      "('Sunday', 'Saturday', 'Tuesday')\n",
      "Saturday\n",
      "ues\n"
     ]
    }
   ],
   "source": [
    "# tuple of tuples\n",
    "tuple1 = (\"Monday\", \"Friday\", \"Wednesday\", \"Thursday\")\n",
    "tuple2 = (\"Sunday\", \"Saturday\", \"Tuesday\")\n",
    "print (tuple1, len(tuple1))\n",
    "print (tuple2, len(tuple2))\n",
    "tuple3 = (tuple1, tuple2)\n",
    "print (tuple3, len(tuple3))\n",
    "print (tuple3[1])\n",
    "print (tuple3[1][1])\n",
    "print (tuple3[1][2][1:4])"
   ]
  },
  {
   "cell_type": "code",
   "execution_count": 195,
   "id": "aac21981-1b3d-4219-836b-bda9d9682466",
   "metadata": {},
   "outputs": [
    {
     "name": "stdout",
     "output_type": "stream",
     "text": [
      "('Monday', 'Wednesday', 'Friday', 'Saturday', 'Thursday', 'Sunday') 6\n"
     ]
    },
    {
     "ename": "NameError",
     "evalue": "name 'tuple1' is not defined",
     "output_type": "error",
     "traceback": [
      "\u001b[1;31m---------------------------------------------------------------------------\u001b[0m",
      "\u001b[1;31mNameError\u001b[0m                                 Traceback (most recent call last)",
      "Cell \u001b[1;32mIn[195], line 4\u001b[0m\n\u001b[0;32m      2\u001b[0m \u001b[38;5;28mprint\u001b[39m (tuple1, \u001b[38;5;28mlen\u001b[39m(tuple1))\n\u001b[0;32m      3\u001b[0m \u001b[38;5;28;01mdel\u001b[39;00m tuple1\n\u001b[1;32m----> 4\u001b[0m \u001b[38;5;28mprint\u001b[39m (\u001b[43mtuple1\u001b[49m, \u001b[38;5;28mlen\u001b[39m(tuple1))\n",
      "\u001b[1;31mNameError\u001b[0m: name 'tuple1' is not defined"
     ]
    }
   ],
   "source": [
    "tuple1 = ('Monday', 'Wednesday', 'Friday', 'Saturday', 'Thursday', 'Sunday')\n",
    "print (tuple1, len(tuple1))\n",
    "del tuple1\n",
    "print (tuple1, len(tuple1))"
   ]
  },
  {
   "cell_type": "code",
   "execution_count": 209,
   "id": "5005fa8a-8923-491d-bc84-0ce4e3b58455",
   "metadata": {},
   "outputs": [
    {
     "name": "stdout",
     "output_type": "stream",
     "text": [
      "('Monday', 'Wednesday', 'Friday', 'Saturday', 'Thursday', 'Sunday') 6\n",
      "['Friday', 'Monday', 'Saturday', 'Sunday', 'Thursday', 'Wednesday'] 6\n"
     ]
    }
   ],
   "source": [
    "tuple1 = ('Monday', 'Wednesday', 'Friday', 'Saturday', 'Thursday', 'Sunday')\n",
    "print (tuple1, len(tuple1))\n",
    "var1 = sorted(tuple1)   # sorted function returns a list\n",
    "print (var1, len(var1))"
   ]
  },
  {
   "cell_type": "code",
   "execution_count": 211,
   "id": "782aeb56-806f-419e-ac9f-51ec6b25a5c2",
   "metadata": {},
   "outputs": [
    {
     "name": "stdout",
     "output_type": "stream",
     "text": [
      "('Monday', 'Wednesday', 'Friday', 'Saturday', 'Thursday', 'Sunday') 6\n",
      "['Wednesday', 'Thursday', 'Sunday', 'Saturday', 'Monday', 'Friday'] 6\n"
     ]
    }
   ],
   "source": [
    "tuple1 = ('Monday', 'Wednesday', 'Friday', 'Saturday', 'Thursday', 'Sunday')\n",
    "print (tuple1, len(tuple1))\n",
    "var1 = sorted(tuple1, reverse=True)   # sorted function returns a list\n",
    "print (var1, len(var1))"
   ]
  },
  {
   "cell_type": "code",
   "execution_count": 201,
   "id": "a164864d-5518-474d-be5e-6f8fb2996512",
   "metadata": {},
   "outputs": [
    {
     "name": "stdout",
     "output_type": "stream",
     "text": [
      "True False\n",
      "False False\n",
      "True True\n"
     ]
    }
   ],
   "source": [
    "tuple1 = (True, False, False, True)\n",
    "print (any(tuple1), all(tuple1))\n",
    "tuple1 = (False, False, False, False)\n",
    "print (any(tuple1), all(tuple1))\n",
    "tuple1 = (True, True, True, True)\n",
    "print (any(tuple1), all(tuple1))"
   ]
  },
  {
   "cell_type": "code",
   "execution_count": 212,
   "id": "219e7dd2-d296-4004-8ee7-3c012b5e07fe",
   "metadata": {},
   "outputs": [
    {
     "name": "stdout",
     "output_type": "stream",
     "text": [
      "('Monday', 'Saturday', 'Thursday', 'Saturday', 'Thursday', 'Sunday') 6\n",
      "2 0\n",
      "1 3\n"
     ]
    },
    {
     "ename": "ValueError",
     "evalue": "tuple.index(x): x not in tuple",
     "output_type": "error",
     "traceback": [
      "\u001b[1;31m---------------------------------------------------------------------------\u001b[0m",
      "\u001b[1;31mValueError\u001b[0m                                Traceback (most recent call last)",
      "Cell \u001b[1;32mIn[212], line 5\u001b[0m\n\u001b[0;32m      3\u001b[0m \u001b[38;5;28mprint\u001b[39m (tuple1\u001b[38;5;241m.\u001b[39mcount(\u001b[38;5;124m\"\u001b[39m\u001b[38;5;124mSaturday\u001b[39m\u001b[38;5;124m\"\u001b[39m), tuple1\u001b[38;5;241m.\u001b[39mcount(\u001b[38;5;124m\"\u001b[39m\u001b[38;5;124msaturday\u001b[39m\u001b[38;5;124m\"\u001b[39m))\n\u001b[0;32m      4\u001b[0m \u001b[38;5;28mprint\u001b[39m (tuple1\u001b[38;5;241m.\u001b[39mindex(\u001b[38;5;124m'\u001b[39m\u001b[38;5;124mSaturday\u001b[39m\u001b[38;5;124m'\u001b[39m), tuple1\u001b[38;5;241m.\u001b[39mindex(\u001b[38;5;124m'\u001b[39m\u001b[38;5;124mSaturday\u001b[39m\u001b[38;5;124m'\u001b[39m, \u001b[38;5;241m2\u001b[39m))\n\u001b[1;32m----> 5\u001b[0m \u001b[38;5;28mprint\u001b[39m (\u001b[43mtuple1\u001b[49m\u001b[38;5;241;43m.\u001b[39;49m\u001b[43mindex\u001b[49m\u001b[43m(\u001b[49m\u001b[38;5;124;43m'\u001b[39;49m\u001b[38;5;124;43mSaturday\u001b[39;49m\u001b[38;5;124;43m'\u001b[39;49m\u001b[43m,\u001b[49m\u001b[43m \u001b[49m\u001b[38;5;241;43m4\u001b[39;49m\u001b[43m)\u001b[49m)\n",
      "\u001b[1;31mValueError\u001b[0m: tuple.index(x): x not in tuple"
     ]
    }
   ],
   "source": [
    "tuple1 = ('Monday', 'Saturday', 'Thursday', 'Saturday', 'Thursday', 'Sunday')\n",
    "print (tuple1, len(list1))\n",
    "print (tuple1.count(\"Saturday\"), tuple1.count(\"saturday\"))\n",
    "print (tuple1.index('Saturday'), tuple1.index('Saturday', 2))\n",
    "print (tuple1.index('Saturday', 4))"
   ]
  },
  {
   "cell_type": "code",
   "execution_count": 215,
   "id": "60e77399-2a09-4a0d-a9f5-22dcd78a0086",
   "metadata": {},
   "outputs": [
    {
     "name": "stdout",
     "output_type": "stream",
     "text": [
      "10 <class 'int'>\n",
      "(10,) <class 'tuple'>\n"
     ]
    }
   ],
   "source": [
    "var1 = (10)\n",
    "print (var1, type(var1))\n",
    "var1 = (10,)   # singleton representation of a tuple\n",
    "print (var1, type(var1))"
   ]
  },
  {
   "cell_type": "code",
   "execution_count": 219,
   "id": "a974caab-468f-43c5-aead-7d57b2363354",
   "metadata": {},
   "outputs": [
    {
     "name": "stdout",
     "output_type": "stream",
     "text": [
      "(33, 22, 55, 44, 77, 66) 2993565325376\n",
      "[33, 22, 55, 44, 77, 66] 2993556874048\n",
      "[33, 22, 555, 44, 77, 66] 2993556874048\n",
      "(33, 22, 555, 44, 77, 66) 2993489679392\n"
     ]
    }
   ],
   "source": [
    "tuple1 = (33, 22, 55, 44, 77, 66)\n",
    "print (tuple1, id(tuple1))\n",
    "# tuple1[2] = 555   # error !!!\n",
    "list1 = list(tuple1)\n",
    "print (list1, id(list1))\n",
    "list1[2] = 555\n",
    "print (list1, id(list1))\n",
    "tuple1 = tuple(list1)\n",
    "print (tuple1, id(tuple1))"
   ]
  },
  {
   "cell_type": "markdown",
   "id": "2d46e23c-c5f6-40e7-b2aa-dbff6a59e597",
   "metadata": {},
   "source": [
    "### Class Assignment"
   ]
  },
  {
   "cell_type": "code",
   "execution_count": null,
   "id": "a94a4299-6cd1-4ed7-be8c-c43e0039535e",
   "metadata": {},
   "outputs": [],
   "source": [
    "Find out all possible three-digit TRIODE Numbers. Let x be a TRIODE Number, then \n",
    "x, 2*x and 3*x will have all distinct digits. \n",
    "As example,\n",
    "if x = 219, then 2*x = 438 and 3*x = 657 (All digits are distinct)\n",
    "if x = 192, then 2*x = 384 and 3*x = 576 (All digits are distinct)"
   ]
  },
  {
   "cell_type": "code",
   "execution_count": 220,
   "id": "ea66c9ee-c697-481d-bb12-c49825ac2747",
   "metadata": {},
   "outputs": [
    {
     "name": "stdout",
     "output_type": "stream",
     "text": [
      "[0, 0, 0, 0, 0, 0, 0, 0, 0, 0]\n"
     ]
    }
   ],
   "source": [
    "list1 = [0 for i in range(10)]\n",
    "print (list1)"
   ]
  },
  {
   "cell_type": "code",
   "execution_count": null,
   "id": "06aa96a0-7377-4886-8c6a-909a1749e21e",
   "metadata": {},
   "outputs": [],
   "source": [
    "# Pseudo-code for the TRIODE number problem\n",
    "for num = lower_limit to upper_limit:\n",
    "    make a list list1 of length 10 filled with 0\n",
    "    for i = 1 to 3:\n",
    "        number = i * num\n",
    "        while (number != 0):\n",
    "            last_digit = number mod 10\n",
    "            if (list1[last_digit] == 0) then list1[last_digit] = 1\n",
    "            else break\n",
    "            number = integer(number / 10)\n",
    "        end while\n",
    "        if (number != 0): break\n",
    "    end for\n",
    "    if (number == 0): print num, 2*num, 3*num\n",
    "end for\n"
   ]
  },
  {
   "cell_type": "markdown",
   "id": "f28a6f2f",
   "metadata": {},
   "source": [
    "### Dictionary Processing"
   ]
  },
  {
   "cell_type": "code",
   "execution_count": 2,
   "id": "7057f4b0-2edf-4d55-81bd-8153c242e952",
   "metadata": {},
   "outputs": [
    {
     "name": "stdout",
     "output_type": "stream",
     "text": [
      "{'apple': 'red', 'pineapple': 'yellow', 'guava': 'green', 'orange': 'orange'} 4 <class 'dict'> 2876157138624\n",
      "dict_keys(['apple', 'pineapple', 'guava', 'orange'])\n",
      "dict_values(['red', 'yellow', 'green', 'orange'])\n",
      "dict_items([('apple', 'red'), ('pineapple', 'yellow'), ('guava', 'green'), ('orange', 'orange')])\n"
     ]
    }
   ],
   "source": [
    "dict1 = {\"apple\":\"red\", \"pineapple\":\"yellow\", \"guava\":\"green\", \"orange\":\"orange\"}\n",
    "print (dict1, len(dict1), type(dict1), id(dict1))\n",
    "print (dict1.keys())      # list of keys\n",
    "print (dict1.values())    # list of values\n",
    "print (dict1.items())     # list of tuples containing key and value"
   ]
  },
  {
   "cell_type": "code",
   "execution_count": 4,
   "id": "08274427",
   "metadata": {},
   "outputs": [
    {
     "name": "stdout",
     "output_type": "stream",
     "text": [
      "('apple', 'red') apple red\n",
      "('pineapple', 'yellow') pineapple yellow\n",
      "('guava', 'green') guava green\n",
      "('orange', 'orange') orange orange\n"
     ]
    }
   ],
   "source": [
    "for x in dict1.items():\n",
    "    print (x, x[0], x[1])"
   ]
  },
  {
   "cell_type": "code",
   "execution_count": 9,
   "id": "2f1540f0",
   "metadata": {},
   "outputs": [
    {
     "name": "stdout",
     "output_type": "stream",
     "text": [
      "{'apple': 'red', 'pineapple': 'yellow', 'guava': 'green', 'orange': 'orange'} 4 <class 'dict'> 2876157659328\n",
      "None\n",
      "yellow\n",
      "orange\n",
      "None\n",
      "Not available\n"
     ]
    }
   ],
   "source": [
    "dict1 = {\"apple\":\"red\", \"pineapple\":\"yellow\", \"guava\":\"green\", \"orange\":\"orange\"}\n",
    "print (dict1, len(dict1), type(dict1), id(dict1))\n",
    "print (dict1.get(\"Pineapple\"))\n",
    "print (dict1.get(\"pineapple\"))\n",
    "print (dict1.get(\"orange\"))\n",
    "print (dict1.get(\"lime\"))\n",
    "print (dict1.get(\"lime\", \"Not available\"))"
   ]
  },
  {
   "cell_type": "code",
   "execution_count": 12,
   "id": "6783e80a",
   "metadata": {},
   "outputs": [
    {
     "name": "stdout",
     "output_type": "stream",
     "text": [
      "{'apple': 'red', 'pineapple': 'yellow', 'guava': 'green', 'orange': 'orange'} 4 <class 'dict'> 2876157456896\n",
      "red\n",
      "yellow\n"
     ]
    },
    {
     "ename": "KeyError",
     "evalue": "'lime'",
     "output_type": "error",
     "traceback": [
      "\u001b[1;31m---------------------------------------------------------------------------\u001b[0m",
      "\u001b[1;31mKeyError\u001b[0m                                  Traceback (most recent call last)",
      "Cell \u001b[1;32mIn[12], line 5\u001b[0m\n\u001b[0;32m      3\u001b[0m \u001b[38;5;28mprint\u001b[39m (dict1[\u001b[38;5;124m'\u001b[39m\u001b[38;5;124mapple\u001b[39m\u001b[38;5;124m'\u001b[39m])\n\u001b[0;32m      4\u001b[0m \u001b[38;5;28mprint\u001b[39m (dict1[\u001b[38;5;124m'\u001b[39m\u001b[38;5;124mpineapple\u001b[39m\u001b[38;5;124m'\u001b[39m])\n\u001b[1;32m----> 5\u001b[0m \u001b[38;5;28mprint\u001b[39m (\u001b[43mdict1\u001b[49m\u001b[43m[\u001b[49m\u001b[38;5;124;43m'\u001b[39;49m\u001b[38;5;124;43mlime\u001b[39;49m\u001b[38;5;124;43m'\u001b[39;49m\u001b[43m]\u001b[49m)\n",
      "\u001b[1;31mKeyError\u001b[0m: 'lime'"
     ]
    }
   ],
   "source": [
    "dict1 = {\"apple\":\"red\", \"pineapple\":\"yellow\", \"guava\":\"green\", \"orange\":\"orange\"}\n",
    "print (dict1, len(dict1), type(dict1), id(dict1))\n",
    "print (dict1['apple'])\n",
    "print (dict1['pineapple'])\n",
    "print (dict1['lime'])"
   ]
  },
  {
   "cell_type": "code",
   "execution_count": 13,
   "id": "a76db87b",
   "metadata": {},
   "outputs": [
    {
     "name": "stdout",
     "output_type": "stream",
     "text": [
      "{'apple': 'red', 'pineapple': 'yellow', 'guava': 'green', 'orange': 'orange'} 4 <class 'dict'> 2876191658944\n",
      "red\n",
      "yellow\n",
      "Searched key not found...\n"
     ]
    }
   ],
   "source": [
    "dict1 = {\"apple\":\"red\", \"pineapple\":\"yellow\", \"guava\":\"green\", \"orange\":\"orange\"}\n",
    "print (dict1, len(dict1), type(dict1), id(dict1))\n",
    "try:\n",
    "    print (dict1['apple'])\n",
    "    print (dict1['pineapple'])\n",
    "    print (dict1['lime'])\n",
    "except KeyError as ke:\n",
    "    print (\"Searched key not found...\")"
   ]
  },
  {
   "cell_type": "code",
   "execution_count": 14,
   "id": "75f9a73e",
   "metadata": {},
   "outputs": [
    {
     "name": "stdout",
     "output_type": "stream",
     "text": [
      "{'apple': 'red', 'pineapple': 'green', 'guava': 'green', 'orange': 'orange'} 4 <class 'dict'> 2876191957888\n"
     ]
    }
   ],
   "source": [
    "dict1 = {\"apple\":\"red\", \"pineapple\":\"yellow\", \"guava\":\"green\", \"orange\":\"orange\", \"pineapple\":\"green\"}\n",
    "print (dict1, len(dict1), type(dict1), id(dict1))"
   ]
  },
  {
   "cell_type": "code",
   "execution_count": 17,
   "id": "be284ecb",
   "metadata": {},
   "outputs": [
    {
     "name": "stdout",
     "output_type": "stream",
     "text": [
      "{'apple': 'red', 'pineapple': 'yellow', 'guava': 'green', 'orange': 'orange'} 4\n",
      "{'apple': 'red', 'pineapple': 'yellow', 'guava': 'green', 'orange': 'orange', 'lime': 'green', 'lemon': 'yellow'} 6\n",
      "{'apple': 'deep red', 'pineapple': 'yellow', 'guava': 'light green', 'orange': 'orange', 'lime': 'green', 'lemon': 'yellow'} 6\n"
     ]
    }
   ],
   "source": [
    "# insert and update operations\n",
    "dict1 = {\"apple\":\"red\", \"pineapple\":\"yellow\", \"guava\":\"green\", \"orange\":\"orange\"}\n",
    "print (dict1, len(dict1))\n",
    "dict1[\"lime\"] = \"green\"     # insert\n",
    "dict1[\"lemon\"] = \"yellow\"     # insert\n",
    "print (dict1, len(dict1))\n",
    "dict1[\"apple\"] = \"deep red\"    # update\n",
    "dict1[\"guava\"] = \"light green\"    # update\n",
    "print (dict1, len(dict1))"
   ]
  },
  {
   "cell_type": "code",
   "execution_count": 18,
   "id": "5209e711",
   "metadata": {},
   "outputs": [
    {
     "name": "stdout",
     "output_type": "stream",
     "text": [
      "{'apple': 'red', 'pineapple': 'yellow', 'guava': 'green', 'orange': 'orange'} 4\n",
      "{'apple': 'red', 'pineapple': 'yellow', 'guava': 'green', 'orange': 'orange'} 4\n",
      "{'apple': 'red', 'pineapple': 'yellow', 'guava': 'green', 'orange': 'orange'} 4\n",
      "{'apple': 'red', 'pineapple': 'yellow', 'guava': 'green', 'orange': 'orange', 'mango': 'green'} 5\n"
     ]
    }
   ],
   "source": [
    "dict1 = {\"apple\":\"red\", \"pineapple\":\"yellow\", \"guava\":\"green\", \"orange\":\"orange\"}\n",
    "print (dict1, len(dict1))\n",
    "dict1.setdefault(\"apple\", \"deep red\")\n",
    "print (dict1, len(dict1))\n",
    "dict1.setdefault(\"guava\", \"deep green\")\n",
    "print (dict1, len(dict1))\n",
    "dict1.setdefault(\"mango\", \"green\")\n",
    "print (dict1, len(dict1))"
   ]
  },
  {
   "cell_type": "code",
   "execution_count": 19,
   "id": "7cd73d93",
   "metadata": {},
   "outputs": [
    {
     "name": "stdout",
     "output_type": "stream",
     "text": [
      "{'apple': 'red', 'pineapple': 'yellow', 'guava': 'green', 'orange': 'orange', 'mango': 'green'} 5\n",
      "yellow\n",
      "{'apple': 'red', 'guava': 'green', 'orange': 'orange', 'mango': 'green'} 4\n",
      "red\n",
      "{'guava': 'green', 'orange': 'orange', 'mango': 'green'} 3\n",
      "green\n",
      "{'guava': 'green', 'orange': 'orange'} 2\n"
     ]
    },
    {
     "ename": "KeyError",
     "evalue": "'mango'",
     "output_type": "error",
     "traceback": [
      "\u001b[1;31m---------------------------------------------------------------------------\u001b[0m",
      "\u001b[1;31mKeyError\u001b[0m                                  Traceback (most recent call last)",
      "Cell \u001b[1;32mIn[19], line 10\u001b[0m\n\u001b[0;32m      8\u001b[0m \u001b[38;5;28mprint\u001b[39m (dict1\u001b[38;5;241m.\u001b[39mpop(\u001b[38;5;124m'\u001b[39m\u001b[38;5;124mmango\u001b[39m\u001b[38;5;124m'\u001b[39m))\n\u001b[0;32m      9\u001b[0m \u001b[38;5;28mprint\u001b[39m (dict1, \u001b[38;5;28mlen\u001b[39m(dict1))\n\u001b[1;32m---> 10\u001b[0m \u001b[38;5;28mprint\u001b[39m (\u001b[43mdict1\u001b[49m\u001b[38;5;241;43m.\u001b[39;49m\u001b[43mpop\u001b[49m\u001b[43m(\u001b[49m\u001b[38;5;124;43m'\u001b[39;49m\u001b[38;5;124;43mmango\u001b[39;49m\u001b[38;5;124;43m'\u001b[39;49m\u001b[43m)\u001b[49m)\n\u001b[0;32m     11\u001b[0m \u001b[38;5;28mprint\u001b[39m (dict1, \u001b[38;5;28mlen\u001b[39m(dict1))\n",
      "\u001b[1;31mKeyError\u001b[0m: 'mango'"
     ]
    }
   ],
   "source": [
    "# delete operation on a dictionary\n",
    "dict1 = {'apple': 'red', 'pineapple': 'yellow', 'guava': 'green', 'orange': 'orange', 'mango': 'green'}\n",
    "print (dict1, len(dict1))\n",
    "print (dict1.pop('pineapple'))\n",
    "print (dict1, len(dict1))\n",
    "print (dict1.pop('apple'))\n",
    "print (dict1, len(dict1))\n",
    "print (dict1.pop('mango'))\n",
    "print (dict1, len(dict1))\n",
    "print (dict1.pop('mango'))\n",
    "print (dict1, len(dict1))"
   ]
  },
  {
   "cell_type": "code",
   "execution_count": 21,
   "id": "445e4d39",
   "metadata": {},
   "outputs": [
    {
     "name": "stdout",
     "output_type": "stream",
     "text": [
      "{'apple': 'red', 'pineapple': 'yellow', 'guava': 'green', 'orange': 'orange', 'mango': 'green'} 5\n",
      "('mango', 'green')\n",
      "{'apple': 'red', 'pineapple': 'yellow', 'guava': 'green', 'orange': 'orange'} 4\n",
      "('orange', 'orange')\n",
      "{'apple': 'red', 'pineapple': 'yellow', 'guava': 'green'} 3\n",
      "('guava', 'green')\n",
      "{'apple': 'red', 'pineapple': 'yellow'} 2\n",
      "('pineapple', 'yellow')\n",
      "{'apple': 'red'} 1\n"
     ]
    }
   ],
   "source": [
    "dict1 = {'apple': 'red', 'pineapple': 'yellow', 'guava': 'green', 'orange': 'orange', 'mango': 'green'}\n",
    "print (dict1, len(dict1))\n",
    "print (dict1.popitem())\n",
    "print (dict1, len(dict1))\n",
    "print (dict1.popitem())\n",
    "print (dict1, len(dict1))\n",
    "print (dict1.popitem())\n",
    "print (dict1, len(dict1))\n",
    "print (dict1.popitem())\n",
    "print (dict1, len(dict1))"
   ]
  },
  {
   "cell_type": "code",
   "execution_count": 22,
   "id": "1583a5e5",
   "metadata": {},
   "outputs": [
    {
     "name": "stdout",
     "output_type": "stream",
     "text": [
      "{'apple': 'red', 'pineapple': 'yellow', 'guava': 'green', 'orange': 'orange', 'mango': 'green'} 5\n",
      "{} 0\n"
     ]
    }
   ],
   "source": [
    "dict1 = {'apple': 'red', 'pineapple': 'yellow', 'guava': 'green', 'orange': 'orange', 'mango': 'green'}\n",
    "print (dict1, len(dict1))\n",
    "dict1.clear()\n",
    "print (dict1, len(dict1))"
   ]
  },
  {
   "cell_type": "code",
   "execution_count": 23,
   "id": "373a9c13",
   "metadata": {},
   "outputs": [
    {
     "name": "stdout",
     "output_type": "stream",
     "text": [
      "{'apple': 'red', 'pineapple': 'yellow', 'guava': 'green', 'orange': 'orange', 'mango': 'green'} 5\n"
     ]
    },
    {
     "ename": "NameError",
     "evalue": "name 'dict1' is not defined",
     "output_type": "error",
     "traceback": [
      "\u001b[1;31m---------------------------------------------------------------------------\u001b[0m",
      "\u001b[1;31mNameError\u001b[0m                                 Traceback (most recent call last)",
      "Cell \u001b[1;32mIn[23], line 4\u001b[0m\n\u001b[0;32m      2\u001b[0m \u001b[38;5;28mprint\u001b[39m (dict1, \u001b[38;5;28mlen\u001b[39m(dict1))\n\u001b[0;32m      3\u001b[0m \u001b[38;5;28;01mdel\u001b[39;00m dict1\n\u001b[1;32m----> 4\u001b[0m \u001b[38;5;28mprint\u001b[39m (\u001b[43mdict1\u001b[49m, \u001b[38;5;28mlen\u001b[39m(dict1))\n",
      "\u001b[1;31mNameError\u001b[0m: name 'dict1' is not defined"
     ]
    }
   ],
   "source": [
    "dict1 = {'apple': 'red', 'pineapple': 'yellow', 'guava': 'green', 'orange': 'orange', 'mango': 'green'}\n",
    "print (dict1, len(dict1))\n",
    "del dict1\n",
    "print (dict1, len(dict1))"
   ]
  },
  {
   "cell_type": "code",
   "execution_count": 24,
   "id": "e101b4ae",
   "metadata": {},
   "outputs": [
    {
     "name": "stdout",
     "output_type": "stream",
     "text": [
      "{'apple': 'red', 'pineapple': 'yellow'} 2\n",
      "{'guava': 'green', 'orange': 'orange', 'mango': 'green'} 3\n",
      "{'apple': 'red', 'pineapple': 'yellow', 'guava': 'green', 'orange': 'orange', 'mango': 'green'} 5\n",
      "{'guava': 'green', 'orange': 'orange', 'mango': 'green'} 3\n"
     ]
    }
   ],
   "source": [
    "# concatenation with dictionary\n",
    "fruits1 = {'apple': 'red', 'pineapple': 'yellow'}\n",
    "print (fruits1, len(fruits1))\n",
    "fruits2 = {'guava': 'green', 'orange': 'orange', 'mango': 'green'}\n",
    "print (fruits2, len(fruits2))\n",
    "fruits1.update(fruits2)\n",
    "print (fruits1, len(fruits1))\n",
    "print (fruits2, len(fruits2))"
   ]
  },
  {
   "cell_type": "code",
   "execution_count": 25,
   "id": "b07a9156-ebc3-42aa-be74-9bd75a093c0c",
   "metadata": {},
   "outputs": [
    {
     "name": "stdout",
     "output_type": "stream",
     "text": [
      "{'mango': 500, 'guava': 500, 'coconut': 500, 'lemon': 500} 4\n"
     ]
    }
   ],
   "source": [
    "mykeys = ['mango', 'guava', 'coconut', 'lemon']\n",
    "price = 500\n",
    "dict1 = dict.fromkeys(mykeys, price)\n",
    "print (dict1, len(dict1))"
   ]
  },
  {
   "cell_type": "code",
   "execution_count": 30,
   "id": "086c6274",
   "metadata": {},
   "outputs": [
    {
     "name": "stdout",
     "output_type": "stream",
     "text": [
      "<zip object at 0x0000029DAA76E900>\n",
      "[('mango', 900), ('guava', 560), ('coconut', 450), ('lemon', 320)]\n",
      "(('mango', 900), ('guava', 560), ('coconut', 450), ('lemon', 320))\n",
      "{'mango': 900, 'guava': 560, 'coconut': 450, 'lemon': 320}\n",
      "{'mango': 900, 'guava': 560, 'coconut': 450, 'lemon': 320}\n",
      "{'mango': 900, 'guava': 560, 'coconut': 450, 'lemon': 320}\n"
     ]
    }
   ],
   "source": [
    "fruits1 = ['mango', 'guava', 'coconut', 'lemon']\n",
    "price1 = [900, 560, 450, 320, 100, 560]\n",
    "print (zip(fruits1, price1))\n",
    "print (list(zip(fruits1, price1)))\n",
    "print (tuple(zip(fruits1, price1)))\n",
    "print (dict(zip(fruits1, price1)))\n",
    "print (dict(list(zip(fruits1, price1))))\n",
    "print (dict(tuple(zip(fruits1, price1))))"
   ]
  },
  {
   "cell_type": "code",
   "execution_count": 31,
   "id": "516c966c",
   "metadata": {},
   "outputs": [
    {
     "name": "stdout",
     "output_type": "stream",
     "text": [
      "April\n",
      "November\n",
      "December\n",
      "Invalid Month No.\n"
     ]
    }
   ],
   "source": [
    "def switch_case_demo(monthno):\n",
    "    switcher = {1:\"January\", 2:\"February\", 3:\"March\",\n",
    "                4:\"April\", 5:\"May\", 6:\"June\",\n",
    "                7:\"July\", 8:\"August\", 9:\"Spetember\",\n",
    "                10:\"October\", 11:\"November\", 12:\"December\"}\n",
    "    return switcher.get(monthno, \"Invalid Month No.\")\n",
    "\n",
    "print (switch_case_demo(4))\n",
    "print (switch_case_demo(11))\n",
    "print (switch_case_demo(12))\n",
    "print (switch_case_demo(20))"
   ]
  },
  {
   "cell_type": "code",
   "execution_count": 34,
   "id": "6d15da63",
   "metadata": {},
   "outputs": [
    {
     "name": "stdout",
     "output_type": "stream",
     "text": [
      "{'apple': 'red', 'pineapple': 'yellow', 'mango': 'red'} 3 2876193149760\n",
      "{'apple': 'red', 'pineapple': 'yellow', 'mango': 'red'} 3 2876193158080\n",
      "{'apple': 'deep red', 'pineapple': 'yellow', 'mango': 'red'} 3 2876193149760\n",
      "{'apple': 'red', 'pineapple': 'yellow', 'mango': 'green'} 3 2876193158080\n"
     ]
    }
   ],
   "source": [
    "fruits1 = {'apple': 'red', 'pineapple': 'yellow', 'mango':'red'}\n",
    "print (fruits1, len(fruits1), id(fruits1))\n",
    "fruits2 = fruits1.copy()\n",
    "print (fruits2, len(fruits2), id(fruits2))\n",
    "fruits1['apple'] = 'deep red'\n",
    "fruits2['mango'] = \"green\"\n",
    "print (fruits1, len(fruits1), id(fruits1))\n",
    "print (fruits2, len(fruits2), id(fruits2))"
   ]
  },
  {
   "cell_type": "code",
   "execution_count": 36,
   "id": "0efde3c8",
   "metadata": {},
   "outputs": [
    {
     "name": "stdout",
     "output_type": "stream",
     "text": [
      "{'apple': 'red', 'pineapple': 'yellow', 'mango': 'red'} 3 2876191653632\n",
      "True\n",
      "False\n",
      "False\n"
     ]
    }
   ],
   "source": [
    "fruits1 = {'apple': 'red', 'pineapple': 'yellow', 'mango':'red'}\n",
    "print (fruits1, len(fruits1), id(fruits1))\n",
    "print (\"mango\" in fruits1)\n",
    "print (\"coconut\" in fruits1)\n",
    "print (\"red\" in fruits1)"
   ]
  },
  {
   "cell_type": "markdown",
   "id": "9e432f19",
   "metadata": {},
   "source": [
    "### Class Assignment"
   ]
  },
  {
   "cell_type": "code",
   "execution_count": null,
   "id": "dcba7943",
   "metadata": {},
   "outputs": [],
   "source": [
    "Find the frequency of occurences of each dictinct character in \n",
    "one user given word.\n",
    "Example:\n",
    "Input: mississippi\n",
    "Output:\n",
    "m -> 1\n",
    "i -> 4\n",
    "s -> 4\n",
    "p -> 2\n",
    "This output may get displayed in any order."
   ]
  },
  {
   "cell_type": "code",
   "execution_count": 39,
   "id": "6ff2b5cb",
   "metadata": {},
   "outputs": [
    {
     "name": "stdout",
     "output_type": "stream",
     "text": [
      "{'m': 1, 'i': 4, 's': 4, 'p': 2}\n",
      "m -> 1\n",
      "i -> 4\n",
      "s -> 4\n",
      "p -> 2\n"
     ]
    }
   ],
   "source": [
    "myword = \"mississippi\"\n",
    "char_count = {}\n",
    "for mychar in myword:\n",
    "    if (mychar in char_count):\n",
    "        char_count[mychar] += 1\n",
    "    else:\n",
    "        char_count[mychar] = 1\n",
    "print (char_count)\n",
    "for mychar in char_count:\n",
    "    print (f\"{mychar} -> {char_count.get(mychar)}\")"
   ]
  },
  {
   "cell_type": "markdown",
   "id": "eb8b414e",
   "metadata": {},
   "source": [
    "### Class Assignment"
   ]
  },
  {
   "cell_type": "code",
   "execution_count": null,
   "id": "4ebff4d0",
   "metadata": {},
   "outputs": [],
   "source": [
    "Find out all possible three-digit TRIODE Numbers. Let x be a TRIODE Number,\n",
    "then x, 2*x and 3*x will have all distinct digits. \n",
    "As example,\n",
    "if x = 219, then 2*x = 438 and 3*x = 657 (All digits are distinct)\n",
    "if x = 192, then 2*x = 384 and 3*x = 576 (All digits are distinct)"
   ]
  },
  {
   "cell_type": "code",
   "execution_count": null,
   "id": "b507e797",
   "metadata": {},
   "outputs": [],
   "source": [
    "x => 3\n",
    "2 * x => 3    4\n",
    "3 * x => 3,4  4\n",
    "\n",
    "102 to 498"
   ]
  },
  {
   "cell_type": "code",
   "execution_count": 41,
   "id": "e69b3f6f",
   "metadata": {},
   "outputs": [
    {
     "name": "stdout",
     "output_type": "stream",
     "text": [
      "192 384 576 [2, 9, 1, 4, 8, 3, 6, 7, 5]\n",
      "219 438 657 [9, 1, 2, 8, 3, 4, 7, 5, 6]\n",
      "267 534 801 [7, 6, 2, 4, 3, 5, 1, 0, 8]\n",
      "273 546 819 [3, 7, 2, 6, 4, 5, 9, 1, 8]\n",
      "327 654 981 [7, 2, 3, 4, 5, 6, 1, 8, 9]\n",
      "End of the program...\n"
     ]
    }
   ],
   "source": [
    "for x in range(102, 499):\n",
    "    digit_trace = []\n",
    "    for n in range(1, 4):\n",
    "        num = n * x\n",
    "        while (num != 0):\n",
    "            last_digit = num % 10\n",
    "            if (last_digit not in digit_trace):\n",
    "                digit_trace.append(last_digit)\n",
    "            else:\n",
    "                break\n",
    "            num = num // 10\n",
    "        if (num != 0): break\n",
    "    if (num == 0): print (x, 2*x, 3*x, digit_trace)\n",
    "print (\"End of the program...\")"
   ]
  },
  {
   "cell_type": "code",
   "execution_count": null,
   "id": "8bb1dfa4",
   "metadata": {},
   "outputs": [],
   "source": []
  },
  {
   "cell_type": "code",
   "execution_count": null,
   "id": "742b3d5c",
   "metadata": {},
   "outputs": [],
   "source": []
  },
  {
   "cell_type": "code",
   "execution_count": null,
   "id": "954e4a1a",
   "metadata": {},
   "outputs": [],
   "source": []
  },
  {
   "cell_type": "code",
   "execution_count": null,
   "id": "d033e602",
   "metadata": {},
   "outputs": [],
   "source": []
  },
  {
   "cell_type": "code",
   "execution_count": null,
   "id": "0210daaa",
   "metadata": {},
   "outputs": [],
   "source": []
  },
  {
   "cell_type": "code",
   "execution_count": null,
   "id": "f75631aa",
   "metadata": {},
   "outputs": [],
   "source": []
  },
  {
   "cell_type": "code",
   "execution_count": null,
   "id": "8a84f331",
   "metadata": {},
   "outputs": [],
   "source": []
  },
  {
   "cell_type": "code",
   "execution_count": null,
   "id": "db2238e7",
   "metadata": {},
   "outputs": [],
   "source": []
  },
  {
   "cell_type": "code",
   "execution_count": null,
   "id": "0eb5e0f1",
   "metadata": {},
   "outputs": [],
   "source": []
  },
  {
   "cell_type": "code",
   "execution_count": null,
   "id": "d72f6401",
   "metadata": {},
   "outputs": [],
   "source": []
  },
  {
   "cell_type": "code",
   "execution_count": null,
   "id": "1aeb27dd",
   "metadata": {},
   "outputs": [],
   "source": []
  },
  {
   "cell_type": "code",
   "execution_count": null,
   "id": "ce7628b7",
   "metadata": {},
   "outputs": [],
   "source": []
  }
 ],
 "metadata": {
  "kernelspec": {
   "display_name": "Python 3 (ipykernel)",
   "language": "python",
   "name": "python3"
  },
  "language_info": {
   "codemirror_mode": {
    "name": "ipython",
    "version": 3
   },
   "file_extension": ".py",
   "mimetype": "text/x-python",
   "name": "python",
   "nbconvert_exporter": "python",
   "pygments_lexer": "ipython3",
   "version": "3.10.9"
  }
 },
 "nbformat": 4,
 "nbformat_minor": 5
}
