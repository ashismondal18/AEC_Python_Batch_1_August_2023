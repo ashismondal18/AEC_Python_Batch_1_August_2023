{
 "cells": [
  {
   "cell_type": "markdown",
   "id": "0056eb7b-3805-4f5e-bc45-510d4af32dc9",
   "metadata": {},
   "source": [
    "## **Object Oriented Programming Using Python**"
   ]
  },
  {
   "cell_type": "code",
   "execution_count": 4,
   "id": "f7a050db-3668-4b34-9c0c-62102cbe93bb",
   "metadata": {},
   "outputs": [
    {
     "ename": "IndentationError",
     "evalue": "expected an indented block after class definition on line 3 (4065222635.py, line 5)",
     "output_type": "error",
     "traceback": [
      "\u001b[1;36m  Cell \u001b[1;32mIn[4], line 5\u001b[1;36m\u001b[0m\n\u001b[1;33m    ob1 = MyFirstClass()\u001b[0m\n\u001b[1;37m    ^\u001b[0m\n\u001b[1;31mIndentationError\u001b[0m\u001b[1;31m:\u001b[0m expected an indented block after class definition on line 3\n"
     ]
    }
   ],
   "source": [
    "# a python class can not have empty body\n",
    "# it must have a pass statement or a document string (i.e. doc string)\n",
    "class MyFirstClass:\n",
    "    pass\n",
    "ob1 = MyFirstClass()"
   ]
  },
  {
   "cell_type": "code",
   "execution_count": 2,
   "id": "fea10d9a-1ad3-4bfc-9554-e1d4f511cda6",
   "metadata": {},
   "outputs": [
    {
     "name": "stdout",
     "output_type": "stream",
     "text": [
      "This is a\n",
      "    document string\n",
      "    or a doc string, which \n",
      "    contains the definition of the class\n",
      "This is a\n",
      "    document string\n",
      "    or a doc string, which \n",
      "    contains the definition of the class\n"
     ]
    }
   ],
   "source": [
    "class MyFirstClass:\n",
    "    \"\"\"This is a\n",
    "    document string\n",
    "    or a doc string, which \n",
    "    contains the definition of the class\"\"\"\n",
    "ob1 = MyFirstClass()   # instantiating an object of the class\n",
    "print (MyFirstClass.__doc__)\n",
    "print (ob1.__doc__)"
   ]
  },
  {
   "cell_type": "code",
   "execution_count": 5,
   "id": "24423a1b-0d36-4ee4-98c7-96142fdd427e",
   "metadata": {},
   "outputs": [
    {
     "name": "stdout",
     "output_type": "stream",
     "text": [
      "str(object='') -> str\n",
      "str(bytes_or_buffer[, encoding[, errors]]) -> str\n",
      "\n",
      "Create a new string object from the given object. If encoding or\n",
      "errors is specified, then the object must expose a data buffer\n",
      "that will be decoded using the given encoding and error handler.\n",
      "Otherwise, returns the result of object.__str__() (if defined)\n",
      "or repr(object).\n",
      "encoding defaults to sys.getdefaultencoding().\n",
      "errors defaults to 'strict'.\n"
     ]
    }
   ],
   "source": [
    "print (str.__doc__)"
   ]
  },
  {
   "cell_type": "code",
   "execution_count": 6,
   "id": "45274927-b3f0-4508-9e16-b89321bfe0c2",
   "metadata": {},
   "outputs": [
    {
     "name": "stdout",
     "output_type": "stream",
     "text": [
      "int([x]) -> integer\n",
      "int(x, base=10) -> integer\n",
      "\n",
      "Convert a number or string to an integer, or return 0 if no arguments\n",
      "are given.  If x is a number, return x.__int__().  For floating point\n",
      "numbers, this truncates towards zero.\n",
      "\n",
      "If x is not a number or if base is given, then x must be a string,\n",
      "bytes, or bytearray instance representing an integer literal in the\n",
      "given base.  The literal can be preceded by '+' or '-' and be surrounded\n",
      "by whitespace.  The base defaults to 10.  Valid bases are 0 and 2-36.\n",
      "Base 0 means to interpret the base from the string as an integer literal.\n",
      ">>> int('0b100', base=0)\n",
      "4\n"
     ]
    }
   ],
   "source": [
    "print (int.__doc__)"
   ]
  },
  {
   "cell_type": "code",
   "execution_count": 7,
   "id": "1669b3cb-fe2c-46c1-86af-c97672a44665",
   "metadata": {},
   "outputs": [
    {
     "name": "stdout",
     "output_type": "stream",
     "text": [
      "bool(x) -> bool\n",
      "\n",
      "Returns True when the argument x is true, False otherwise.\n",
      "The builtins True and False are the only two instances of the class bool.\n",
      "The class bool is a subclass of the class int, and cannot be subclassed.\n"
     ]
    }
   ],
   "source": [
    "print (bool.__doc__)"
   ]
  },
  {
   "cell_type": "code",
   "execution_count": null,
   "id": "cd160f2f-2d33-453f-b583-d5d2583b2971",
   "metadata": {},
   "outputs": [],
   "source": [
    "print (list.__doc__)\n",
    "print (help(list))"
   ]
  },
  {
   "cell_type": "code",
   "execution_count": 20,
   "id": "e26a3d09-7a32-4b4f-be46-9945fbe58b69",
   "metadata": {},
   "outputs": [
    {
     "name": "stdout",
     "output_type": "stream",
     "text": [
      "Executing the constructor method... <__main__.MyClass object at 0x0000023479DB41C0>\n",
      "Executing the display method...\n",
      "Class variable class_var1 = 100 and 100...\n",
      "Instance variable inst_var1 = 111...\n",
      "This is a document string...\n",
      "This is a document string...\n"
     ]
    }
   ],
   "source": [
    "class MyClass:\n",
    "    \"\"\"This is a document string...\"\"\"\n",
    "    class_var1 = 100   # class/static variable\n",
    "    def __init__(self, data1):    # self is an object binding variable\n",
    "        print (\"Executing the constructor method...\", self)\n",
    "        self.inst_var1 = data1    # instance variable\n",
    "    def display(self):\n",
    "        print (\"Executing the display method...\")\n",
    "        print (f\"Class variable class_var1 = {self.class_var1} and {MyClass.class_var1}...\")\n",
    "        print (f\"Instance variable inst_var1 = {self.inst_var1}...\")\n",
    "        \n",
    "ob1 = MyClass(111)\n",
    "ob1.display()\n",
    "print (ob1.__doc__)\n",
    "print (MyClass.__doc__)"
   ]
  },
  {
   "cell_type": "code",
   "execution_count": 22,
   "id": "0cbf3bcf-7ee5-4fc3-a6b3-4a2ec6765e81",
   "metadata": {},
   "outputs": [
    {
     "name": "stdout",
     "output_type": "stream",
     "text": [
      "Executing the constructor method... <__main__.MyClass object at 0x0000023479E43BE0>\n",
      "Executing the display method...\n",
      "Class variable class_var1 = 100 and 100...\n",
      "Instance variable inst_var1 = 111...\n",
      "This is a document string...\n",
      "This is a document string...\n",
      "Updating the static variable...\n",
      "\n",
      "Executing the constructor method... <__main__.MyClass object at 0x00000234799BD180>\n",
      "Executing the display method...\n",
      "Class variable class_var1 = 1100 and 1100...\n",
      "Instance variable inst_var1 = 222...\n"
     ]
    }
   ],
   "source": [
    "class MyClass:\n",
    "    \"\"\"This is a document string...\"\"\"\n",
    "    class_var1 = 100   # class/static variable\n",
    "    def __init__(self, data1):    # self is an object binding variable\n",
    "        print (\"Executing the constructor method...\", self)\n",
    "        self.inst_var1 = data1    # instance variable\n",
    "    def display(self):\n",
    "        print (\"Executing the display method...\")\n",
    "        print (f\"Class variable class_var1 = {self.class_var1} and {MyClass.class_var1}...\")\n",
    "        print (f\"Instance variable inst_var1 = {self.inst_var1}...\")\n",
    "    def update(self):\n",
    "        print (\"Updating the static variable...\")\n",
    "        MyClass.class_var1 += 1000\n",
    "        \n",
    "ob1 = MyClass(111)\n",
    "ob1.display()\n",
    "print (ob1.__doc__)\n",
    "print (MyClass.__doc__)\n",
    "ob1.update()\n",
    "print ()\n",
    "ob2 = MyClass(222)\n",
    "ob2.display()"
   ]
  },
  {
   "cell_type": "code",
   "execution_count": null,
   "id": "f016dddb-6f04-4a97-9749-6d2e58975e01",
   "metadata": {},
   "outputs": [],
   "source": []
  },
  {
   "cell_type": "code",
   "execution_count": null,
   "id": "fb42a34d-8e17-44b3-a5d5-5d04dc47a1a5",
   "metadata": {},
   "outputs": [],
   "source": []
  },
  {
   "cell_type": "code",
   "execution_count": null,
   "id": "fe759040-e405-44ea-8c44-4e2ac09d307d",
   "metadata": {},
   "outputs": [],
   "source": []
  },
  {
   "cell_type": "code",
   "execution_count": null,
   "id": "3c1db51c-a495-4120-9740-c72ec2239d96",
   "metadata": {},
   "outputs": [],
   "source": []
  },
  {
   "cell_type": "code",
   "execution_count": null,
   "id": "8b605557-dd86-4298-a573-d27989782824",
   "metadata": {},
   "outputs": [],
   "source": []
  },
  {
   "cell_type": "code",
   "execution_count": null,
   "id": "ed1dfa94-5c2d-47c2-8a41-adaf003c2275",
   "metadata": {},
   "outputs": [],
   "source": []
  },
  {
   "cell_type": "code",
   "execution_count": null,
   "id": "5e076816-5e03-4d10-8025-b32fa3357190",
   "metadata": {},
   "outputs": [],
   "source": []
  }
 ],
 "metadata": {
  "kernelspec": {
   "display_name": "Python 3 (ipykernel)",
   "language": "python",
   "name": "python3"
  },
  "language_info": {
   "codemirror_mode": {
    "name": "ipython",
    "version": 3
   },
   "file_extension": ".py",
   "mimetype": "text/x-python",
   "name": "python",
   "nbconvert_exporter": "python",
   "pygments_lexer": "ipython3",
   "version": "3.10.9"
  }
 },
 "nbformat": 4,
 "nbformat_minor": 5
}
